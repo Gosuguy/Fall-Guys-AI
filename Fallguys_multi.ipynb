{
  "cells": [
    {
      "cell_type": "code",
      "execution_count": null,
      "metadata": {
        "colab": {
          "base_uri": "https://localhost:8080/"
        },
        "id": "M3tWOHuRzg4k",
        "outputId": "2cdc8a53-20db-4bd5-9d85-4542fda1c755"
      },
      "outputs": [
        {
          "output_type": "stream",
          "name": "stdout",
          "text": [
            "\u001b[K     |████████████████████████████████| 720 kB 8.6 MB/s \n",
            "\u001b[K     |████████████████████████████████| 1.2 MB 16.3 MB/s \n",
            "\u001b[K     |████████████████████████████████| 189 kB 31.7 MB/s \n",
            "\u001b[K     |████████████████████████████████| 48 kB 2.9 MB/s \n",
            "\u001b[K     |████████████████████████████████| 55 kB 1.6 MB/s \n",
            "\u001b[K     |████████████████████████████████| 51 kB 105 kB/s \n",
            "\u001b[K     |████████████████████████████████| 561 kB 40.1 MB/s \n",
            "\u001b[K     |████████████████████████████████| 130 kB 22.5 MB/s \n",
            "\u001b[?25hMounted at /content/gdrive\n"
          ]
        }
      ],
      "source": [
        "#hide\n",
        "!pip install -Uqq fastbook\n",
        "import fastbook\n",
        "fastbook.setup_book()"
      ]
    },
    {
      "cell_type": "code",
      "execution_count": null,
      "metadata": {
        "id": "i7_QyUCxzg4n"
      },
      "outputs": [],
      "source": [
        "#hide\n",
        "from fastbook import *\n",
        "from fastai.vision.all import *"
      ]
    },
    {
      "cell_type": "code",
      "source": [
        "import fastai"
      ],
      "metadata": {
        "id": "Q-KizGf8cnw1"
      },
      "execution_count": null,
      "outputs": []
    },
    {
      "cell_type": "code",
      "source": [
        "!pip show pytorch"
      ],
      "metadata": {
        "colab": {
          "base_uri": "https://localhost:8080/"
        },
        "id": "bfv378s72_E0",
        "outputId": "a6f5bb65-ab28-4628-8b88-e5d2130c7c01"
      },
      "execution_count": null,
      "outputs": [
        {
          "output_type": "stream",
          "name": "stdout",
          "text": [
            "\u001b[33mWARNING: Package(s) not found: pytorch\u001b[0m\n"
          ]
        }
      ]
    },
    {
      "cell_type": "code",
      "source": [
        "!pip show torch"
      ],
      "metadata": {
        "colab": {
          "base_uri": "https://localhost:8080/"
        },
        "id": "3HiD_slp3Ark",
        "outputId": "3af47655-b0d9-4b23-ea7f-e061fb1c989c"
      },
      "execution_count": null,
      "outputs": [
        {
          "output_type": "stream",
          "name": "stdout",
          "text": [
            "Name: torch\n",
            "Version: 1.10.0+cu111\n",
            "Summary: Tensors and Dynamic neural networks in Python with strong GPU acceleration\n",
            "Home-page: https://pytorch.org/\n",
            "Author: PyTorch Team\n",
            "Author-email: packages@pytorch.org\n",
            "License: BSD-3\n",
            "Location: /usr/local/lib/python3.7/dist-packages\n",
            "Requires: typing-extensions\n",
            "Required-by: torchvision, torchtext, torchaudio, fastai\n"
          ]
        }
      ]
    },
    {
      "cell_type": "code",
      "source": [
        "!python --version"
      ],
      "metadata": {
        "colab": {
          "base_uri": "https://localhost:8080/"
        },
        "id": "jYj1CkmqI1Hc",
        "outputId": "b24ba505-2340-46e9-82cc-db2d633e82f7"
      },
      "execution_count": null,
      "outputs": [
        {
          "output_type": "stream",
          "name": "stdout",
          "text": [
            "Python 3.7.12\n"
          ]
        }
      ]
    },
    {
      "cell_type": "code",
      "execution_count": null,
      "metadata": {
        "id": "cUoF3t_a4FiI"
      },
      "outputs": [],
      "source": [
        "#hide\n",
        "path = Path('/content/gdrive/MyDrive/Colab Notebooks/FallGuys')"
      ]
    },
    {
      "cell_type": "code",
      "execution_count": null,
      "metadata": {
        "id": "S2-I4ZAUzg4s"
      },
      "outputs": [],
      "source": [
        "path.ls()"
      ]
    },
    {
      "cell_type": "code",
      "execution_count": null,
      "metadata": {
        "id": "FnhE7guVzg4t"
      },
      "outputs": [],
      "source": [
        "(path/\"Big Fans\").ls()"
      ]
    },
    {
      "cell_type": "code",
      "execution_count": null,
      "metadata": {
        "id": "VHAnUu8m4gfd"
      },
      "outputs": [],
      "source": [
        "def get_y(r): return parent_label(r).split(' ')"
      ]
    },
    {
      "cell_type": "code",
      "execution_count": null,
      "metadata": {
        "id": "wYCiZXdjzg4v"
      },
      "outputs": [],
      "source": [
        "actions = DataBlock(blocks = (ImageBlock, MultiCategoryBlock), \n",
        "                 get_items=get_image_files, \n",
        "                 splitter=RandomSplitter(seed=42), # Need to try with data aug later\n",
        "                 get_y=get_y)\n",
        "dlsBF = actions.dataloaders(path/\"Big Fans\")\n",
        "\n",
        "# Original single-cat:\n",
        "# actions = DataBlock(blocks = (ImageBlock, CategoryBlock), \n",
        "#                  get_items=get_image_files, \n",
        "#                  splitter=RandomSplitter(seed=42), # Need to try with data aug later\n",
        "#                  get_y=parent_label)\n",
        "# dlsBF = actions.dataloaders(path/\"Big Fans\")"
      ]
    },
    {
      "cell_type": "code",
      "source": [
        "dlsBF.train.vocab"
      ],
      "metadata": {
        "colab": {
          "base_uri": "https://localhost:8080/"
        },
        "id": "lg-QT_MjiwWo",
        "outputId": "1397348b-7dda-4668-a9ab-aa80968c0a08"
      },
      "execution_count": null,
      "outputs": [
        {
          "output_type": "execute_result",
          "data": {
            "text/plain": [
              "['Dive', 'Down', 'Jump', 'Left', 'Nothing', 'Right', 'Up']"
            ]
          },
          "metadata": {},
          "execution_count": 8
        }
      ]
    },
    {
      "cell_type": "markdown",
      "metadata": {
        "id": "kNWw_r4xzg4x"
      },
      "source": [
        "### Checking and Debugging a DataBlock"
      ]
    },
    {
      "cell_type": "code",
      "execution_count": null,
      "metadata": {
        "colab": {
          "base_uri": "https://localhost:8080/",
          "height": 195
        },
        "id": "MOAIq72Yzg4y",
        "outputId": "2fc889b2-4a4d-48ae-a1bb-bcde05072ab0"
      },
      "outputs": [
        {
          "data": {
            "image/png": "[encoded data removed]",
            "text/plain": [
              "<Figure size 648x216 with 3 Axes>"
            ]
          },
          "metadata": {},
          "output_type": "display_data"
        }
      ],
      "source": [
        "dlsBF.show_batch(nrows=1, ncols=3)"
      ]
    },
    {
      "cell_type": "code",
      "execution_count": null,
      "metadata": {
        "colab": {
          "base_uri": "https://localhost:8080/"
        },
        "id": "eursffUO6gns",
        "outputId": "9c0696b0-6fba-4d2b-fa14-2ed71797c5fa"
      },
      "outputs": [
        {
          "data": {
            "text/plain": [
              "(PILImage mode=RGB size=224x224,\n",
              " TensorMultiCategory([0., 0., 0., 0., 0., 1., 1.]))"
            ]
          },
          "execution_count": 9,
          "metadata": {},
          "output_type": "execute_result"
        }
      ],
      "source": [
        "dsets = actions.datasets(path/\"Big Fans\")\n",
        "dsets.train[0] # Left Right Down Up Jump Dive Nothing (not in that order)"
      ]
    },
    {
      "cell_type": "code",
      "execution_count": null,
      "metadata": {
        "id": "NaGNQ0sbl3m9"
      },
      "outputs": [],
      "source": [
        "learn = cnn_learner(dlsBF, resnet18)"
      ]
    },
    {
      "cell_type": "code",
      "execution_count": null,
      "metadata": {
        "id": "A0BFVoizlEqI"
      },
      "outputs": [],
      "source": [
        "x,y = dlsBF.train.one_batch()\n",
        "learn.cuda()"
      ]
    },
    {
      "cell_type": "code",
      "execution_count": null,
      "metadata": {
        "colab": {
          "base_uri": "https://localhost:8080/"
        },
        "id": "AQ-pSWrmnEPP",
        "outputId": "a3e219a7-47c7-4bf6-cb01-80ceeeefc8f3"
      },
      "outputs": [
        {
          "data": {
            "text/plain": [
              "torch.Size([64, 7])"
            ]
          },
          "execution_count": 24,
          "metadata": {},
          "output_type": "execute_result"
        }
      ],
      "source": [
        "activs = learn.model(x)\n",
        "activs.shape"
      ]
    },
    {
      "cell_type": "code",
      "execution_count": null,
      "metadata": {
        "colab": {
          "base_uri": "https://localhost:8080/"
        },
        "id": "BQKzFTRMqSW1",
        "outputId": "db72b6a4-5a65-439d-8880-e15998b18bf2"
      },
      "outputs": [
        {
          "data": {
            "text/plain": [
              "TensorBase([-1.2861, -1.3594,  0.1660, -2.4108,  1.5459, -3.7574, -1.7529], device='cuda:0', grad_fn=<AliasBackward0>)"
            ]
          },
          "execution_count": 25,
          "metadata": {},
          "output_type": "execute_result"
        }
      ],
      "source": [
        "activs[0] # pretrained model with random activations"
      ]
    },
    {
      "cell_type": "markdown",
      "metadata": {
        "id": "BOUbRQ06vyBF"
      },
      "source": [
        "### Initial Training"
      ]
    },
    {
      "cell_type": "code",
      "execution_count": null,
      "metadata": {
        "colab": {
          "base_uri": "https://localhost:8080/",
          "height": 301
        },
        "id": "v1C9AhNWLWZ4",
        "outputId": "1f68cb01-9a7a-4642-9c1f-c8175a2c001f"
      },
      "outputs": [
        {
          "data": {
            "text/html": [
              "\n",
              "<style>\n",
              "    /* Turns off some styling */\n",
              "    progress {\n",
              "        /* gets rid of default border in Firefox and Opera. */\n",
              "        border: none;\n",
              "        /* Needs to be in here for Safari polyfill so background images work as expected. */\n",
              "        background-size: auto;\n",
              "    }\n",
              "    .progress-bar-interrupted, .progress-bar-interrupted::-webkit-progress-bar {\n",
              "        background: #F44336;\n",
              "    }\n",
              "</style>\n"
            ],
            "text/plain": [
              "<IPython.core.display.HTML object>"
            ]
          },
          "metadata": {},
          "output_type": "display_data"
        },
        {
          "data": {
            "text/html": [
              ""
            ],
            "text/plain": [
              "<IPython.core.display.HTML object>"
            ]
          },
          "metadata": {},
          "output_type": "display_data"
        },
        {
          "data": {
            "text/plain": [
              "SuggestedLRs(valley=0.001737800776027143)"
            ]
          },
          "execution_count": 29,
          "metadata": {},
          "output_type": "execute_result"
        },
        {
          "data": {
            "image/png": "[encoded data removed]",
            "text/plain": [
              "<Figure size 432x288 with 1 Axes>"
            ]
          },
          "metadata": {},
          "output_type": "display_data"
        }
      ],
      "source": [
        "# learn = cnn_learner(dlsBF, resnet34, metrics=error_rate)\n",
        "learn = load_learner(Path(path/'General.pkl'))\n",
        "learn.save('General')\n",
        "learnTest = cnn_learner(dlsBF, resnet50, metrics=partial(accuracy_multi, thresh=0.2))\n",
        "# learnTest.load('General')\n",
        "learnTest.lr_find()"
      ]
    },
    {
      "cell_type": "code",
      "execution_count": null,
      "metadata": {
        "colab": {
          "base_uri": "https://localhost:8080/",
          "height": 145
        },
        "id": "0HE6cdDVzg4y",
        "outputId": "2c216831-a5c4-4b6f-fd76-a0b224a47322"
      },
      "outputs": [
        {
          "data": {
            "text/html": [
              "\n",
              "<style>\n",
              "    /* Turns off some styling */\n",
              "    progress {\n",
              "        /* gets rid of default border in Firefox and Opera. */\n",
              "        border: none;\n",
              "        /* Needs to be in here for Safari polyfill so background images work as expected. */\n",
              "        background-size: auto;\n",
              "    }\n",
              "    .progress-bar-interrupted, .progress-bar-interrupted::-webkit-progress-bar {\n",
              "        background: #F44336;\n",
              "    }\n",
              "</style>\n"
            ],
            "text/plain": [
              "<IPython.core.display.HTML object>"
            ]
          },
          "metadata": {},
          "output_type": "display_data"
        },
        {
          "data": {
            "text/html": [
              "<table border=\"1\" class=\"dataframe\">\n",
              "  <thead>\n",
              "    <tr style=\"text-align: left;\">\n",
              "      <th>epoch</th>\n",
              "      <th>train_loss</th>\n",
              "      <th>valid_loss</th>\n",
              "      <th>accuracy_multi</th>\n",
              "      <th>time</th>\n",
              "    </tr>\n",
              "  </thead>\n",
              "  <tbody>\n",
              "    <tr>\n",
              "      <td>0</td>\n",
              "      <td>0.237132</td>\n",
              "      <td>0.214494</td>\n",
              "      <td>0.867229</td>\n",
              "      <td>43:31</td>\n",
              "    </tr>\n",
              "  </tbody>\n",
              "</table>"
            ],
            "text/plain": [
              "<IPython.core.display.HTML object>"
            ]
          },
          "metadata": {},
          "output_type": "display_data"
        },
        {
          "data": {
            "text/html": [
              "\n",
              "<style>\n",
              "    /* Turns off some styling */\n",
              "    progress {\n",
              "        /* gets rid of default border in Firefox and Opera. */\n",
              "        border: none;\n",
              "        /* Needs to be in here for Safari polyfill so background images work as expected. */\n",
              "        background-size: auto;\n",
              "    }\n",
              "    .progress-bar-interrupted, .progress-bar-interrupted::-webkit-progress-bar {\n",
              "        background: #F44336;\n",
              "    }\n",
              "</style>\n"
            ],
            "text/plain": [
              "<IPython.core.display.HTML object>"
            ]
          },
          "metadata": {},
          "output_type": "display_data"
        },
        {
          "data": {
            "text/html": [
              "<table border=\"1\" class=\"dataframe\">\n",
              "  <thead>\n",
              "    <tr style=\"text-align: left;\">\n",
              "      <th>epoch</th>\n",
              "      <th>train_loss</th>\n",
              "      <th>valid_loss</th>\n",
              "      <th>accuracy_multi</th>\n",
              "      <th>time</th>\n",
              "    </tr>\n",
              "  </thead>\n",
              "  <tbody>\n",
              "    <tr>\n",
              "      <td>0</td>\n",
              "      <td>0.180695</td>\n",
              "      <td>0.162105</td>\n",
              "      <td>0.915562</td>\n",
              "      <td>02:49</td>\n",
              "    </tr>\n",
              "  </tbody>\n",
              "</table>"
            ],
            "text/plain": [
              "<IPython.core.display.HTML object>"
            ]
          },
          "metadata": {},
          "output_type": "display_data"
        }
      ],
      "source": [
        "learn =  cnn_learner(dlsBF, resnet50, metrics=partial(accuracy_multi, thresh=0.2))\n",
        "learn.fine_tune(1, base_lr=3e-2) # no loss function in learner. Fastai picks default loss. Which is cross entropy loss for classification"
      ]
    },
    {
      "cell_type": "code",
      "execution_count": null,
      "metadata": {
        "id": "AYQWHy5lWkiw"
      },
      "outputs": [],
      "source": [
        "learn.export(Path(path/'GeneralMulti.pkl'))"
      ]
    },
    {
      "cell_type": "code",
      "execution_count": null,
      "metadata": {
        "colab": {
          "base_uri": "https://localhost:8080/"
        },
        "id": "zbkq9S3SslSa",
        "outputId": "929643d4-e5b1-4896-99f7-f805198fca4a"
      },
      "outputs": [
        {
          "data": {
            "text/plain": [
              "Path('models/BF.pth')"
            ]
          },
          "execution_count": 32,
          "metadata": {},
          "output_type": "execute_result"
        }
      ],
      "source": [
        "learn = load_learner(Path(path/'GeneralMulti.pkl'))\n",
        "learn.save('BF')"
      ]
    },
    {
      "cell_type": "code",
      "execution_count": null,
      "metadata": {
        "colab": {
          "base_uri": "https://localhost:8080/",
          "height": 181
        },
        "id": "51Wonw3ptl8r",
        "outputId": "96192587-ab02-46fc-e10f-db4c42b5e64e"
      },
      "outputs": [
        {
          "name": "stderr",
          "output_type": "stream",
          "text": [
            "/usr/local/lib/python3.7/dist-packages/fastai/learner.py:56: UserWarning: Saved filed doesn't contain an optimizer state.\n",
            "  elif with_opt: warn(\"Saved filed doesn't contain an optimizer state.\")\n"
          ]
        },
        {
          "data": {
            "text/html": [
              "\n",
              "<style>\n",
              "    /* Turns off some styling */\n",
              "    progress {\n",
              "        /* gets rid of default border in Firefox and Opera. */\n",
              "        border: none;\n",
              "        /* Needs to be in here for Safari polyfill so background images work as expected. */\n",
              "        background-size: auto;\n",
              "    }\n",
              "    .progress-bar-interrupted, .progress-bar-interrupted::-webkit-progress-bar {\n",
              "        background: #F44336;\n",
              "    }\n",
              "</style>\n"
            ],
            "text/plain": [
              "<IPython.core.display.HTML object>"
            ]
          },
          "metadata": {},
          "output_type": "display_data"
        },
        {
          "data": {
            "text/html": [
              "<table border=\"1\" class=\"dataframe\">\n",
              "  <thead>\n",
              "    <tr style=\"text-align: left;\">\n",
              "      <th>epoch</th>\n",
              "      <th>train_loss</th>\n",
              "      <th>valid_loss</th>\n",
              "      <th>accuracy_multi</th>\n",
              "      <th>time</th>\n",
              "    </tr>\n",
              "  </thead>\n",
              "  <tbody>\n",
              "    <tr>\n",
              "      <td>0</td>\n",
              "      <td>0.202095</td>\n",
              "      <td>0.181770</td>\n",
              "      <td>0.908628</td>\n",
              "      <td>15:53</td>\n",
              "    </tr>\n",
              "  </tbody>\n",
              "</table>"
            ],
            "text/plain": [
              "<IPython.core.display.HTML object>"
            ]
          },
          "metadata": {},
          "output_type": "display_data"
        },
        {
          "data": {
            "text/html": [
              "\n",
              "<style>\n",
              "    /* Turns off some styling */\n",
              "    progress {\n",
              "        /* gets rid of default border in Firefox and Opera. */\n",
              "        border: none;\n",
              "        /* Needs to be in here for Safari polyfill so background images work as expected. */\n",
              "        background-size: auto;\n",
              "    }\n",
              "    .progress-bar-interrupted, .progress-bar-interrupted::-webkit-progress-bar {\n",
              "        background: #F44336;\n",
              "    }\n",
              "</style>\n"
            ],
            "text/plain": [
              "<IPython.core.display.HTML object>"
            ]
          },
          "metadata": {},
          "output_type": "display_data"
        },
        {
          "data": {
            "text/html": [
              "<table border=\"1\" class=\"dataframe\">\n",
              "  <thead>\n",
              "    <tr style=\"text-align: left;\">\n",
              "      <th>epoch</th>\n",
              "      <th>train_loss</th>\n",
              "      <th>valid_loss</th>\n",
              "      <th>accuracy_multi</th>\n",
              "      <th>time</th>\n",
              "    </tr>\n",
              "  </thead>\n",
              "  <tbody>\n",
              "    <tr>\n",
              "      <td>0</td>\n",
              "      <td>0.159322</td>\n",
              "      <td>0.152877</td>\n",
              "      <td>0.918085</td>\n",
              "      <td>00:53</td>\n",
              "    </tr>\n",
              "  </tbody>\n",
              "</table>"
            ],
            "text/plain": [
              "<IPython.core.display.HTML object>"
            ]
          },
          "metadata": {},
          "output_type": "display_data"
        }
      ],
      "source": [
        "dlsDH = actions.dataloaders(path/\"Dizzy Heights\")\n",
        "learnDH = cnn_learner(dlsDH, resnet50, metrics=partial(accuracy_multi, thresh=0.2))\n",
        "learnDH.load('BF')\n",
        "learnDH.fine_tune(1)"
      ]
    },
    {
      "cell_type": "code",
      "execution_count": null,
      "metadata": {
        "colab": {
          "base_uri": "https://localhost:8080/",
          "height": 145
        },
        "id": "WStIBLqktmjp",
        "outputId": "6c901f72-7a88-4fb2-f07c-f7dbc2445e8c"
      },
      "outputs": [
        {
          "data": {
            "text/html": [
              "\n",
              "<style>\n",
              "    /* Turns off some styling */\n",
              "    progress {\n",
              "        /* gets rid of default border in Firefox and Opera. */\n",
              "        border: none;\n",
              "        /* Needs to be in here for Safari polyfill so background images work as expected. */\n",
              "        background-size: auto;\n",
              "    }\n",
              "    .progress-bar-interrupted, .progress-bar-interrupted::-webkit-progress-bar {\n",
              "        background: #F44336;\n",
              "    }\n",
              "</style>\n"
            ],
            "text/plain": [
              "<IPython.core.display.HTML object>"
            ]
          },
          "metadata": {},
          "output_type": "display_data"
        },
        {
          "data": {
            "text/html": [
              "<table border=\"1\" class=\"dataframe\">\n",
              "  <thead>\n",
              "    <tr style=\"text-align: left;\">\n",
              "      <th>epoch</th>\n",
              "      <th>train_loss</th>\n",
              "      <th>valid_loss</th>\n",
              "      <th>accuracy_multi</th>\n",
              "      <th>time</th>\n",
              "    </tr>\n",
              "  </thead>\n",
              "  <tbody>\n",
              "    <tr>\n",
              "      <td>0</td>\n",
              "      <td>0.141654</td>\n",
              "      <td>0.127855</td>\n",
              "      <td>0.952160</td>\n",
              "      <td>25:23</td>\n",
              "    </tr>\n",
              "  </tbody>\n",
              "</table>"
            ],
            "text/plain": [
              "<IPython.core.display.HTML object>"
            ]
          },
          "metadata": {},
          "output_type": "display_data"
        },
        {
          "data": {
            "text/html": [
              "\n",
              "<style>\n",
              "    /* Turns off some styling */\n",
              "    progress {\n",
              "        /* gets rid of default border in Firefox and Opera. */\n",
              "        border: none;\n",
              "        /* Needs to be in here for Safari polyfill so background images work as expected. */\n",
              "        background-size: auto;\n",
              "    }\n",
              "    .progress-bar-interrupted, .progress-bar-interrupted::-webkit-progress-bar {\n",
              "        background: #F44336;\n",
              "    }\n",
              "</style>\n"
            ],
            "text/plain": [
              "<IPython.core.display.HTML object>"
            ]
          },
          "metadata": {},
          "output_type": "display_data"
        },
        {
          "data": {
            "text/html": [
              "<table border=\"1\" class=\"dataframe\">\n",
              "  <thead>\n",
              "    <tr style=\"text-align: left;\">\n",
              "      <th>epoch</th>\n",
              "      <th>train_loss</th>\n",
              "      <th>valid_loss</th>\n",
              "      <th>accuracy_multi</th>\n",
              "      <th>time</th>\n",
              "    </tr>\n",
              "  </thead>\n",
              "  <tbody>\n",
              "    <tr>\n",
              "      <td>0</td>\n",
              "      <td>0.113180</td>\n",
              "      <td>0.094413</td>\n",
              "      <td>0.953263</td>\n",
              "      <td>00:59</td>\n",
              "    </tr>\n",
              "  </tbody>\n",
              "</table>"
            ],
            "text/plain": [
              "<IPython.core.display.HTML object>"
            ]
          },
          "metadata": {},
          "output_type": "display_data"
        }
      ],
      "source": [
        "+\n",
        "learnDH.save('DH')\n",
        "learnDH.export(Path(path/'GeneralMulti.pkl'))\n",
        "dlsDD = actions.dataloaders(path/\"Door Dash\")\n",
        "learnDD = cnn_learner(dlsDD, resnet50, metrics=partial(accuracy_multi, thresh=0.2))\n",
        "learnDD.load('DH')\n",
        "learnDD.fine_tune(1, base_lr=3e-2)"
      ]
    },
    {
      "cell_type": "code",
      "execution_count": null,
      "metadata": {
        "colab": {
          "base_uri": "https://localhost:8080/",
          "height": 145
        },
        "id": "V4TnwLodtmgi",
        "outputId": "5dc9a3ca-8c98-4acf-9d18-d6c79953657c"
      },
      "outputs": [
        {
          "data": {
            "text/html": [
              "\n",
              "<style>\n",
              "    /* Turns off some styling */\n",
              "    progress {\n",
              "        /* gets rid of default border in Firefox and Opera. */\n",
              "        border: none;\n",
              "        /* Needs to be in here for Safari polyfill so background images work as expected. */\n",
              "        background-size: auto;\n",
              "    }\n",
              "    .progress-bar-interrupted, .progress-bar-interrupted::-webkit-progress-bar {\n",
              "        background: #F44336;\n",
              "    }\n",
              "</style>\n"
            ],
            "text/plain": [
              "<IPython.core.display.HTML object>"
            ]
          },
          "metadata": {},
          "output_type": "display_data"
        },
        {
          "data": {
            "text/html": [
              "<table border=\"1\" class=\"dataframe\">\n",
              "  <thead>\n",
              "    <tr style=\"text-align: left;\">\n",
              "      <th>epoch</th>\n",
              "      <th>train_loss</th>\n",
              "      <th>valid_loss</th>\n",
              "      <th>accuracy_multi</th>\n",
              "      <th>time</th>\n",
              "    </tr>\n",
              "  </thead>\n",
              "  <tbody>\n",
              "    <tr>\n",
              "      <td>0</td>\n",
              "      <td>0.253516</td>\n",
              "      <td>0.240582</td>\n",
              "      <td>0.850795</td>\n",
              "      <td>2:15:28</td>\n",
              "    </tr>\n",
              "  </tbody>\n",
              "</table>"
            ],
            "text/plain": [
              "<IPython.core.display.HTML object>"
            ]
          },
          "metadata": {},
          "output_type": "display_data"
        },
        {
          "data": {
            "text/html": [
              "\n",
              "<style>\n",
              "    /* Turns off some styling */\n",
              "    progress {\n",
              "        /* gets rid of default border in Firefox and Opera. */\n",
              "        border: none;\n",
              "        /* Needs to be in here for Safari polyfill so background images work as expected. */\n",
              "        background-size: auto;\n",
              "    }\n",
              "    .progress-bar-interrupted, .progress-bar-interrupted::-webkit-progress-bar {\n",
              "        background: #F44336;\n",
              "    }\n",
              "</style>\n"
            ],
            "text/plain": [
              "<IPython.core.display.HTML object>"
            ]
          },
          "metadata": {},
          "output_type": "display_data"
        },
        {
          "data": {
            "text/html": [
              "<table border=\"1\" class=\"dataframe\">\n",
              "  <thead>\n",
              "    <tr style=\"text-align: left;\">\n",
              "      <th>epoch</th>\n",
              "      <th>train_loss</th>\n",
              "      <th>valid_loss</th>\n",
              "      <th>accuracy_multi</th>\n",
              "      <th>time</th>\n",
              "    </tr>\n",
              "  </thead>\n",
              "  <tbody>\n",
              "    <tr>\n",
              "      <td>0</td>\n",
              "      <td>0.183799</td>\n",
              "      <td>0.178864</td>\n",
              "      <td>0.905717</td>\n",
              "      <td>05:11</td>\n",
              "    </tr>\n",
              "  </tbody>\n",
              "</table>"
            ],
            "text/plain": [
              "<IPython.core.display.HTML object>"
            ]
          },
          "metadata": {},
          "output_type": "display_data"
        }
      ],
      "source": [
        "learnDD.save('DD')\n",
        "learnDD.export(Path(path/'GeneralMulti.pkl'))\n",
        "dlsFT = actions.dataloaders(path/\"Full Tilt\")\n",
        "learnFT = cnn_learner(dlsFT, resnet50, metrics=partial(accuracy_multi, thresh=0.2))\n",
        "learnFT.load('DD')\n",
        "learnFT.fine_tune(1, base_lr=3e-2)"
      ]
    },
    {
      "cell_type": "code",
      "execution_count": null,
      "metadata": {
        "colab": {
          "base_uri": "https://localhost:8080/",
          "height": 145
        },
        "id": "yQ7RE4s5tmd5",
        "outputId": "1e1b81f4-a267-4e3c-fb57-3255558ed1ec"
      },
      "outputs": [
        {
          "data": {
            "text/html": [
              "\n",
              "<style>\n",
              "    /* Turns off some styling */\n",
              "    progress {\n",
              "        /* gets rid of default border in Firefox and Opera. */\n",
              "        border: none;\n",
              "        /* Needs to be in here for Safari polyfill so background images work as expected. */\n",
              "        background-size: auto;\n",
              "    }\n",
              "    .progress-bar-interrupted, .progress-bar-interrupted::-webkit-progress-bar {\n",
              "        background: #F44336;\n",
              "    }\n",
              "</style>\n"
            ],
            "text/plain": [
              "<IPython.core.display.HTML object>"
            ]
          },
          "metadata": {},
          "output_type": "display_data"
        },
        {
          "data": {
            "text/html": [
              "<table border=\"1\" class=\"dataframe\">\n",
              "  <thead>\n",
              "    <tr style=\"text-align: left;\">\n",
              "      <th>epoch</th>\n",
              "      <th>train_loss</th>\n",
              "      <th>valid_loss</th>\n",
              "      <th>accuracy_multi</th>\n",
              "      <th>time</th>\n",
              "    </tr>\n",
              "  </thead>\n",
              "  <tbody>\n",
              "    <tr>\n",
              "      <td>0</td>\n",
              "      <td>0.185390</td>\n",
              "      <td>0.175770</td>\n",
              "      <td>0.919522</td>\n",
              "      <td>07:17</td>\n",
              "    </tr>\n",
              "  </tbody>\n",
              "</table>"
            ],
            "text/plain": [
              "<IPython.core.display.HTML object>"
            ]
          },
          "metadata": {},
          "output_type": "display_data"
        },
        {
          "data": {
            "text/html": [
              "\n",
              "<style>\n",
              "    /* Turns off some styling */\n",
              "    progress {\n",
              "        /* gets rid of default border in Firefox and Opera. */\n",
              "        border: none;\n",
              "        /* Needs to be in here for Safari polyfill so background images work as expected. */\n",
              "        background-size: auto;\n",
              "    }\n",
              "    .progress-bar-interrupted, .progress-bar-interrupted::-webkit-progress-bar {\n",
              "        background: #F44336;\n",
              "    }\n",
              "</style>\n"
            ],
            "text/plain": [
              "<IPython.core.display.HTML object>"
            ]
          },
          "metadata": {},
          "output_type": "display_data"
        },
        {
          "data": {
            "text/html": [
              "<table border=\"1\" class=\"dataframe\">\n",
              "  <thead>\n",
              "    <tr style=\"text-align: left;\">\n",
              "      <th>epoch</th>\n",
              "      <th>train_loss</th>\n",
              "      <th>valid_loss</th>\n",
              "      <th>accuracy_multi</th>\n",
              "      <th>time</th>\n",
              "    </tr>\n",
              "  </thead>\n",
              "  <tbody>\n",
              "    <tr>\n",
              "      <td>0</td>\n",
              "      <td>0.140779</td>\n",
              "      <td>0.115157</td>\n",
              "      <td>0.941303</td>\n",
              "      <td>00:43</td>\n",
              "    </tr>\n",
              "  </tbody>\n",
              "</table>"
            ],
            "text/plain": [
              "<IPython.core.display.HTML object>"
            ]
          },
          "metadata": {},
          "output_type": "display_data"
        }
      ],
      "source": [
        "learnFT.save('FT')\n",
        "learnFT.export(Path(path/'GeneralMulti.pkl'))\n",
        "dlsGC = actions.dataloaders(path/\"Gate Crash\")\n",
        "learnGC = cnn_learner(dlsGC, resnet50, metrics=partial(accuracy_multi, thresh=0.2))\n",
        "learnGC.load('FT')\n",
        "learnGC.fine_tune(1, base_lr=3e-2)"
      ]
    },
    {
      "cell_type": "code",
      "execution_count": null,
      "metadata": {
        "colab": {
          "base_uri": "https://localhost:8080/",
          "height": 145
        },
        "id": "ma_hgqq11UL1",
        "outputId": "3562018a-11a4-4074-e47e-0b5229169d3f"
      },
      "outputs": [
        {
          "data": {
            "text/html": [
              "\n",
              "<style>\n",
              "    /* Turns off some styling */\n",
              "    progress {\n",
              "        /* gets rid of default border in Firefox and Opera. */\n",
              "        border: none;\n",
              "        /* Needs to be in here for Safari polyfill so background images work as expected. */\n",
              "        background-size: auto;\n",
              "    }\n",
              "    .progress-bar-interrupted, .progress-bar-interrupted::-webkit-progress-bar {\n",
              "        background: #F44336;\n",
              "    }\n",
              "</style>\n"
            ],
            "text/plain": [
              "<IPython.core.display.HTML object>"
            ]
          },
          "metadata": {},
          "output_type": "display_data"
        },
        {
          "data": {
            "text/html": [
              "<table border=\"1\" class=\"dataframe\">\n",
              "  <thead>\n",
              "    <tr style=\"text-align: left;\">\n",
              "      <th>epoch</th>\n",
              "      <th>train_loss</th>\n",
              "      <th>valid_loss</th>\n",
              "      <th>accuracy_multi</th>\n",
              "      <th>time</th>\n",
              "    </tr>\n",
              "  </thead>\n",
              "  <tbody>\n",
              "    <tr>\n",
              "      <td>0</td>\n",
              "      <td>0.137949</td>\n",
              "      <td>0.372383</td>\n",
              "      <td>0.918403</td>\n",
              "      <td>45:09</td>\n",
              "    </tr>\n",
              "  </tbody>\n",
              "</table>"
            ],
            "text/plain": [
              "<IPython.core.display.HTML object>"
            ]
          },
          "metadata": {},
          "output_type": "display_data"
        },
        {
          "data": {
            "text/html": [
              "\n",
              "<style>\n",
              "    /* Turns off some styling */\n",
              "    progress {\n",
              "        /* gets rid of default border in Firefox and Opera. */\n",
              "        border: none;\n",
              "        /* Needs to be in here for Safari polyfill so background images work as expected. */\n",
              "        background-size: auto;\n",
              "    }\n",
              "    .progress-bar-interrupted, .progress-bar-interrupted::-webkit-progress-bar {\n",
              "        background: #F44336;\n",
              "    }\n",
              "</style>\n"
            ],
            "text/plain": [
              "<IPython.core.display.HTML object>"
            ]
          },
          "metadata": {},
          "output_type": "display_data"
        },
        {
          "data": {
            "text/html": [
              "<table border=\"1\" class=\"dataframe\">\n",
              "  <thead>\n",
              "    <tr style=\"text-align: left;\">\n",
              "      <th>epoch</th>\n",
              "      <th>train_loss</th>\n",
              "      <th>valid_loss</th>\n",
              "      <th>accuracy_multi</th>\n",
              "      <th>time</th>\n",
              "    </tr>\n",
              "  </thead>\n",
              "  <tbody>\n",
              "    <tr>\n",
              "      <td>0</td>\n",
              "      <td>0.113893</td>\n",
              "      <td>0.115671</td>\n",
              "      <td>0.943175</td>\n",
              "      <td>01:44</td>\n",
              "    </tr>\n",
              "  </tbody>\n",
              "</table>"
            ],
            "text/plain": [
              "<IPython.core.display.HTML object>"
            ]
          },
          "metadata": {},
          "output_type": "display_data"
        }
      ],
      "source": [
        "learnGC.save('GC')\n",
        "learnGC.export(Path(path/'GeneralMulti.pkl'))\n",
        "dlsHP = actions.dataloaders(path/\"Hit Parade\")\n",
        "learnHP = cnn_learner(dlsHP, resnet50, metrics=partial(accuracy_multi, thresh=0.2))\n",
        "learnHP.load('GC')\n",
        "learnHP.fine_tune(1, base_lr=3e-2)"
      ]
    },
    {
      "cell_type": "code",
      "execution_count": null,
      "metadata": {
        "colab": {
          "base_uri": "https://localhost:8080/",
          "height": 145
        },
        "id": "VbUA5P6A1UJx",
        "outputId": "6475a914-05f1-45cd-948e-55c92eceaa7c"
      },
      "outputs": [
        {
          "data": {
            "text/html": [
              "\n",
              "<style>\n",
              "    /* Turns off some styling */\n",
              "    progress {\n",
              "        /* gets rid of default border in Firefox and Opera. */\n",
              "        border: none;\n",
              "        /* Needs to be in here for Safari polyfill so background images work as expected. */\n",
              "        background-size: auto;\n",
              "    }\n",
              "    .progress-bar-interrupted, .progress-bar-interrupted::-webkit-progress-bar {\n",
              "        background: #F44336;\n",
              "    }\n",
              "</style>\n"
            ],
            "text/plain": [
              "<IPython.core.display.HTML object>"
            ]
          },
          "metadata": {},
          "output_type": "display_data"
        },
        {
          "data": {
            "text/html": [
              "<table border=\"1\" class=\"dataframe\">\n",
              "  <thead>\n",
              "    <tr style=\"text-align: left;\">\n",
              "      <th>epoch</th>\n",
              "      <th>train_loss</th>\n",
              "      <th>valid_loss</th>\n",
              "      <th>accuracy_multi</th>\n",
              "      <th>time</th>\n",
              "    </tr>\n",
              "  </thead>\n",
              "  <tbody>\n",
              "    <tr>\n",
              "      <td>0</td>\n",
              "      <td>0.197650</td>\n",
              "      <td>0.575782</td>\n",
              "      <td>0.912470</td>\n",
              "      <td>32:03</td>\n",
              "    </tr>\n",
              "  </tbody>\n",
              "</table>"
            ],
            "text/plain": [
              "<IPython.core.display.HTML object>"
            ]
          },
          "metadata": {},
          "output_type": "display_data"
        },
        {
          "data": {
            "text/html": [
              "\n",
              "<style>\n",
              "    /* Turns off some styling */\n",
              "    progress {\n",
              "        /* gets rid of default border in Firefox and Opera. */\n",
              "        border: none;\n",
              "        /* Needs to be in here for Safari polyfill so background images work as expected. */\n",
              "        background-size: auto;\n",
              "    }\n",
              "    .progress-bar-interrupted, .progress-bar-interrupted::-webkit-progress-bar {\n",
              "        background: #F44336;\n",
              "    }\n",
              "</style>\n"
            ],
            "text/plain": [
              "<IPython.core.display.HTML object>"
            ]
          },
          "metadata": {},
          "output_type": "display_data"
        },
        {
          "data": {
            "text/html": [
              "<table border=\"1\" class=\"dataframe\">\n",
              "  <thead>\n",
              "    <tr style=\"text-align: left;\">\n",
              "      <th>epoch</th>\n",
              "      <th>train_loss</th>\n",
              "      <th>valid_loss</th>\n",
              "      <th>accuracy_multi</th>\n",
              "      <th>time</th>\n",
              "    </tr>\n",
              "  </thead>\n",
              "  <tbody>\n",
              "    <tr>\n",
              "      <td>0</td>\n",
              "      <td>0.160910</td>\n",
              "      <td>0.159101</td>\n",
              "      <td>0.927155</td>\n",
              "      <td>01:15</td>\n",
              "    </tr>\n",
              "  </tbody>\n",
              "</table>"
            ],
            "text/plain": [
              "<IPython.core.display.HTML object>"
            ]
          },
          "metadata": {},
          "output_type": "display_data"
        }
      ],
      "source": [
        "learnHP.save('HP')\n",
        "learnHP.export(Path(path/'GeneralMulti.pkl'))\n",
        "dlsKF = actions.dataloaders(path/\"Knight Fever\")\n",
        "learnKF = cnn_learner(dlsKF, resnet50, metrics=partial(accuracy_multi, thresh=0.2))\n",
        "learnKF.load('HP')\n",
        "learnKF.fine_tune(1, base_lr=3e-2)"
      ]
    },
    {
      "cell_type": "code",
      "execution_count": null,
      "metadata": {
        "colab": {
          "base_uri": "https://localhost:8080/",
          "height": 145
        },
        "id": "xSvhz36t1UHi",
        "outputId": "53f82338-5db3-4f6d-b7ef-c8a5669d5f04"
      },
      "outputs": [
        {
          "data": {
            "text/html": [
              "\n",
              "<style>\n",
              "    /* Turns off some styling */\n",
              "    progress {\n",
              "        /* gets rid of default border in Firefox and Opera. */\n",
              "        border: none;\n",
              "        /* Needs to be in here for Safari polyfill so background images work as expected. */\n",
              "        background-size: auto;\n",
              "    }\n",
              "    .progress-bar-interrupted, .progress-bar-interrupted::-webkit-progress-bar {\n",
              "        background: #F44336;\n",
              "    }\n",
              "</style>\n"
            ],
            "text/plain": [
              "<IPython.core.display.HTML object>"
            ]
          },
          "metadata": {},
          "output_type": "display_data"
        },
        {
          "data": {
            "text/html": [
              "<table border=\"1\" class=\"dataframe\">\n",
              "  <thead>\n",
              "    <tr style=\"text-align: left;\">\n",
              "      <th>epoch</th>\n",
              "      <th>train_loss</th>\n",
              "      <th>valid_loss</th>\n",
              "      <th>accuracy_multi</th>\n",
              "      <th>time</th>\n",
              "    </tr>\n",
              "  </thead>\n",
              "  <tbody>\n",
              "    <tr>\n",
              "      <td>0</td>\n",
              "      <td>0.298567</td>\n",
              "      <td>0.328193</td>\n",
              "      <td>0.820821</td>\n",
              "      <td>29:59</td>\n",
              "    </tr>\n",
              "  </tbody>\n",
              "</table>"
            ],
            "text/plain": [
              "<IPython.core.display.HTML object>"
            ]
          },
          "metadata": {},
          "output_type": "display_data"
        },
        {
          "data": {
            "text/html": [
              "\n",
              "<style>\n",
              "    /* Turns off some styling */\n",
              "    progress {\n",
              "        /* gets rid of default border in Firefox and Opera. */\n",
              "        border: none;\n",
              "        /* Needs to be in here for Safari polyfill so background images work as expected. */\n",
              "        background-size: auto;\n",
              "    }\n",
              "    .progress-bar-interrupted, .progress-bar-interrupted::-webkit-progress-bar {\n",
              "        background: #F44336;\n",
              "    }\n",
              "</style>\n"
            ],
            "text/plain": [
              "<IPython.core.display.HTML object>"
            ]
          },
          "metadata": {},
          "output_type": "display_data"
        },
        {
          "data": {
            "text/html": [
              "<table border=\"1\" class=\"dataframe\">\n",
              "  <thead>\n",
              "    <tr style=\"text-align: left;\">\n",
              "      <th>epoch</th>\n",
              "      <th>train_loss</th>\n",
              "      <th>valid_loss</th>\n",
              "      <th>accuracy_multi</th>\n",
              "      <th>time</th>\n",
              "    </tr>\n",
              "  </thead>\n",
              "  <tbody>\n",
              "    <tr>\n",
              "      <td>0</td>\n",
              "      <td>0.252576</td>\n",
              "      <td>0.244707</td>\n",
              "      <td>0.852516</td>\n",
              "      <td>01:15</td>\n",
              "    </tr>\n",
              "  </tbody>\n",
              "</table>"
            ],
            "text/plain": [
              "<IPython.core.display.HTML object>"
            ]
          },
          "metadata": {},
          "output_type": "display_data"
        }
      ],
      "source": [
        "learnKF.save('KF')\n",
        "learnKF.export(Path(path/'GeneralMulti.pkl'))\n",
        "dlsLL = actions.dataloaders(path/\"Lily Leapers\")\n",
        "learnLL = cnn_learner(dlsLL, resnet50, metrics=partial(accuracy_multi, thresh=0.2))\n",
        "learnLL.load('KF')\n",
        "learnLL.fine_tune(1, base_lr=3e-2)"
      ]
    },
    {
      "cell_type": "code",
      "execution_count": null,
      "metadata": {
        "colab": {
          "base_uri": "https://localhost:8080/",
          "height": 145
        },
        "id": "nidy66U11UEj",
        "outputId": "010d8eb0-a13a-476a-d67d-1c6628f9a6d9"
      },
      "outputs": [
        {
          "data": {
            "text/html": [
              "\n",
              "<style>\n",
              "    /* Turns off some styling */\n",
              "    progress {\n",
              "        /* gets rid of default border in Firefox and Opera. */\n",
              "        border: none;\n",
              "        /* Needs to be in here for Safari polyfill so background images work as expected. */\n",
              "        background-size: auto;\n",
              "    }\n",
              "    .progress-bar-interrupted, .progress-bar-interrupted::-webkit-progress-bar {\n",
              "        background: #F44336;\n",
              "    }\n",
              "</style>\n"
            ],
            "text/plain": [
              "<IPython.core.display.HTML object>"
            ]
          },
          "metadata": {},
          "output_type": "display_data"
        },
        {
          "data": {
            "text/html": [
              "<table border=\"1\" class=\"dataframe\">\n",
              "  <thead>\n",
              "    <tr style=\"text-align: left;\">\n",
              "      <th>epoch</th>\n",
              "      <th>train_loss</th>\n",
              "      <th>valid_loss</th>\n",
              "      <th>accuracy_multi</th>\n",
              "      <th>time</th>\n",
              "    </tr>\n",
              "  </thead>\n",
              "  <tbody>\n",
              "    <tr>\n",
              "      <td>0</td>\n",
              "      <td>0.259399</td>\n",
              "      <td>0.266789</td>\n",
              "      <td>0.874397</td>\n",
              "      <td>1:36:41</td>\n",
              "    </tr>\n",
              "  </tbody>\n",
              "</table>"
            ],
            "text/plain": [
              "<IPython.core.display.HTML object>"
            ]
          },
          "metadata": {},
          "output_type": "display_data"
        },
        {
          "data": {
            "text/html": [
              "\n",
              "<style>\n",
              "    /* Turns off some styling */\n",
              "    progress {\n",
              "        /* gets rid of default border in Firefox and Opera. */\n",
              "        border: none;\n",
              "        /* Needs to be in here for Safari polyfill so background images work as expected. */\n",
              "        background-size: auto;\n",
              "    }\n",
              "    .progress-bar-interrupted, .progress-bar-interrupted::-webkit-progress-bar {\n",
              "        background: #F44336;\n",
              "    }\n",
              "</style>\n"
            ],
            "text/plain": [
              "<IPython.core.display.HTML object>"
            ]
          },
          "metadata": {},
          "output_type": "display_data"
        },
        {
          "data": {
            "text/html": [
              "<table border=\"1\" class=\"dataframe\">\n",
              "  <thead>\n",
              "    <tr style=\"text-align: left;\">\n",
              "      <th>epoch</th>\n",
              "      <th>train_loss</th>\n",
              "      <th>valid_loss</th>\n",
              "      <th>accuracy_multi</th>\n",
              "      <th>time</th>\n",
              "    </tr>\n",
              "  </thead>\n",
              "  <tbody>\n",
              "    <tr>\n",
              "      <td>0</td>\n",
              "      <td>0.190204</td>\n",
              "      <td>0.190625</td>\n",
              "      <td>0.896036</td>\n",
              "      <td>03:48</td>\n",
              "    </tr>\n",
              "  </tbody>\n",
              "</table>"
            ],
            "text/plain": [
              "<IPython.core.display.HTML object>"
            ]
          },
          "metadata": {},
          "output_type": "display_data"
        }
      ],
      "source": [
        "learnLL.save('LL')\n",
        "learnLL.export(Path(path/'GeneralMulti.pkl'))\n",
        "dlsPP = actions.dataloaders(path/\"Party Promenade\")\n",
        "learnPP = cnn_learner(dlsPP, resnet50, metrics=partial(accuracy_multi, thresh=0.2))\n",
        "learnPP.load('LL')\n",
        "learnPP.fine_tune(1, base_lr=3e-2)"
      ]
    },
    {
      "cell_type": "code",
      "execution_count": null,
      "metadata": {
        "colab": {
          "base_uri": "https://localhost:8080/",
          "height": 145
        },
        "id": "tES7fQn21T-u",
        "outputId": "28a24fd9-1bcd-4ba5-ed87-a80e5a5515af"
      },
      "outputs": [
        {
          "data": {
            "text/html": [
              "\n",
              "<style>\n",
              "    /* Turns off some styling */\n",
              "    progress {\n",
              "        /* gets rid of default border in Firefox and Opera. */\n",
              "        border: none;\n",
              "        /* Needs to be in here for Safari polyfill so background images work as expected. */\n",
              "        background-size: auto;\n",
              "    }\n",
              "    .progress-bar-interrupted, .progress-bar-interrupted::-webkit-progress-bar {\n",
              "        background: #F44336;\n",
              "    }\n",
              "</style>\n"
            ],
            "text/plain": [
              "<IPython.core.display.HTML object>"
            ]
          },
          "metadata": {},
          "output_type": "display_data"
        },
        {
          "data": {
            "text/html": [
              "<table border=\"1\" class=\"dataframe\">\n",
              "  <thead>\n",
              "    <tr style=\"text-align: left;\">\n",
              "      <th>epoch</th>\n",
              "      <th>train_loss</th>\n",
              "      <th>valid_loss</th>\n",
              "      <th>accuracy_multi</th>\n",
              "      <th>time</th>\n",
              "    </tr>\n",
              "  </thead>\n",
              "  <tbody>\n",
              "    <tr>\n",
              "      <td>0</td>\n",
              "      <td>0.247212</td>\n",
              "      <td>0.296616</td>\n",
              "      <td>0.891022</td>\n",
              "      <td>37:23</td>\n",
              "    </tr>\n",
              "  </tbody>\n",
              "</table>"
            ],
            "text/plain": [
              "<IPython.core.display.HTML object>"
            ]
          },
          "metadata": {},
          "output_type": "display_data"
        },
        {
          "data": {
            "text/html": [
              "\n",
              "<style>\n",
              "    /* Turns off some styling */\n",
              "    progress {\n",
              "        /* gets rid of default border in Firefox and Opera. */\n",
              "        border: none;\n",
              "        /* Needs to be in here for Safari polyfill so background images work as expected. */\n",
              "        background-size: auto;\n",
              "    }\n",
              "    .progress-bar-interrupted, .progress-bar-interrupted::-webkit-progress-bar {\n",
              "        background: #F44336;\n",
              "    }\n",
              "</style>\n"
            ],
            "text/plain": [
              "<IPython.core.display.HTML object>"
            ]
          },
          "metadata": {},
          "output_type": "display_data"
        },
        {
          "data": {
            "text/html": [
              "<table border=\"1\" class=\"dataframe\">\n",
              "  <thead>\n",
              "    <tr style=\"text-align: left;\">\n",
              "      <th>epoch</th>\n",
              "      <th>train_loss</th>\n",
              "      <th>valid_loss</th>\n",
              "      <th>accuracy_multi</th>\n",
              "      <th>time</th>\n",
              "    </tr>\n",
              "  </thead>\n",
              "  <tbody>\n",
              "    <tr>\n",
              "      <td>0</td>\n",
              "      <td>0.203397</td>\n",
              "      <td>0.181922</td>\n",
              "      <td>0.894891</td>\n",
              "      <td>01:28</td>\n",
              "    </tr>\n",
              "  </tbody>\n",
              "</table>"
            ],
            "text/plain": [
              "<IPython.core.display.HTML object>"
            ]
          },
          "metadata": {},
          "output_type": "display_data"
        }
      ],
      "source": [
        "learnPP.save('PP')\n",
        "learnPP.export(Path(path/'GeneralMulti.pkl'))\n",
        "dlsRO = actions.dataloaders(path/\"Roll On\")\n",
        "learnRO = cnn_learner(dlsRO, resnet50, metrics=partial(accuracy_multi, thresh=0.2))\n",
        "learnRO.load('PP')\n",
        "learnRO.fine_tune(1, base_lr=3e-2)"
      ]
    },
    {
      "cell_type": "code",
      "execution_count": null,
      "metadata": {
        "colab": {
          "base_uri": "https://localhost:8080/",
          "height": 145
        },
        "id": "SYC0z_EJ1T2z",
        "outputId": "e9e92d2c-2e24-46ea-93b2-483446a21cf4"
      },
      "outputs": [
        {
          "data": {
            "text/html": [
              "\n",
              "<style>\n",
              "    /* Turns off some styling */\n",
              "    progress {\n",
              "        /* gets rid of default border in Firefox and Opera. */\n",
              "        border: none;\n",
              "        /* Needs to be in here for Safari polyfill so background images work as expected. */\n",
              "        background-size: auto;\n",
              "    }\n",
              "    .progress-bar-interrupted, .progress-bar-interrupted::-webkit-progress-bar {\n",
              "        background: #F44336;\n",
              "    }\n",
              "</style>\n"
            ],
            "text/plain": [
              "<IPython.core.display.HTML object>"
            ]
          },
          "metadata": {},
          "output_type": "display_data"
        },
        {
          "data": {
            "text/html": [
              "<table border=\"1\" class=\"dataframe\">\n",
              "  <thead>\n",
              "    <tr style=\"text-align: left;\">\n",
              "      <th>epoch</th>\n",
              "      <th>train_loss</th>\n",
              "      <th>valid_loss</th>\n",
              "      <th>accuracy_multi</th>\n",
              "      <th>time</th>\n",
              "    </tr>\n",
              "  </thead>\n",
              "  <tbody>\n",
              "    <tr>\n",
              "      <td>0</td>\n",
              "      <td>0.207290</td>\n",
              "      <td>0.221915</td>\n",
              "      <td>0.882422</td>\n",
              "      <td>1:19:49</td>\n",
              "    </tr>\n",
              "  </tbody>\n",
              "</table>"
            ],
            "text/plain": [
              "<IPython.core.display.HTML object>"
            ]
          },
          "metadata": {},
          "output_type": "display_data"
        },
        {
          "data": {
            "text/html": [
              "\n",
              "<style>\n",
              "    /* Turns off some styling */\n",
              "    progress {\n",
              "        /* gets rid of default border in Firefox and Opera. */\n",
              "        border: none;\n",
              "        /* Needs to be in here for Safari polyfill so background images work as expected. */\n",
              "        background-size: auto;\n",
              "    }\n",
              "    .progress-bar-interrupted, .progress-bar-interrupted::-webkit-progress-bar {\n",
              "        background: #F44336;\n",
              "    }\n",
              "</style>\n"
            ],
            "text/plain": [
              "<IPython.core.display.HTML object>"
            ]
          },
          "metadata": {},
          "output_type": "display_data"
        },
        {
          "data": {
            "text/html": [
              "<table border=\"1\" class=\"dataframe\">\n",
              "  <thead>\n",
              "    <tr style=\"text-align: left;\">\n",
              "      <th>epoch</th>\n",
              "      <th>train_loss</th>\n",
              "      <th>valid_loss</th>\n",
              "      <th>accuracy_multi</th>\n",
              "      <th>time</th>\n",
              "    </tr>\n",
              "  </thead>\n",
              "  <tbody>\n",
              "    <tr>\n",
              "      <td>0</td>\n",
              "      <td>0.145421</td>\n",
              "      <td>0.129835</td>\n",
              "      <td>0.936321</td>\n",
              "      <td>03:01</td>\n",
              "    </tr>\n",
              "  </tbody>\n",
              "</table>"
            ],
            "text/plain": [
              "<IPython.core.display.HTML object>"
            ]
          },
          "metadata": {},
          "output_type": "display_data"
        }
      ],
      "source": [
        "learnRO.save('RO')\n",
        "learnRO.export(Path(path/'GeneralMulti.pkl'))\n",
        "dlsSS = actions.dataloaders(path/\"See Saw\")\n",
        "learnSS = cnn_learner(dlsSS, resnet50, metrics=partial(accuracy_multi, thresh=0.2))\n",
        "learnSS.load('RO')\n",
        "learnSS.fine_tune(1, base_lr=3e-2)"
      ]
    },
    {
      "cell_type": "code",
      "execution_count": null,
      "metadata": {
        "colab": {
          "background_save": true,
          "base_uri": "https://localhost:8080/",
          "height": 174
        },
        "id": "6pfKaAPY1TzB",
        "outputId": "af516c30-3b86-4ca0-c7dd-43f652ffd65a"
      },
      "outputs": [
        {
          "data": {
            "text/html": [
              "\n",
              "<style>\n",
              "    /* Turns off some styling */\n",
              "    progress {\n",
              "        /* gets rid of default border in Firefox and Opera. */\n",
              "        border: none;\n",
              "        /* Needs to be in here for Safari polyfill so background images work as expected. */\n",
              "        background-size: auto;\n",
              "    }\n",
              "    .progress-bar-interrupted, .progress-bar-interrupted::-webkit-progress-bar {\n",
              "        background: #F44336;\n",
              "    }\n",
              "</style>\n"
            ],
            "text/plain": [
              "<IPython.core.display.HTML object>"
            ]
          },
          "metadata": {},
          "output_type": "display_data"
        },
        {
          "data": {
            "text/html": [
              "<table border=\"1\" class=\"dataframe\">\n",
              "  <thead>\n",
              "    <tr style=\"text-align: left;\">\n",
              "      <th>epoch</th>\n",
              "      <th>train_loss</th>\n",
              "      <th>valid_loss</th>\n",
              "      <th>accuracy_multi</th>\n",
              "      <th>time</th>\n",
              "    </tr>\n",
              "  </thead>\n",
              "  <tbody>\n",
              "    <tr>\n",
              "      <td>0</td>\n",
              "      <td>0.300489</td>\n",
              "      <td>0.284712</td>\n",
              "      <td>0.795200</td>\n",
              "      <td>35:38</td>\n",
              "    </tr>\n",
              "  </tbody>\n",
              "</table>"
            ],
            "text/plain": [
              "<IPython.core.display.HTML object>"
            ]
          },
          "metadata": {},
          "output_type": "display_data"
        },
        {
          "data": {
            "text/html": [
              "\n",
              "<style>\n",
              "    /* Turns off some styling */\n",
              "    progress {\n",
              "        /* gets rid of default border in Firefox and Opera. */\n",
              "        border: none;\n",
              "        /* Needs to be in here for Safari polyfill so background images work as expected. */\n",
              "        background-size: auto;\n",
              "    }\n",
              "    .progress-bar-interrupted, .progress-bar-interrupted::-webkit-progress-bar {\n",
              "        background: #F44336;\n",
              "    }\n",
              "</style>\n"
            ],
            "text/plain": [
              "<IPython.core.display.HTML object>"
            ]
          },
          "metadata": {},
          "output_type": "display_data"
        },
        {
          "data": {
            "text/html": [
              "<table border=\"1\" class=\"dataframe\">\n",
              "  <thead>\n",
              "    <tr style=\"text-align: left;\">\n",
              "      <th>epoch</th>\n",
              "      <th>train_loss</th>\n",
              "      <th>valid_loss</th>\n",
              "      <th>accuracy_multi</th>\n",
              "      <th>time</th>\n",
              "    </tr>\n",
              "  </thead>\n",
              "  <tbody>\n",
              "    <tr>\n",
              "      <td>0</td>\n",
              "      <td>0.248300</td>\n",
              "      <td>0.225845</td>\n",
              "      <td>0.872725</td>\n",
              "      <td>01:19</td>\n",
              "    </tr>\n",
              "  </tbody>\n",
              "</table>"
            ],
            "text/plain": [
              "<IPython.core.display.HTML object>"
            ]
          },
          "metadata": {},
          "output_type": "display_data"
        }
      ],
      "source": [
        "learnSS.save('SS')\n",
        "learnSS.export(Path(path/'GeneralMulti.pkl'))\n",
        "dlsSSt = actions.dataloaders(path/\"Skyline Stumble\")\n",
        "learnSSt = cnn_learner(dlsSSt, resnet50, metrics=partial(accuracy_multi, thresh=0.2))\n",
        "learnSSt.load('SS')\n",
        "learnSSt.fine_tune(1, base_lr=3e-2)"
      ]
    },
    {
      "cell_type": "code",
      "source": [
        "learnSSt = load_learner(Path(path/'GeneralMulti.pkl'))"
      ],
      "metadata": {
        "id": "kf_8Mu7TvNbE"
      },
      "execution_count": null,
      "outputs": []
    },
    {
      "cell_type": "code",
      "execution_count": null,
      "metadata": {
        "id": "6P4CEDFA5RQk",
        "colab": {
          "base_uri": "https://localhost:8080/",
          "height": 181
        },
        "outputId": "46e67c7c-020b-4579-fa3f-b988b89527b7"
      },
      "outputs": [
        {
          "output_type": "stream",
          "name": "stderr",
          "text": [
            "/usr/local/lib/python3.7/dist-packages/fastai/learner.py:56: UserWarning: Saved filed doesn't contain an optimizer state.\n",
            "  elif with_opt: warn(\"Saved filed doesn't contain an optimizer state.\")\n"
          ]
        },
        {
          "output_type": "display_data",
          "data": {
            "text/html": [
              "\n",
              "<style>\n",
              "    /* Turns off some styling */\n",
              "    progress {\n",
              "        /* gets rid of default border in Firefox and Opera. */\n",
              "        border: none;\n",
              "        /* Needs to be in here for Safari polyfill so background images work as expected. */\n",
              "        background-size: auto;\n",
              "    }\n",
              "    .progress-bar-interrupted, .progress-bar-interrupted::-webkit-progress-bar {\n",
              "        background: #F44336;\n",
              "    }\n",
              "</style>\n"
            ],
            "text/plain": [
              "<IPython.core.display.HTML object>"
            ]
          },
          "metadata": {}
        },
        {
          "output_type": "display_data",
          "data": {
            "text/html": [
              "<table border=\"1\" class=\"dataframe\">\n",
              "  <thead>\n",
              "    <tr style=\"text-align: left;\">\n",
              "      <th>epoch</th>\n",
              "      <th>train_loss</th>\n",
              "      <th>valid_loss</th>\n",
              "      <th>accuracy_multi</th>\n",
              "      <th>time</th>\n",
              "    </tr>\n",
              "  </thead>\n",
              "  <tbody>\n",
              "    <tr>\n",
              "      <td>0</td>\n",
              "      <td>0.163258</td>\n",
              "      <td>0.158165</td>\n",
              "      <td>0.915442</td>\n",
              "      <td>36:27</td>\n",
              "    </tr>\n",
              "  </tbody>\n",
              "</table>"
            ],
            "text/plain": [
              "<IPython.core.display.HTML object>"
            ]
          },
          "metadata": {}
        },
        {
          "output_type": "display_data",
          "data": {
            "text/html": [
              "\n",
              "<style>\n",
              "    /* Turns off some styling */\n",
              "    progress {\n",
              "        /* gets rid of default border in Firefox and Opera. */\n",
              "        border: none;\n",
              "        /* Needs to be in here for Safari polyfill so background images work as expected. */\n",
              "        background-size: auto;\n",
              "    }\n",
              "    .progress-bar-interrupted, .progress-bar-interrupted::-webkit-progress-bar {\n",
              "        background: #F44336;\n",
              "    }\n",
              "</style>\n"
            ],
            "text/plain": [
              "<IPython.core.display.HTML object>"
            ]
          },
          "metadata": {}
        },
        {
          "output_type": "display_data",
          "data": {
            "text/html": [
              "<table border=\"1\" class=\"dataframe\">\n",
              "  <thead>\n",
              "    <tr style=\"text-align: left;\">\n",
              "      <th>epoch</th>\n",
              "      <th>train_loss</th>\n",
              "      <th>valid_loss</th>\n",
              "      <th>accuracy_multi</th>\n",
              "      <th>time</th>\n",
              "    </tr>\n",
              "  </thead>\n",
              "  <tbody>\n",
              "    <tr>\n",
              "      <td>0</td>\n",
              "      <td>0.124653</td>\n",
              "      <td>0.122316</td>\n",
              "      <td>0.933350</td>\n",
              "      <td>01:26</td>\n",
              "    </tr>\n",
              "  </tbody>\n",
              "</table>"
            ],
            "text/plain": [
              "<IPython.core.display.HTML object>"
            ]
          },
          "metadata": {}
        }
      ],
      "source": [
        "learnSSt.save('SSt')\n",
        "# learnSSt.export(Path(path/'GeneralMulti.pkl'))\n",
        "dlsTW = actions.dataloaders(path/\"The Whirlygig\")\n",
        "learnTW = cnn_learner(dlsTW, resnet50, metrics=partial(accuracy_multi, thresh=0.2))\n",
        "learnTW.load('SSt')\n",
        "learnTW.fine_tune(1, base_lr=3e-2)"
      ]
    },
    {
      "cell_type": "code",
      "execution_count": null,
      "metadata": {
        "id": "lZaDT_Vt5QpG",
        "colab": {
          "base_uri": "https://localhost:8080/",
          "height": 145
        },
        "outputId": "ac5f01e2-08ef-41f5-ecd1-ac48ab1d3d21"
      },
      "outputs": [
        {
          "output_type": "display_data",
          "data": {
            "text/html": [
              "\n",
              "<style>\n",
              "    /* Turns off some styling */\n",
              "    progress {\n",
              "        /* gets rid of default border in Firefox and Opera. */\n",
              "        border: none;\n",
              "        /* Needs to be in here for Safari polyfill so background images work as expected. */\n",
              "        background-size: auto;\n",
              "    }\n",
              "    .progress-bar-interrupted, .progress-bar-interrupted::-webkit-progress-bar {\n",
              "        background: #F44336;\n",
              "    }\n",
              "</style>\n"
            ],
            "text/plain": [
              "<IPython.core.display.HTML object>"
            ]
          },
          "metadata": {}
        },
        {
          "output_type": "display_data",
          "data": {
            "text/html": [
              "<table border=\"1\" class=\"dataframe\">\n",
              "  <thead>\n",
              "    <tr style=\"text-align: left;\">\n",
              "      <th>epoch</th>\n",
              "      <th>train_loss</th>\n",
              "      <th>valid_loss</th>\n",
              "      <th>accuracy_multi</th>\n",
              "      <th>time</th>\n",
              "    </tr>\n",
              "  </thead>\n",
              "  <tbody>\n",
              "    <tr>\n",
              "      <td>0</td>\n",
              "      <td>0.194124</td>\n",
              "      <td>0.295042</td>\n",
              "      <td>0.901852</td>\n",
              "      <td>40:02</td>\n",
              "    </tr>\n",
              "  </tbody>\n",
              "</table>"
            ],
            "text/plain": [
              "<IPython.core.display.HTML object>"
            ]
          },
          "metadata": {}
        },
        {
          "output_type": "display_data",
          "data": {
            "text/html": [
              "\n",
              "<style>\n",
              "    /* Turns off some styling */\n",
              "    progress {\n",
              "        /* gets rid of default border in Firefox and Opera. */\n",
              "        border: none;\n",
              "        /* Needs to be in here for Safari polyfill so background images work as expected. */\n",
              "        background-size: auto;\n",
              "    }\n",
              "    .progress-bar-interrupted, .progress-bar-interrupted::-webkit-progress-bar {\n",
              "        background: #F44336;\n",
              "    }\n",
              "</style>\n"
            ],
            "text/plain": [
              "<IPython.core.display.HTML object>"
            ]
          },
          "metadata": {}
        },
        {
          "output_type": "display_data",
          "data": {
            "text/html": [
              "<table border=\"1\" class=\"dataframe\">\n",
              "  <thead>\n",
              "    <tr style=\"text-align: left;\">\n",
              "      <th>epoch</th>\n",
              "      <th>train_loss</th>\n",
              "      <th>valid_loss</th>\n",
              "      <th>accuracy_multi</th>\n",
              "      <th>time</th>\n",
              "    </tr>\n",
              "  </thead>\n",
              "  <tbody>\n",
              "    <tr>\n",
              "      <td>0</td>\n",
              "      <td>0.154155</td>\n",
              "      <td>0.148303</td>\n",
              "      <td>0.920369</td>\n",
              "      <td>01:35</td>\n",
              "    </tr>\n",
              "  </tbody>\n",
              "</table>"
            ],
            "text/plain": [
              "<IPython.core.display.HTML object>"
            ]
          },
          "metadata": {}
        }
      ],
      "source": [
        "learnTW.save('TW')\n",
        "learnTW.export(Path(path/'GeneralMulti.pkl'))\n",
        "dlsTT = actions.dataloaders(path/\"Treetop Tumble\")\n",
        "learnTT = cnn_learner(dlsTT, resnet50, metrics=partial(accuracy_multi, thresh=0.2))\n",
        "learnTT.load('TW')\n",
        "learnTT.fine_tune(1, base_lr=3e-2)"
      ]
    },
    {
      "cell_type": "code",
      "execution_count": null,
      "metadata": {
        "id": "Euui7hie5Qk-",
        "colab": {
          "base_uri": "https://localhost:8080/",
          "height": 145
        },
        "outputId": "7ccb9ce8-1d96-4524-97c6-5a4e197ea7d6"
      },
      "outputs": [
        {
          "output_type": "display_data",
          "data": {
            "text/html": [
              "\n",
              "<style>\n",
              "    /* Turns off some styling */\n",
              "    progress {\n",
              "        /* gets rid of default border in Firefox and Opera. */\n",
              "        border: none;\n",
              "        /* Needs to be in here for Safari polyfill so background images work as expected. */\n",
              "        background-size: auto;\n",
              "    }\n",
              "    .progress-bar-interrupted, .progress-bar-interrupted::-webkit-progress-bar {\n",
              "        background: #F44336;\n",
              "    }\n",
              "</style>\n"
            ],
            "text/plain": [
              "<IPython.core.display.HTML object>"
            ]
          },
          "metadata": {}
        },
        {
          "output_type": "display_data",
          "data": {
            "text/html": [
              "<table border=\"1\" class=\"dataframe\">\n",
              "  <thead>\n",
              "    <tr style=\"text-align: left;\">\n",
              "      <th>epoch</th>\n",
              "      <th>train_loss</th>\n",
              "      <th>valid_loss</th>\n",
              "      <th>accuracy_multi</th>\n",
              "      <th>time</th>\n",
              "    </tr>\n",
              "  </thead>\n",
              "  <tbody>\n",
              "    <tr>\n",
              "      <td>0</td>\n",
              "      <td>0.167042</td>\n",
              "      <td>0.187171</td>\n",
              "      <td>0.936919</td>\n",
              "      <td>22:52</td>\n",
              "    </tr>\n",
              "  </tbody>\n",
              "</table>"
            ],
            "text/plain": [
              "<IPython.core.display.HTML object>"
            ]
          },
          "metadata": {}
        },
        {
          "output_type": "display_data",
          "data": {
            "text/html": [
              "\n",
              "<style>\n",
              "    /* Turns off some styling */\n",
              "    progress {\n",
              "        /* gets rid of default border in Firefox and Opera. */\n",
              "        border: none;\n",
              "        /* Needs to be in here for Safari polyfill so background images work as expected. */\n",
              "        background-size: auto;\n",
              "    }\n",
              "    .progress-bar-interrupted, .progress-bar-interrupted::-webkit-progress-bar {\n",
              "        background: #F44336;\n",
              "    }\n",
              "</style>\n"
            ],
            "text/plain": [
              "<IPython.core.display.HTML object>"
            ]
          },
          "metadata": {}
        },
        {
          "output_type": "display_data",
          "data": {
            "text/html": [
              "<table border=\"1\" class=\"dataframe\">\n",
              "  <thead>\n",
              "    <tr style=\"text-align: left;\">\n",
              "      <th>epoch</th>\n",
              "      <th>train_loss</th>\n",
              "      <th>valid_loss</th>\n",
              "      <th>accuracy_multi</th>\n",
              "      <th>time</th>\n",
              "    </tr>\n",
              "  </thead>\n",
              "  <tbody>\n",
              "    <tr>\n",
              "      <td>0</td>\n",
              "      <td>0.136750</td>\n",
              "      <td>0.277684</td>\n",
              "      <td>0.937248</td>\n",
              "      <td>00:53</td>\n",
              "    </tr>\n",
              "  </tbody>\n",
              "</table>"
            ],
            "text/plain": [
              "<IPython.core.display.HTML object>"
            ]
          },
          "metadata": {}
        }
      ],
      "source": [
        "learnTT.save('TT')\n",
        "learnTT.export(Path(path/'GeneralMulti.pkl'))\n",
        "dlsTR = actions.dataloaders(path/\"Dizzy Heights\")\n",
        "learnTR = cnn_learner(dlsTR, resnet50, metrics=partial(accuracy_multi, thresh=0.2))\n",
        "learnTR.load('TT')\n",
        "learnTR.fine_tune(1, base_lr=3e-2)"
      ]
    },
    {
      "cell_type": "code",
      "execution_count": null,
      "metadata": {
        "id": "6Yv6H6V5U9Gy"
      },
      "outputs": [],
      "source": [
        "learnTR.export(Path(path/'GeneralMulti.pkl'))"
      ]
    },
    {
      "cell_type": "markdown",
      "metadata": {
        "id": "5Y-biCOkzQFa"
      },
      "source": [
        "### Fine Tuning the General Model"
      ]
    },
    {
      "cell_type": "code",
      "execution_count": null,
      "metadata": {
        "id": "hJ6UpylIyRiQ"
      },
      "outputs": [],
      "source": [
        "learn = load_learner(Path(path/'GeneralMulti.pkl'))"
      ]
    },
    {
      "cell_type": "code",
      "execution_count": null,
      "metadata": {
        "colab": {
          "base_uri": "https://localhost:8080/",
          "height": 307
        },
        "id": "9FwwIeeUzLao",
        "outputId": "75387989-9477-42e8-c0d2-6f6c812cf25b"
      },
      "outputs": [
        {
          "output_type": "display_data",
          "data": {
            "text/html": [
              "\n",
              "<style>\n",
              "    /* Turns off some styling */\n",
              "    progress {\n",
              "        /* gets rid of default border in Firefox and Opera. */\n",
              "        border: none;\n",
              "        /* Needs to be in here for Safari polyfill so background images work as expected. */\n",
              "        background-size: auto;\n",
              "    }\n",
              "    .progress-bar-interrupted, .progress-bar-interrupted::-webkit-progress-bar {\n",
              "        background: #F44336;\n",
              "    }\n",
              "</style>\n"
            ],
            "text/plain": [
              "<IPython.core.display.HTML object>"
            ]
          },
          "metadata": {}
        },
        {
          "output_type": "display_data",
          "data": {
            "text/html": [
              ""
            ],
            "text/plain": [
              "<IPython.core.display.HTML object>"
            ]
          },
          "metadata": {}
        },
        {
          "output_type": "execute_result",
          "data": {
            "text/plain": [
              "SuggestedLRs(valley=0.004365158267319202)"
            ]
          },
          "metadata": {},
          "execution_count": 17
        },
        {
          "output_type": "display_data",
          "data": {
            "image/png": "[encoded data removed]",
            "text/plain": [
              "<Figure size 432x288 with 1 Axes>"
            ]
          },
          "metadata": {
            "needs_background": "light"
          }
        }
      ],
      "source": [
        "# learn.unfreeze()\n",
        "# learn.save('General')\n",
        "# dlsBF = actions.dataloaders(path/\"Big Fans\")\n",
        "# learnBF = cnn_learner(dlsBF, resnet50, metrics=partial(accuracy_multi, thresh=0.2))\n",
        "# learnBF.load('General')\n",
        "# learnBF.lr_find()"
      ]
    },
    {
      "cell_type": "code",
      "source": [
        "learn.unfreeze()\n",
        "learn.save('General')\n",
        "dlsBF = actions.dataloaders(path/\"Big Fans\")\n",
        "learnBF = cnn_learner(dlsBF, resnet50, metrics=partial(accuracy_multi, thresh=0.2))\n",
        "learnBF.load('General')"
      ],
      "metadata": {
        "colab": {
          "base_uri": "https://localhost:8080/"
        },
        "id": "zmAocX_3YRPA",
        "outputId": "cbc4a370-403c-40c6-c237-97feacd5351a"
      },
      "execution_count": null,
      "outputs": [
        {
          "output_type": "execute_result",
          "data": {
            "text/plain": [
              "<fastai.learner.Learner at 0x7f67ce6ffb90>"
            ]
          },
          "metadata": {},
          "execution_count": 13
        }
      ]
    },
    {
      "cell_type": "code",
      "execution_count": null,
      "metadata": {
        "colab": {
          "base_uri": "https://localhost:8080/",
          "height": 112
        },
        "id": "CewbTa7t0OUL",
        "outputId": "f25471e4-b5a3-443b-a14c-d5c8dec1b916"
      },
      "outputs": [
        {
          "output_type": "display_data",
          "data": {
            "text/html": [
              "\n",
              "<style>\n",
              "    /* Turns off some styling */\n",
              "    progress {\n",
              "        /* gets rid of default border in Firefox and Opera. */\n",
              "        border: none;\n",
              "        /* Needs to be in here for Safari polyfill so background images work as expected. */\n",
              "        background-size: auto;\n",
              "    }\n",
              "    .progress-bar-interrupted, .progress-bar-interrupted::-webkit-progress-bar {\n",
              "        background: #F44336;\n",
              "    }\n",
              "</style>\n"
            ],
            "text/plain": [
              "<IPython.core.display.HTML object>"
            ]
          },
          "metadata": {}
        },
        {
          "output_type": "display_data",
          "data": {
            "text/html": [
              "<table border=\"1\" class=\"dataframe\">\n",
              "  <thead>\n",
              "    <tr style=\"text-align: left;\">\n",
              "      <th>epoch</th>\n",
              "      <th>train_loss</th>\n",
              "      <th>valid_loss</th>\n",
              "      <th>accuracy_multi</th>\n",
              "      <th>time</th>\n",
              "    </tr>\n",
              "  </thead>\n",
              "  <tbody>\n",
              "    <tr>\n",
              "      <td>0</td>\n",
              "      <td>0.238417</td>\n",
              "      <td>166.917877</td>\n",
              "      <td>0.821422</td>\n",
              "      <td>04:43</td>\n",
              "    </tr>\n",
              "    <tr>\n",
              "      <td>1</td>\n",
              "      <td>0.189023</td>\n",
              "      <td>0.179919</td>\n",
              "      <td>0.902694</td>\n",
              "      <td>02:50</td>\n",
              "    </tr>\n",
              "  </tbody>\n",
              "</table>"
            ],
            "text/plain": [
              "<IPython.core.display.HTML object>"
            ]
          },
          "metadata": {}
        }
      ],
      "source": [
        "learnBF.unfreeze()\n",
        "learnBF.fit_one_cycle(2, lr_max=1e-2)"
      ]
    },
    {
      "cell_type": "code",
      "execution_count": null,
      "metadata": {
        "id": "yS9VraptyawM",
        "colab": {
          "base_uri": "https://localhost:8080/",
          "height": 112
        },
        "outputId": "906a4c14-048c-4362-bc47-a97ee2e402df"
      },
      "outputs": [
        {
          "output_type": "display_data",
          "data": {
            "text/html": [
              "\n",
              "<style>\n",
              "    /* Turns off some styling */\n",
              "    progress {\n",
              "        /* gets rid of default border in Firefox and Opera. */\n",
              "        border: none;\n",
              "        /* Needs to be in here for Safari polyfill so background images work as expected. */\n",
              "        background-size: auto;\n",
              "    }\n",
              "    .progress-bar-interrupted, .progress-bar-interrupted::-webkit-progress-bar {\n",
              "        background: #F44336;\n",
              "    }\n",
              "</style>\n"
            ],
            "text/plain": [
              "<IPython.core.display.HTML object>"
            ]
          },
          "metadata": {}
        },
        {
          "output_type": "display_data",
          "data": {
            "text/html": [
              "<table border=\"1\" class=\"dataframe\">\n",
              "  <thead>\n",
              "    <tr style=\"text-align: left;\">\n",
              "      <th>epoch</th>\n",
              "      <th>train_loss</th>\n",
              "      <th>valid_loss</th>\n",
              "      <th>accuracy_multi</th>\n",
              "      <th>time</th>\n",
              "    </tr>\n",
              "  </thead>\n",
              "  <tbody>\n",
              "    <tr>\n",
              "      <td>0</td>\n",
              "      <td>0.159497</td>\n",
              "      <td>0.859989</td>\n",
              "      <td>0.914384</td>\n",
              "      <td>00:53</td>\n",
              "    </tr>\n",
              "    <tr>\n",
              "      <td>1</td>\n",
              "      <td>0.126259</td>\n",
              "      <td>0.119409</td>\n",
              "      <td>0.935932</td>\n",
              "      <td>00:53</td>\n",
              "    </tr>\n",
              "  </tbody>\n",
              "</table>"
            ],
            "text/plain": [
              "<IPython.core.display.HTML object>"
            ]
          },
          "metadata": {}
        }
      ],
      "source": [
        "learnBF.save('BF')\n",
        "learnBF.unfreeze()\n",
        "dlsDH = actions.dataloaders(path/\"Dizzy Heights\")\n",
        "learnDH = cnn_learner(dlsDH, resnet50, metrics=partial(accuracy_multi, thresh=0.2))\n",
        "learnDH.load('BF')\n",
        "learnDH.unfreeze()\n",
        "learnDH.fit_one_cycle(2, lr_max=1e-2)"
      ]
    },
    {
      "cell_type": "code",
      "execution_count": null,
      "metadata": {
        "id": "yFajyAiDyawN",
        "colab": {
          "base_uri": "https://localhost:8080/",
          "height": 112
        },
        "outputId": "fe1a882d-32da-471b-9237-3dd6af2690f6"
      },
      "outputs": [
        {
          "output_type": "display_data",
          "data": {
            "text/html": [
              "\n",
              "<style>\n",
              "    /* Turns off some styling */\n",
              "    progress {\n",
              "        /* gets rid of default border in Firefox and Opera. */\n",
              "        border: none;\n",
              "        /* Needs to be in here for Safari polyfill so background images work as expected. */\n",
              "        background-size: auto;\n",
              "    }\n",
              "    .progress-bar-interrupted, .progress-bar-interrupted::-webkit-progress-bar {\n",
              "        background: #F44336;\n",
              "    }\n",
              "</style>\n"
            ],
            "text/plain": [
              "<IPython.core.display.HTML object>"
            ]
          },
          "metadata": {}
        },
        {
          "output_type": "display_data",
          "data": {
            "text/html": [
              "<table border=\"1\" class=\"dataframe\">\n",
              "  <thead>\n",
              "    <tr style=\"text-align: left;\">\n",
              "      <th>epoch</th>\n",
              "      <th>train_loss</th>\n",
              "      <th>valid_loss</th>\n",
              "      <th>accuracy_multi</th>\n",
              "      <th>time</th>\n",
              "    </tr>\n",
              "  </thead>\n",
              "  <tbody>\n",
              "    <tr>\n",
              "      <td>0</td>\n",
              "      <td>0.130839</td>\n",
              "      <td>2.363282</td>\n",
              "      <td>0.925632</td>\n",
              "      <td>24:55</td>\n",
              "    </tr>\n",
              "    <tr>\n",
              "      <td>1</td>\n",
              "      <td>0.098248</td>\n",
              "      <td>0.087118</td>\n",
              "      <td>0.955173</td>\n",
              "      <td>00:59</td>\n",
              "    </tr>\n",
              "  </tbody>\n",
              "</table>"
            ],
            "text/plain": [
              "<IPython.core.display.HTML object>"
            ]
          },
          "metadata": {}
        }
      ],
      "source": [
        "learnDH.save('DH')\n",
        "learnDH.export(Path(path/'GeneralMulti.pkl'))\n",
        "dlsDD = actions.dataloaders(path/\"Door Dash\")\n",
        "learnDD = cnn_learner(dlsDD, resnet50, metrics=partial(accuracy_multi, thresh=0.2))\n",
        "learnDD.load('DH')\n",
        "learnDD.unfreeze()\n",
        "learnDD.fit_one_cycle(2, lr_max=1e-2)"
      ]
    },
    {
      "cell_type": "code",
      "source": [
        "learnDD = load_learner(Path(path/'GeneralMulti.pkl'))"
      ],
      "metadata": {
        "id": "FdUNFZ8f0rIs"
      },
      "execution_count": null,
      "outputs": []
    },
    {
      "cell_type": "code",
      "execution_count": null,
      "metadata": {
        "id": "743MNDr7yawN",
        "colab": {
          "base_uri": "https://localhost:8080/",
          "height": 199,
          "referenced_widgets": [
            "6a9f98eba46b43bbaa42c560fc8ddb51",
            "1933ab13d7054d51ad93c21d2f430b86",
            "a161285ae75244e9871e1f05a318a504",
            "bf870a3db54143debadd32ad6b64c60a",
            "d23312fb9c92465cbf1107bf205f6363",
            "abc9984dca544e239d99d489f891b4ef",
            "59928ff2ccbc4f2d81b78eee7e38d528",
            "e973b764e3924edb9bc2cd48687103fb",
            "432d2f3015294b1d8e839e2f990967fc",
            "82c25fec3c7e4eac985bb41d320faea9",
            "60c99725e1c04cc781d0eaabe05ca526"
          ]
        },
        "outputId": "7c018c73-fb86-4560-e20e-2097b0ab2307"
      },
      "outputs": [
        {
          "output_type": "stream",
          "name": "stderr",
          "text": [
            "Downloading: \"https://download.pytorch.org/models/resnet50-0676ba61.pth\" to /root/.cache/torch/hub/checkpoints/resnet50-0676ba61.pth\n"
          ]
        },
        {
          "output_type": "display_data",
          "data": {
            "application/vnd.jupyter.widget-view+json": {
              "model_id": "6a9f98eba46b43bbaa42c560fc8ddb51",
              "version_minor": 0,
              "version_major": 2
            },
            "text/plain": [
              "  0%|          | 0.00/97.8M [00:00<?, ?B/s]"
            ]
          },
          "metadata": {}
        },
        {
          "output_type": "stream",
          "name": "stderr",
          "text": [
            "/usr/local/lib/python3.7/dist-packages/fastai/learner.py:56: UserWarning: Saved filed doesn't contain an optimizer state.\n",
            "  elif with_opt: warn(\"Saved filed doesn't contain an optimizer state.\")\n"
          ]
        },
        {
          "output_type": "display_data",
          "data": {
            "text/html": [
              "\n",
              "<style>\n",
              "    /* Turns off some styling */\n",
              "    progress {\n",
              "        /* gets rid of default border in Firefox and Opera. */\n",
              "        border: none;\n",
              "        /* Needs to be in here for Safari polyfill so background images work as expected. */\n",
              "        background-size: auto;\n",
              "    }\n",
              "    .progress-bar-interrupted, .progress-bar-interrupted::-webkit-progress-bar {\n",
              "        background: #F44336;\n",
              "    }\n",
              "</style>\n"
            ],
            "text/plain": [
              "<IPython.core.display.HTML object>"
            ]
          },
          "metadata": {}
        },
        {
          "output_type": "display_data",
          "data": {
            "text/html": [
              "<table border=\"1\" class=\"dataframe\">\n",
              "  <thead>\n",
              "    <tr style=\"text-align: left;\">\n",
              "      <th>epoch</th>\n",
              "      <th>train_loss</th>\n",
              "      <th>valid_loss</th>\n",
              "      <th>accuracy_multi</th>\n",
              "      <th>time</th>\n",
              "    </tr>\n",
              "  </thead>\n",
              "  <tbody>\n",
              "    <tr>\n",
              "      <td>0</td>\n",
              "      <td>0.252910</td>\n",
              "      <td>1.555241</td>\n",
              "      <td>0.835247</td>\n",
              "      <td>2:00:18</td>\n",
              "    </tr>\n",
              "    <tr>\n",
              "      <td>1</td>\n",
              "      <td>0.192653</td>\n",
              "      <td>0.184030</td>\n",
              "      <td>0.897552</td>\n",
              "      <td>05:11</td>\n",
              "    </tr>\n",
              "  </tbody>\n",
              "</table>"
            ],
            "text/plain": [
              "<IPython.core.display.HTML object>"
            ]
          },
          "metadata": {}
        }
      ],
      "source": [
        "learnDD.save('DD')\n",
        "# learnDD.export(Path(path/'GeneralMulti.pkl'))\n",
        "dlsFT = actions.dataloaders(path/\"Full Tilt\")\n",
        "learnFT = cnn_learner(dlsFT, resnet50, metrics=partial(accuracy_multi, thresh=0.2))\n",
        "learnFT.load('DD')\n",
        "learnFT.unfreeze()\n",
        "learnFT.fit_one_cycle(2, lr_max=1e-2)"
      ]
    },
    {
      "cell_type": "code",
      "execution_count": null,
      "metadata": {
        "id": "A8PU0sv7yawO",
        "colab": {
          "base_uri": "https://localhost:8080/",
          "height": 112
        },
        "outputId": "7db1ef95-3eec-44e6-a79a-931d3d2ae612"
      },
      "outputs": [
        {
          "output_type": "display_data",
          "data": {
            "text/html": [
              "\n",
              "<style>\n",
              "    /* Turns off some styling */\n",
              "    progress {\n",
              "        /* gets rid of default border in Firefox and Opera. */\n",
              "        border: none;\n",
              "        /* Needs to be in here for Safari polyfill so background images work as expected. */\n",
              "        background-size: auto;\n",
              "    }\n",
              "    .progress-bar-interrupted, .progress-bar-interrupted::-webkit-progress-bar {\n",
              "        background: #F44336;\n",
              "    }\n",
              "</style>\n"
            ],
            "text/plain": [
              "<IPython.core.display.HTML object>"
            ]
          },
          "metadata": {}
        },
        {
          "output_type": "display_data",
          "data": {
            "text/html": [
              "<table border=\"1\" class=\"dataframe\">\n",
              "  <thead>\n",
              "    <tr style=\"text-align: left;\">\n",
              "      <th>epoch</th>\n",
              "      <th>train_loss</th>\n",
              "      <th>valid_loss</th>\n",
              "      <th>accuracy_multi</th>\n",
              "      <th>time</th>\n",
              "    </tr>\n",
              "  </thead>\n",
              "  <tbody>\n",
              "    <tr>\n",
              "      <td>0</td>\n",
              "      <td>0.155353</td>\n",
              "      <td>1.388179</td>\n",
              "      <td>0.860313</td>\n",
              "      <td>18:37</td>\n",
              "    </tr>\n",
              "    <tr>\n",
              "      <td>1</td>\n",
              "      <td>0.102483</td>\n",
              "      <td>0.087979</td>\n",
              "      <td>0.955824</td>\n",
              "      <td>00:43</td>\n",
              "    </tr>\n",
              "  </tbody>\n",
              "</table>"
            ],
            "text/plain": [
              "<IPython.core.display.HTML object>"
            ]
          },
          "metadata": {}
        }
      ],
      "source": [
        "learnFT.save('FT')\n",
        "learnFT.export(Path(path/'GeneralMulti.pkl'))\n",
        "dlsGC = actions.dataloaders(path/\"Gate Crash\")\n",
        "learnGC = cnn_learner(dlsGC, resnet50, metrics=partial(accuracy_multi, thresh=0.2))\n",
        "learnGC.load('FT')\n",
        "learnGC.unfreeze()\n",
        "learnGC.fit_one_cycle(2, lr_max=1e-2)"
      ]
    },
    {
      "cell_type": "code",
      "execution_count": null,
      "metadata": {
        "id": "5_gL0alZyawO",
        "colab": {
          "base_uri": "https://localhost:8080/",
          "height": 112
        },
        "outputId": "273bd3ba-befb-4fea-8dc4-6fd973c44537"
      },
      "outputs": [
        {
          "output_type": "display_data",
          "data": {
            "text/html": [
              "\n",
              "<style>\n",
              "    /* Turns off some styling */\n",
              "    progress {\n",
              "        /* gets rid of default border in Firefox and Opera. */\n",
              "        border: none;\n",
              "        /* Needs to be in here for Safari polyfill so background images work as expected. */\n",
              "        background-size: auto;\n",
              "    }\n",
              "    .progress-bar-interrupted, .progress-bar-interrupted::-webkit-progress-bar {\n",
              "        background: #F44336;\n",
              "    }\n",
              "</style>\n"
            ],
            "text/plain": [
              "<IPython.core.display.HTML object>"
            ]
          },
          "metadata": {}
        },
        {
          "output_type": "display_data",
          "data": {
            "text/html": [
              "<table border=\"1\" class=\"dataframe\">\n",
              "  <thead>\n",
              "    <tr style=\"text-align: left;\">\n",
              "      <th>epoch</th>\n",
              "      <th>train_loss</th>\n",
              "      <th>valid_loss</th>\n",
              "      <th>accuracy_multi</th>\n",
              "      <th>time</th>\n",
              "    </tr>\n",
              "  </thead>\n",
              "  <tbody>\n",
              "    <tr>\n",
              "      <td>0</td>\n",
              "      <td>0.122610</td>\n",
              "      <td>0.121858</td>\n",
              "      <td>0.935936</td>\n",
              "      <td>45:19</td>\n",
              "    </tr>\n",
              "    <tr>\n",
              "      <td>1</td>\n",
              "      <td>0.095095</td>\n",
              "      <td>0.099046</td>\n",
              "      <td>0.949452</td>\n",
              "      <td>01:44</td>\n",
              "    </tr>\n",
              "  </tbody>\n",
              "</table>"
            ],
            "text/plain": [
              "<IPython.core.display.HTML object>"
            ]
          },
          "metadata": {}
        }
      ],
      "source": [
        "learnGC.save('GC')\n",
        "learnGC.export(Path(path/'GeneralMulti.pkl'))\n",
        "dlsHP = actions.dataloaders(path/\"Hit Parade\")\n",
        "learnHP = cnn_learner(dlsHP, resnet50, metrics=partial(accuracy_multi, thresh=0.2))\n",
        "learnHP.load('GC')\n",
        "learnHP.unfreeze()\n",
        "learnHP.fit_one_cycle(2, lr_max=1e-2)"
      ]
    },
    {
      "cell_type": "code",
      "execution_count": null,
      "metadata": {
        "id": "S6_xDa92yawP",
        "colab": {
          "base_uri": "https://localhost:8080/",
          "height": 112
        },
        "outputId": "a22f92de-2cee-47b4-c5d4-32387af23e8f"
      },
      "outputs": [
        {
          "output_type": "display_data",
          "data": {
            "text/html": [
              "\n",
              "<style>\n",
              "    /* Turns off some styling */\n",
              "    progress {\n",
              "        /* gets rid of default border in Firefox and Opera. */\n",
              "        border: none;\n",
              "        /* Needs to be in here for Safari polyfill so background images work as expected. */\n",
              "        background-size: auto;\n",
              "    }\n",
              "    .progress-bar-interrupted, .progress-bar-interrupted::-webkit-progress-bar {\n",
              "        background: #F44336;\n",
              "    }\n",
              "</style>\n"
            ],
            "text/plain": [
              "<IPython.core.display.HTML object>"
            ]
          },
          "metadata": {}
        },
        {
          "output_type": "display_data",
          "data": {
            "text/html": [
              "<table border=\"1\" class=\"dataframe\">\n",
              "  <thead>\n",
              "    <tr style=\"text-align: left;\">\n",
              "      <th>epoch</th>\n",
              "      <th>train_loss</th>\n",
              "      <th>valid_loss</th>\n",
              "      <th>accuracy_multi</th>\n",
              "      <th>time</th>\n",
              "    </tr>\n",
              "  </thead>\n",
              "  <tbody>\n",
              "    <tr>\n",
              "      <td>0</td>\n",
              "      <td>0.188786</td>\n",
              "      <td>0.237304</td>\n",
              "      <td>0.896398</td>\n",
              "      <td>32:27</td>\n",
              "    </tr>\n",
              "    <tr>\n",
              "      <td>1</td>\n",
              "      <td>0.163425</td>\n",
              "      <td>0.173365</td>\n",
              "      <td>0.927444</td>\n",
              "      <td>01:15</td>\n",
              "    </tr>\n",
              "  </tbody>\n",
              "</table>"
            ],
            "text/plain": [
              "<IPython.core.display.HTML object>"
            ]
          },
          "metadata": {}
        }
      ],
      "source": [
        "learnHP.save('HP')\n",
        "learnHP.export(Path(path/'GeneralMulti.pkl'))\n",
        "dlsKF = actions.dataloaders(path/\"Knight Fever\")\n",
        "learnKF = cnn_learner(dlsKF, resnet50, metrics=partial(accuracy_multi, thresh=0.2))\n",
        "learnKF.load('HP')\n",
        "learnKF.unfreeze()\n",
        "learnKF.fit_one_cycle(2, lr_max=1e-2)"
      ]
    },
    {
      "cell_type": "code",
      "execution_count": null,
      "metadata": {
        "id": "xdoxbr2IyawP",
        "colab": {
          "base_uri": "https://localhost:8080/",
          "height": 112
        },
        "outputId": "90f27391-309c-4a61-9daa-dc9599e7bc75"
      },
      "outputs": [
        {
          "output_type": "display_data",
          "data": {
            "text/html": [
              "\n",
              "<style>\n",
              "    /* Turns off some styling */\n",
              "    progress {\n",
              "        /* gets rid of default border in Firefox and Opera. */\n",
              "        border: none;\n",
              "        /* Needs to be in here for Safari polyfill so background images work as expected. */\n",
              "        background-size: auto;\n",
              "    }\n",
              "    .progress-bar-interrupted, .progress-bar-interrupted::-webkit-progress-bar {\n",
              "        background: #F44336;\n",
              "    }\n",
              "</style>\n"
            ],
            "text/plain": [
              "<IPython.core.display.HTML object>"
            ]
          },
          "metadata": {}
        },
        {
          "output_type": "display_data",
          "data": {
            "text/html": [
              "<table border=\"1\" class=\"dataframe\">\n",
              "  <thead>\n",
              "    <tr style=\"text-align: left;\">\n",
              "      <th>epoch</th>\n",
              "      <th>train_loss</th>\n",
              "      <th>valid_loss</th>\n",
              "      <th>accuracy_multi</th>\n",
              "      <th>time</th>\n",
              "    </tr>\n",
              "  </thead>\n",
              "  <tbody>\n",
              "    <tr>\n",
              "      <td>0</td>\n",
              "      <td>0.277948</td>\n",
              "      <td>0.287205</td>\n",
              "      <td>0.831752</td>\n",
              "      <td>31:14</td>\n",
              "    </tr>\n",
              "    <tr>\n",
              "      <td>1</td>\n",
              "      <td>0.224830</td>\n",
              "      <td>0.242572</td>\n",
              "      <td>0.867901</td>\n",
              "      <td>01:15</td>\n",
              "    </tr>\n",
              "  </tbody>\n",
              "</table>"
            ],
            "text/plain": [
              "<IPython.core.display.HTML object>"
            ]
          },
          "metadata": {}
        }
      ],
      "source": [
        "learnKF.save('KF')\n",
        "learnKF.export(Path(path/'GeneralMulti.pkl'))\n",
        "dlsLL = actions.dataloaders(path/\"Lily Leapers\")\n",
        "learnLL = cnn_learner(dlsLL, resnet50, metrics=partial(accuracy_multi, thresh=0.2))\n",
        "learnLL.load('KF')\n",
        "learnLL.unfreeze()\n",
        "learnLL.fit_one_cycle(2, lr_max=1e-2)"
      ]
    },
    {
      "cell_type": "code",
      "execution_count": null,
      "metadata": {
        "id": "wsi836quyawP",
        "colab": {
          "base_uri": "https://localhost:8080/",
          "height": 112
        },
        "outputId": "774df5b7-a102-4459-a8d4-fe9326d4308b"
      },
      "outputs": [
        {
          "output_type": "display_data",
          "data": {
            "text/html": [
              "\n",
              "<style>\n",
              "    /* Turns off some styling */\n",
              "    progress {\n",
              "        /* gets rid of default border in Firefox and Opera. */\n",
              "        border: none;\n",
              "        /* Needs to be in here for Safari polyfill so background images work as expected. */\n",
              "        background-size: auto;\n",
              "    }\n",
              "    .progress-bar-interrupted, .progress-bar-interrupted::-webkit-progress-bar {\n",
              "        background: #F44336;\n",
              "    }\n",
              "</style>\n"
            ],
            "text/plain": [
              "<IPython.core.display.HTML object>"
            ]
          },
          "metadata": {}
        },
        {
          "output_type": "display_data",
          "data": {
            "text/html": [
              "<table border=\"1\" class=\"dataframe\">\n",
              "  <thead>\n",
              "    <tr style=\"text-align: left;\">\n",
              "      <th>epoch</th>\n",
              "      <th>train_loss</th>\n",
              "      <th>valid_loss</th>\n",
              "      <th>accuracy_multi</th>\n",
              "      <th>time</th>\n",
              "    </tr>\n",
              "  </thead>\n",
              "  <tbody>\n",
              "    <tr>\n",
              "      <td>0</td>\n",
              "      <td>0.253044</td>\n",
              "      <td>0.305683</td>\n",
              "      <td>0.853657</td>\n",
              "      <td>1:36:54</td>\n",
              "    </tr>\n",
              "    <tr>\n",
              "      <td>1</td>\n",
              "      <td>0.208994</td>\n",
              "      <td>0.217759</td>\n",
              "      <td>0.880314</td>\n",
              "      <td>03:47</td>\n",
              "    </tr>\n",
              "  </tbody>\n",
              "</table>"
            ],
            "text/plain": [
              "<IPython.core.display.HTML object>"
            ]
          },
          "metadata": {}
        }
      ],
      "source": [
        "learnLL.save('LL')\n",
        "learnLL.export(Path(path/'GeneralMulti.pkl'))\n",
        "dlsPP = actions.dataloaders(path/\"Party Promenade\")\n",
        "learnPP = cnn_learner(dlsPP, resnet50, metrics=partial(accuracy_multi, thresh=0.2))\n",
        "learnPP.load('LL')\n",
        "learnPP.unfreeze()\n",
        "learnPP.fit_one_cycle(2, lr_max=1e-2)"
      ]
    },
    {
      "cell_type": "code",
      "execution_count": null,
      "metadata": {
        "id": "6pWG2Y6jyawQ",
        "colab": {
          "base_uri": "https://localhost:8080/",
          "height": 112
        },
        "outputId": "c2708ba8-5adf-463f-b6b9-c11a861383e3"
      },
      "outputs": [
        {
          "output_type": "display_data",
          "data": {
            "text/html": [
              "\n",
              "<style>\n",
              "    /* Turns off some styling */\n",
              "    progress {\n",
              "        /* gets rid of default border in Firefox and Opera. */\n",
              "        border: none;\n",
              "        /* Needs to be in here for Safari polyfill so background images work as expected. */\n",
              "        background-size: auto;\n",
              "    }\n",
              "    .progress-bar-interrupted, .progress-bar-interrupted::-webkit-progress-bar {\n",
              "        background: #F44336;\n",
              "    }\n",
              "</style>\n"
            ],
            "text/plain": [
              "<IPython.core.display.HTML object>"
            ]
          },
          "metadata": {}
        },
        {
          "output_type": "display_data",
          "data": {
            "text/html": [
              "<table border=\"1\" class=\"dataframe\">\n",
              "  <thead>\n",
              "    <tr style=\"text-align: left;\">\n",
              "      <th>epoch</th>\n",
              "      <th>train_loss</th>\n",
              "      <th>valid_loss</th>\n",
              "      <th>accuracy_multi</th>\n",
              "      <th>time</th>\n",
              "    </tr>\n",
              "  </thead>\n",
              "  <tbody>\n",
              "    <tr>\n",
              "      <td>0</td>\n",
              "      <td>0.228944</td>\n",
              "      <td>102.139885</td>\n",
              "      <td>0.579712</td>\n",
              "      <td>36:54</td>\n",
              "    </tr>\n",
              "    <tr>\n",
              "      <td>1</td>\n",
              "      <td>0.183837</td>\n",
              "      <td>0.169307</td>\n",
              "      <td>0.907093</td>\n",
              "      <td>01:28</td>\n",
              "    </tr>\n",
              "  </tbody>\n",
              "</table>"
            ],
            "text/plain": [
              "<IPython.core.display.HTML object>"
            ]
          },
          "metadata": {}
        }
      ],
      "source": [
        "learnPP.save('PP')\n",
        "learnPP.export(Path(path/'GeneralMulti.pkl'))\n",
        "dlsRO = actions.dataloaders(path/\"Roll On\")\n",
        "learnRO = cnn_learner(dlsRO, resnet50, metrics=partial(accuracy_multi, thresh=0.2))\n",
        "learnRO.load('PP')\n",
        "learnRO.unfreeze()\n",
        "learnRO.fit_one_cycle(2, lr_max=1e-2)"
      ]
    },
    {
      "cell_type": "code",
      "execution_count": null,
      "metadata": {
        "id": "0XEccUtfyawQ",
        "colab": {
          "base_uri": "https://localhost:8080/",
          "height": 112
        },
        "outputId": "aeae21a4-3b97-4aaa-fe5c-df07ccc5d8e3"
      },
      "outputs": [
        {
          "output_type": "display_data",
          "data": {
            "text/html": [
              "\n",
              "<style>\n",
              "    /* Turns off some styling */\n",
              "    progress {\n",
              "        /* gets rid of default border in Firefox and Opera. */\n",
              "        border: none;\n",
              "        /* Needs to be in here for Safari polyfill so background images work as expected. */\n",
              "        background-size: auto;\n",
              "    }\n",
              "    .progress-bar-interrupted, .progress-bar-interrupted::-webkit-progress-bar {\n",
              "        background: #F44336;\n",
              "    }\n",
              "</style>\n"
            ],
            "text/plain": [
              "<IPython.core.display.HTML object>"
            ]
          },
          "metadata": {}
        },
        {
          "output_type": "display_data",
          "data": {
            "text/html": [
              "<table border=\"1\" class=\"dataframe\">\n",
              "  <thead>\n",
              "    <tr style=\"text-align: left;\">\n",
              "      <th>epoch</th>\n",
              "      <th>train_loss</th>\n",
              "      <th>valid_loss</th>\n",
              "      <th>accuracy_multi</th>\n",
              "      <th>time</th>\n",
              "    </tr>\n",
              "  </thead>\n",
              "  <tbody>\n",
              "    <tr>\n",
              "      <td>0</td>\n",
              "      <td>0.166239</td>\n",
              "      <td>1.051910</td>\n",
              "      <td>0.907341</td>\n",
              "      <td>1:09:55</td>\n",
              "    </tr>\n",
              "    <tr>\n",
              "      <td>1</td>\n",
              "      <td>0.109961</td>\n",
              "      <td>0.100775</td>\n",
              "      <td>0.949778</td>\n",
              "      <td>03:02</td>\n",
              "    </tr>\n",
              "  </tbody>\n",
              "</table>"
            ],
            "text/plain": [
              "<IPython.core.display.HTML object>"
            ]
          },
          "metadata": {}
        }
      ],
      "source": [
        "learnRO.save('RO')\n",
        "learnRO.export(Path(path/'GeneralMulti.pkl'))\n",
        "dlsSS = actions.dataloaders(path/\"See Saw\")\n",
        "learnSS = cnn_learner(dlsSS, resnet50, metrics=partial(accuracy_multi, thresh=0.2))\n",
        "learnSS.load('RO')\n",
        "learnSS.unfreeze()\n",
        "learnSS.fit_one_cycle(2, lr_max=1e-2)"
      ]
    },
    {
      "cell_type": "code",
      "execution_count": null,
      "metadata": {
        "id": "5DKmWN3iyawR",
        "colab": {
          "base_uri": "https://localhost:8080/",
          "height": 112
        },
        "outputId": "a3ab39a9-4eae-4fb5-a419-12541ff86145"
      },
      "outputs": [
        {
          "output_type": "display_data",
          "data": {
            "text/html": [
              "\n",
              "<style>\n",
              "    /* Turns off some styling */\n",
              "    progress {\n",
              "        /* gets rid of default border in Firefox and Opera. */\n",
              "        border: none;\n",
              "        /* Needs to be in here for Safari polyfill so background images work as expected. */\n",
              "        background-size: auto;\n",
              "    }\n",
              "    .progress-bar-interrupted, .progress-bar-interrupted::-webkit-progress-bar {\n",
              "        background: #F44336;\n",
              "    }\n",
              "</style>\n"
            ],
            "text/plain": [
              "<IPython.core.display.HTML object>"
            ]
          },
          "metadata": {}
        },
        {
          "output_type": "display_data",
          "data": {
            "text/html": [
              "<table border=\"1\" class=\"dataframe\">\n",
              "  <thead>\n",
              "    <tr style=\"text-align: left;\">\n",
              "      <th>epoch</th>\n",
              "      <th>train_loss</th>\n",
              "      <th>valid_loss</th>\n",
              "      <th>accuracy_multi</th>\n",
              "      <th>time</th>\n",
              "    </tr>\n",
              "  </thead>\n",
              "  <tbody>\n",
              "    <tr>\n",
              "      <td>0</td>\n",
              "      <td>0.264789</td>\n",
              "      <td>0.364042</td>\n",
              "      <td>0.864742</td>\n",
              "      <td>33:50</td>\n",
              "    </tr>\n",
              "    <tr>\n",
              "      <td>1</td>\n",
              "      <td>0.193687</td>\n",
              "      <td>0.177589</td>\n",
              "      <td>0.897053</td>\n",
              "      <td>01:20</td>\n",
              "    </tr>\n",
              "  </tbody>\n",
              "</table>"
            ],
            "text/plain": [
              "<IPython.core.display.HTML object>"
            ]
          },
          "metadata": {}
        }
      ],
      "source": [
        "learnSS.save('SS')\n",
        "learnSS.export(Path(path/'GeneralMulti.pkl'))\n",
        "dlsSSt = actions.dataloaders(path/\"Skyline Stumble\")\n",
        "learnSSt = cnn_learner(dlsSSt, resnet50, metrics=partial(accuracy_multi, thresh=0.2))\n",
        "learnSSt.load('SS')\n",
        "learnSSt.unfreeze()\n",
        "learnSSt.fit_one_cycle(2, lr_max=1e-2)"
      ]
    },
    {
      "cell_type": "code",
      "execution_count": null,
      "metadata": {
        "id": "HihQyXV2yawR",
        "colab": {
          "base_uri": "https://localhost:8080/",
          "height": 112
        },
        "outputId": "2e2a76ee-fe6b-4ec2-f064-bd1a386584d8"
      },
      "outputs": [
        {
          "output_type": "display_data",
          "data": {
            "text/html": [
              "\n",
              "<style>\n",
              "    /* Turns off some styling */\n",
              "    progress {\n",
              "        /* gets rid of default border in Firefox and Opera. */\n",
              "        border: none;\n",
              "        /* Needs to be in here for Safari polyfill so background images work as expected. */\n",
              "        background-size: auto;\n",
              "    }\n",
              "    .progress-bar-interrupted, .progress-bar-interrupted::-webkit-progress-bar {\n",
              "        background: #F44336;\n",
              "    }\n",
              "</style>\n"
            ],
            "text/plain": [
              "<IPython.core.display.HTML object>"
            ]
          },
          "metadata": {}
        },
        {
          "output_type": "display_data",
          "data": {
            "text/html": [
              "<table border=\"1\" class=\"dataframe\">\n",
              "  <thead>\n",
              "    <tr style=\"text-align: left;\">\n",
              "      <th>epoch</th>\n",
              "      <th>train_loss</th>\n",
              "      <th>valid_loss</th>\n",
              "      <th>accuracy_multi</th>\n",
              "      <th>time</th>\n",
              "    </tr>\n",
              "  </thead>\n",
              "  <tbody>\n",
              "    <tr>\n",
              "      <td>0</td>\n",
              "      <td>0.161872</td>\n",
              "      <td>0.241723</td>\n",
              "      <td>0.921932</td>\n",
              "      <td>36:15</td>\n",
              "    </tr>\n",
              "    <tr>\n",
              "      <td>1</td>\n",
              "      <td>0.110504</td>\n",
              "      <td>0.105737</td>\n",
              "      <td>0.945372</td>\n",
              "      <td>01:27</td>\n",
              "    </tr>\n",
              "  </tbody>\n",
              "</table>"
            ],
            "text/plain": [
              "<IPython.core.display.HTML object>"
            ]
          },
          "metadata": {}
        }
      ],
      "source": [
        "learnSSt.save('SSt')\n",
        "learnSSt.export(Path(path/'GeneralMulti.pkl'))\n",
        "dlsTW = actions.dataloaders(path/\"The Whirlygig\")\n",
        "learnTW = cnn_learner(dlsTW, resnet50, metrics=partial(accuracy_multi, thresh=0.2))\n",
        "learnTW.load('SSt')\n",
        "learnTW.unfreeze()\n",
        "learnTW.fit_one_cycle(2, lr_max=1e-2)"
      ]
    },
    {
      "cell_type": "code",
      "source": [
        "learnTW = load_learner(Path(path/'GeneralMulti.pkl'))"
      ],
      "metadata": {
        "id": "MT6p_MEj4PXe"
      },
      "execution_count": null,
      "outputs": []
    },
    {
      "cell_type": "code",
      "execution_count": null,
      "metadata": {
        "id": "vy_hDCT5yawR",
        "colab": {
          "base_uri": "https://localhost:8080/",
          "height": 148
        },
        "outputId": "2697d132-b1eb-4881-9620-7a3e59c222de"
      },
      "outputs": [
        {
          "output_type": "stream",
          "name": "stderr",
          "text": [
            "/usr/local/lib/python3.7/dist-packages/fastai/learner.py:56: UserWarning: Saved filed doesn't contain an optimizer state.\n",
            "  elif with_opt: warn(\"Saved filed doesn't contain an optimizer state.\")\n"
          ]
        },
        {
          "output_type": "display_data",
          "data": {
            "text/html": [
              "\n",
              "<style>\n",
              "    /* Turns off some styling */\n",
              "    progress {\n",
              "        /* gets rid of default border in Firefox and Opera. */\n",
              "        border: none;\n",
              "        /* Needs to be in here for Safari polyfill so background images work as expected. */\n",
              "        background-size: auto;\n",
              "    }\n",
              "    .progress-bar-interrupted, .progress-bar-interrupted::-webkit-progress-bar {\n",
              "        background: #F44336;\n",
              "    }\n",
              "</style>\n"
            ],
            "text/plain": [
              "<IPython.core.display.HTML object>"
            ]
          },
          "metadata": {}
        },
        {
          "output_type": "display_data",
          "data": {
            "text/html": [
              "<table border=\"1\" class=\"dataframe\">\n",
              "  <thead>\n",
              "    <tr style=\"text-align: left;\">\n",
              "      <th>epoch</th>\n",
              "      <th>train_loss</th>\n",
              "      <th>valid_loss</th>\n",
              "      <th>accuracy_multi</th>\n",
              "      <th>time</th>\n",
              "    </tr>\n",
              "  </thead>\n",
              "  <tbody>\n",
              "    <tr>\n",
              "      <td>0</td>\n",
              "      <td>0.194771</td>\n",
              "      <td>0.163903</td>\n",
              "      <td>0.903920</td>\n",
              "      <td>13:41</td>\n",
              "    </tr>\n",
              "    <tr>\n",
              "      <td>1</td>\n",
              "      <td>0.135721</td>\n",
              "      <td>0.128589</td>\n",
              "      <td>0.931627</td>\n",
              "      <td>01:35</td>\n",
              "    </tr>\n",
              "  </tbody>\n",
              "</table>"
            ],
            "text/plain": [
              "<IPython.core.display.HTML object>"
            ]
          },
          "metadata": {}
        }
      ],
      "source": [
        "learnTW.save('TW')\n",
        "# learnTW.export(Path(path/'GeneralMulti.pkl'))\n",
        "dlsTT = actions.dataloaders(path/\"Treetop Tumble\")\n",
        "learnTT = cnn_learner(dlsTT, resnet50, metrics=partial(accuracy_multi, thresh=0.2))\n",
        "learnTT.load('TW')\n",
        "learnTT.unfreeze()\n",
        "learnTT.fit_one_cycle(2, lr_max=1e-2)"
      ]
    },
    {
      "cell_type": "code",
      "execution_count": null,
      "metadata": {
        "id": "lXP8G36yyawS",
        "colab": {
          "base_uri": "https://localhost:8080/",
          "height": 112
        },
        "outputId": "e1cf3c0c-192e-4f81-b36d-74cc80aa4b97"
      },
      "outputs": [
        {
          "output_type": "display_data",
          "data": {
            "text/html": [
              "\n",
              "<style>\n",
              "    /* Turns off some styling */\n",
              "    progress {\n",
              "        /* gets rid of default border in Firefox and Opera. */\n",
              "        border: none;\n",
              "        /* Needs to be in here for Safari polyfill so background images work as expected. */\n",
              "        background-size: auto;\n",
              "    }\n",
              "    .progress-bar-interrupted, .progress-bar-interrupted::-webkit-progress-bar {\n",
              "        background: #F44336;\n",
              "    }\n",
              "</style>\n"
            ],
            "text/plain": [
              "<IPython.core.display.HTML object>"
            ]
          },
          "metadata": {}
        },
        {
          "output_type": "display_data",
          "data": {
            "text/html": [
              "<table border=\"1\" class=\"dataframe\">\n",
              "  <thead>\n",
              "    <tr style=\"text-align: left;\">\n",
              "      <th>epoch</th>\n",
              "      <th>train_loss</th>\n",
              "      <th>valid_loss</th>\n",
              "      <th>accuracy_multi</th>\n",
              "      <th>time</th>\n",
              "    </tr>\n",
              "  </thead>\n",
              "  <tbody>\n",
              "    <tr>\n",
              "      <td>0</td>\n",
              "      <td>0.151377</td>\n",
              "      <td>0.792867</td>\n",
              "      <td>0.854840</td>\n",
              "      <td>24:11</td>\n",
              "    </tr>\n",
              "    <tr>\n",
              "      <td>1</td>\n",
              "      <td>0.105213</td>\n",
              "      <td>0.100961</td>\n",
              "      <td>0.946542</td>\n",
              "      <td>00:53</td>\n",
              "    </tr>\n",
              "  </tbody>\n",
              "</table>"
            ],
            "text/plain": [
              "<IPython.core.display.HTML object>"
            ]
          },
          "metadata": {}
        }
      ],
      "source": [
        "learnTT.save('TT')\n",
        "learnTT.export(Path(path/'GeneralMulti.pkl'))\n",
        "dlsTR = actions.dataloaders(path/\"Dizzy Heights\")\n",
        "learnTR = cnn_learner(dlsTR, resnet50, metrics=partial(accuracy_multi, thresh=0.2))\n",
        "learnTR.load('TT')\n",
        "learnTR.unfreeze()\n",
        "learnTR.fit_one_cycle(2, lr_max=1e-2)"
      ]
    },
    {
      "cell_type": "code",
      "execution_count": null,
      "metadata": {
        "id": "9-6cg2P2yRdN"
      },
      "outputs": [],
      "source": [
        "learnTR.export(Path(path/'GeneralMulti.pkl'))"
      ]
    },
    {
      "cell_type": "markdown",
      "metadata": {
        "id": "pX4I-StFi1Sl"
      },
      "source": [
        "### Fine Tuning the Indibidual Models"
      ]
    },
    {
      "cell_type": "code",
      "execution_count": null,
      "metadata": {
        "id": "bnPbwYBui1Sm"
      },
      "outputs": [],
      "source": [
        "learn = load_learner(Path(path/'GeneralMulti.pkl'))"
      ]
    },
    {
      "cell_type": "code",
      "execution_count": null,
      "metadata": {
        "colab": {
          "base_uri": "https://localhost:8080/",
          "height": 372,
          "referenced_widgets": [
            "fcf70a634cb0465b9933a5c865bd819b",
            "154f02cd1e04476fb8f90ff85380f72f",
            "26d193e289864f81b1cc5877bdfdcfa9",
            "6833907df1ad4f978fb6e1eb79f8b230",
            "ab4f632294d64d0787e6323a47b46ba3",
            "c7ed31e145254f2fbd49a2845b0698d1",
            "8d05b3ad78cf4012849fad26320a97e9",
            "30700764c3ca4d88a3e118faf3264fb9",
            "319f10d000d843249166900fcecc5b97",
            "c512fd6c474b4812980c8a3c1d3de8a9",
            "7b38741141934960b9659454df74a62b"
          ]
        },
        "id": "u1-wBweKi1Sm",
        "outputId": "68cb2787-f6eb-48ac-900e-f2651727d43c"
      },
      "outputs": [
        {
          "output_type": "stream",
          "name": "stderr",
          "text": [
            "Downloading: \"https://download.pytorch.org/models/resnet50-0676ba61.pth\" to /root/.cache/torch/hub/checkpoints/resnet50-0676ba61.pth\n"
          ]
        },
        {
          "output_type": "display_data",
          "data": {
            "application/vnd.jupyter.widget-view+json": {
              "model_id": "fcf70a634cb0465b9933a5c865bd819b",
              "version_minor": 0,
              "version_major": 2
            },
            "text/plain": [
              "  0%|          | 0.00/97.8M [00:00<?, ?B/s]"
            ]
          },
          "metadata": {}
        },
        {
          "output_type": "display_data",
          "data": {
            "text/html": [
              "\n",
              "<style>\n",
              "    /* Turns off some styling */\n",
              "    progress {\n",
              "        /* gets rid of default border in Firefox and Opera. */\n",
              "        border: none;\n",
              "        /* Needs to be in here for Safari polyfill so background images work as expected. */\n",
              "        background-size: auto;\n",
              "    }\n",
              "    .progress-bar-interrupted, .progress-bar-interrupted::-webkit-progress-bar {\n",
              "        background: #F44336;\n",
              "    }\n",
              "</style>\n"
            ],
            "text/plain": [
              "<IPython.core.display.HTML object>"
            ]
          },
          "metadata": {}
        },
        {
          "output_type": "display_data",
          "data": {
            "text/html": [
              ""
            ],
            "text/plain": [
              "<IPython.core.display.HTML object>"
            ]
          },
          "metadata": {}
        },
        {
          "output_type": "execute_result",
          "data": {
            "text/plain": [
              "SuggestedLRs(valley=0.010964781977236271)"
            ]
          },
          "metadata": {},
          "execution_count": 9
        },
        {
          "output_type": "display_data",
          "data": {
            "image/png": "[encoded data removed]",
            "text/plain": [
              "<Figure size 432x288 with 1 Axes>"
            ]
          },
          "metadata": {
            "needs_background": "light"
          }
        }
      ],
      "source": [
        "learn.unfreeze()\n",
        "learn.save('General')\n",
        "dlsBF = actions.dataloaders(path/\"Big Fans\")\n",
        "learnBF = cnn_learner(dlsBF, resnet50, metrics=partial(accuracy_multi, thresh=0.2))\n",
        "learnBF.load('General')\n",
        "learnBF.lr_find()"
      ]
    },
    {
      "cell_type": "code",
      "execution_count": null,
      "metadata": {
        "colab": {
          "base_uri": "https://localhost:8080/",
          "height": 206
        },
        "id": "10qvetRWi1Sm",
        "outputId": "fbc0fcdd-2fd3-4b0f-92e6-0aad66942431"
      },
      "outputs": [
        {
          "output_type": "display_data",
          "data": {
            "text/html": [
              "\n",
              "<style>\n",
              "    /* Turns off some styling */\n",
              "    progress {\n",
              "        /* gets rid of default border in Firefox and Opera. */\n",
              "        border: none;\n",
              "        /* Needs to be in here for Safari polyfill so background images work as expected. */\n",
              "        background-size: auto;\n",
              "    }\n",
              "    .progress-bar-interrupted, .progress-bar-interrupted::-webkit-progress-bar {\n",
              "        background: #F44336;\n",
              "    }\n",
              "</style>\n"
            ],
            "text/plain": [
              "<IPython.core.display.HTML object>"
            ]
          },
          "metadata": {}
        },
        {
          "output_type": "display_data",
          "data": {
            "text/html": [
              "<table border=\"1\" class=\"dataframe\">\n",
              "  <thead>\n",
              "    <tr style=\"text-align: left;\">\n",
              "      <th>epoch</th>\n",
              "      <th>train_loss</th>\n",
              "      <th>valid_loss</th>\n",
              "      <th>accuracy_multi</th>\n",
              "      <th>time</th>\n",
              "    </tr>\n",
              "  </thead>\n",
              "  <tbody>\n",
              "    <tr>\n",
              "      <td>0</td>\n",
              "      <td>0.195590</td>\n",
              "      <td>0.297720</td>\n",
              "      <td>0.865033</td>\n",
              "      <td>16:04</td>\n",
              "    </tr>\n",
              "    <tr>\n",
              "      <td>1</td>\n",
              "      <td>0.173637</td>\n",
              "      <td>0.628486</td>\n",
              "      <td>0.859211</td>\n",
              "      <td>02:51</td>\n",
              "    </tr>\n",
              "    <tr>\n",
              "      <td>2</td>\n",
              "      <td>0.137918</td>\n",
              "      <td>0.134450</td>\n",
              "      <td>0.937112</td>\n",
              "      <td>02:51</td>\n",
              "    </tr>\n",
              "    <tr>\n",
              "      <td>3</td>\n",
              "      <td>0.097643</td>\n",
              "      <td>0.143900</td>\n",
              "      <td>0.948092</td>\n",
              "      <td>02:51</td>\n",
              "    </tr>\n",
              "    <tr>\n",
              "      <td>4</td>\n",
              "      <td>0.071557</td>\n",
              "      <td>0.106825</td>\n",
              "      <td>0.954423</td>\n",
              "      <td>02:51</td>\n",
              "    </tr>\n",
              "  </tbody>\n",
              "</table>"
            ],
            "text/plain": [
              "<IPython.core.display.HTML object>"
            ]
          },
          "metadata": {}
        }
      ],
      "source": [
        "learnBF.unfreeze()\n",
        "learnBF.fit_one_cycle(5, lr_max=1e-2)"
      ]
    },
    {
      "cell_type": "code",
      "execution_count": null,
      "metadata": {
        "colab": {
          "base_uri": "https://localhost:8080/",
          "height": 206
        },
        "id": "knvkD_KSi1Sm",
        "outputId": "e38c4b35-bada-4967-cc7b-0de47629264b"
      },
      "outputs": [
        {
          "output_type": "display_data",
          "data": {
            "text/html": [
              "\n",
              "<style>\n",
              "    /* Turns off some styling */\n",
              "    progress {\n",
              "        /* gets rid of default border in Firefox and Opera. */\n",
              "        border: none;\n",
              "        /* Needs to be in here for Safari polyfill so background images work as expected. */\n",
              "        background-size: auto;\n",
              "    }\n",
              "    .progress-bar-interrupted, .progress-bar-interrupted::-webkit-progress-bar {\n",
              "        background: #F44336;\n",
              "    }\n",
              "</style>\n"
            ],
            "text/plain": [
              "<IPython.core.display.HTML object>"
            ]
          },
          "metadata": {}
        },
        {
          "output_type": "display_data",
          "data": {
            "text/html": [
              "<table border=\"1\" class=\"dataframe\">\n",
              "  <thead>\n",
              "    <tr style=\"text-align: left;\">\n",
              "      <th>epoch</th>\n",
              "      <th>train_loss</th>\n",
              "      <th>valid_loss</th>\n",
              "      <th>accuracy_multi</th>\n",
              "      <th>time</th>\n",
              "    </tr>\n",
              "  </thead>\n",
              "  <tbody>\n",
              "    <tr>\n",
              "      <td>0</td>\n",
              "      <td>0.162571</td>\n",
              "      <td>0.465431</td>\n",
              "      <td>0.914960</td>\n",
              "      <td>14:11</td>\n",
              "    </tr>\n",
              "    <tr>\n",
              "      <td>1</td>\n",
              "      <td>0.109855</td>\n",
              "      <td>0.103823</td>\n",
              "      <td>0.943663</td>\n",
              "      <td>00:53</td>\n",
              "    </tr>\n",
              "    <tr>\n",
              "      <td>2</td>\n",
              "      <td>0.109684</td>\n",
              "      <td>0.133578</td>\n",
              "      <td>0.939551</td>\n",
              "      <td>00:53</td>\n",
              "    </tr>\n",
              "    <tr>\n",
              "      <td>3</td>\n",
              "      <td>0.078209</td>\n",
              "      <td>0.088308</td>\n",
              "      <td>0.957645</td>\n",
              "      <td>00:53</td>\n",
              "    </tr>\n",
              "    <tr>\n",
              "      <td>4</td>\n",
              "      <td>0.056057</td>\n",
              "      <td>0.086130</td>\n",
              "      <td>0.958796</td>\n",
              "      <td>00:53</td>\n",
              "    </tr>\n",
              "  </tbody>\n",
              "</table>"
            ],
            "text/plain": [
              "<IPython.core.display.HTML object>"
            ]
          },
          "metadata": {}
        }
      ],
      "source": [
        "learnBF.save('BF')\n",
        "learnBF.export(Path(path/'BigFansMulti.pkl'))\n",
        "learnBF.unfreeze()\n",
        "dlsDH = actions.dataloaders(path/\"Dizzy Heights\")\n",
        "learnDH = cnn_learner(dlsDH, resnet50, metrics=partial(accuracy_multi, thresh=0.2))\n",
        "learnDH.load('BF')\n",
        "learnDH.unfreeze()\n",
        "learnDH.fit_one_cycle(5, lr_max=1e-2)"
      ]
    },
    {
      "cell_type": "code",
      "execution_count": null,
      "metadata": {
        "colab": {
          "base_uri": "https://localhost:8080/",
          "height": 206
        },
        "id": "eDgk-F_Pi1Sn",
        "outputId": "20fbac0c-b2f4-4fca-fede-7aabb3398fbe"
      },
      "outputs": [
        {
          "output_type": "display_data",
          "data": {
            "text/html": [
              "\n",
              "<style>\n",
              "    /* Turns off some styling */\n",
              "    progress {\n",
              "        /* gets rid of default border in Firefox and Opera. */\n",
              "        border: none;\n",
              "        /* Needs to be in here for Safari polyfill so background images work as expected. */\n",
              "        background-size: auto;\n",
              "    }\n",
              "    .progress-bar-interrupted, .progress-bar-interrupted::-webkit-progress-bar {\n",
              "        background: #F44336;\n",
              "    }\n",
              "</style>\n"
            ],
            "text/plain": [
              "<IPython.core.display.HTML object>"
            ]
          },
          "metadata": {}
        },
        {
          "output_type": "display_data",
          "data": {
            "text/html": [
              "<table border=\"1\" class=\"dataframe\">\n",
              "  <thead>\n",
              "    <tr style=\"text-align: left;\">\n",
              "      <th>epoch</th>\n",
              "      <th>train_loss</th>\n",
              "      <th>valid_loss</th>\n",
              "      <th>accuracy_multi</th>\n",
              "      <th>time</th>\n",
              "    </tr>\n",
              "  </thead>\n",
              "  <tbody>\n",
              "    <tr>\n",
              "      <td>0</td>\n",
              "      <td>0.131347</td>\n",
              "      <td>0.104832</td>\n",
              "      <td>0.960611</td>\n",
              "      <td>15:53</td>\n",
              "    </tr>\n",
              "    <tr>\n",
              "      <td>1</td>\n",
              "      <td>0.089299</td>\n",
              "      <td>0.136342</td>\n",
              "      <td>0.943930</td>\n",
              "      <td>00:59</td>\n",
              "    </tr>\n",
              "    <tr>\n",
              "      <td>2</td>\n",
              "      <td>0.063560</td>\n",
              "      <td>0.064835</td>\n",
              "      <td>0.967666</td>\n",
              "      <td>00:59</td>\n",
              "    </tr>\n",
              "    <tr>\n",
              "      <td>3</td>\n",
              "      <td>0.038557</td>\n",
              "      <td>0.047890</td>\n",
              "      <td>0.978028</td>\n",
              "      <td>01:00</td>\n",
              "    </tr>\n",
              "    <tr>\n",
              "      <td>4</td>\n",
              "      <td>0.023915</td>\n",
              "      <td>0.046273</td>\n",
              "      <td>0.979938</td>\n",
              "      <td>00:59</td>\n",
              "    </tr>\n",
              "  </tbody>\n",
              "</table>"
            ],
            "text/plain": [
              "<IPython.core.display.HTML object>"
            ]
          },
          "metadata": {}
        }
      ],
      "source": [
        "learnDH.save('DH')\n",
        "learnDH.export(Path(path/'DizzyHeightsMulti.pkl'))\n",
        "dlsDD = actions.dataloaders(path/\"Door Dash\")\n",
        "learnDD = cnn_learner(dlsDD, resnet50, metrics=partial(accuracy_multi, thresh=0.2))\n",
        "learnDD.load('DH')\n",
        "learnDD.unfreeze()\n",
        "learnDD.fit_one_cycle(5, lr_max=1e-2)"
      ]
    },
    {
      "cell_type": "code",
      "execution_count": null,
      "metadata": {
        "colab": {
          "base_uri": "https://localhost:8080/",
          "height": 206
        },
        "id": "vLKSazwWi1Sn",
        "outputId": "dafab627-b377-4d48-d1bb-52ed64bb454a"
      },
      "outputs": [
        {
          "output_type": "display_data",
          "data": {
            "text/html": [
              "\n",
              "<style>\n",
              "    /* Turns off some styling */\n",
              "    progress {\n",
              "        /* gets rid of default border in Firefox and Opera. */\n",
              "        border: none;\n",
              "        /* Needs to be in here for Safari polyfill so background images work as expected. */\n",
              "        background-size: auto;\n",
              "    }\n",
              "    .progress-bar-interrupted, .progress-bar-interrupted::-webkit-progress-bar {\n",
              "        background: #F44336;\n",
              "    }\n",
              "</style>\n"
            ],
            "text/plain": [
              "<IPython.core.display.HTML object>"
            ]
          },
          "metadata": {}
        },
        {
          "output_type": "display_data",
          "data": {
            "text/html": [
              "<table border=\"1\" class=\"dataframe\">\n",
              "  <thead>\n",
              "    <tr style=\"text-align: left;\">\n",
              "      <th>epoch</th>\n",
              "      <th>train_loss</th>\n",
              "      <th>valid_loss</th>\n",
              "      <th>accuracy_multi</th>\n",
              "      <th>time</th>\n",
              "    </tr>\n",
              "  </thead>\n",
              "  <tbody>\n",
              "    <tr>\n",
              "      <td>0</td>\n",
              "      <td>0.220586</td>\n",
              "      <td>0.209188</td>\n",
              "      <td>0.893902</td>\n",
              "      <td>1:25:40</td>\n",
              "    </tr>\n",
              "    <tr>\n",
              "      <td>1</td>\n",
              "      <td>0.172967</td>\n",
              "      <td>0.164419</td>\n",
              "      <td>0.924915</td>\n",
              "      <td>05:12</td>\n",
              "    </tr>\n",
              "    <tr>\n",
              "      <td>2</td>\n",
              "      <td>0.134066</td>\n",
              "      <td>0.859581</td>\n",
              "      <td>0.932312</td>\n",
              "      <td>05:12</td>\n",
              "    </tr>\n",
              "    <tr>\n",
              "      <td>3</td>\n",
              "      <td>0.091681</td>\n",
              "      <td>0.098387</td>\n",
              "      <td>0.955634</td>\n",
              "      <td>05:12</td>\n",
              "    </tr>\n",
              "    <tr>\n",
              "      <td>4</td>\n",
              "      <td>0.061575</td>\n",
              "      <td>0.079667</td>\n",
              "      <td>0.963590</td>\n",
              "      <td>05:12</td>\n",
              "    </tr>\n",
              "  </tbody>\n",
              "</table>"
            ],
            "text/plain": [
              "<IPython.core.display.HTML object>"
            ]
          },
          "metadata": {}
        }
      ],
      "source": [
        "learnDD.save('DD')\n",
        "learnDD.export(Path(path/'DoorDashMulti.pkl'))\n",
        "dlsFT = actions.dataloaders(path/\"Full Tilt\")\n",
        "learnFT = cnn_learner(dlsFT, resnet50, metrics=partial(accuracy_multi, thresh=0.2))\n",
        "learnFT.load('DD')\n",
        "learnFT.unfreeze()\n",
        "learnFT.fit_one_cycle(5, lr_max=1e-2)"
      ]
    },
    {
      "cell_type": "code",
      "execution_count": null,
      "metadata": {
        "colab": {
          "base_uri": "https://localhost:8080/",
          "height": 206
        },
        "id": "SmRiZe7Qi1Sn",
        "outputId": "f42ee79e-36c8-4090-cbe2-abc9a4d77485"
      },
      "outputs": [
        {
          "output_type": "display_data",
          "data": {
            "text/html": [
              "\n",
              "<style>\n",
              "    /* Turns off some styling */\n",
              "    progress {\n",
              "        /* gets rid of default border in Firefox and Opera. */\n",
              "        border: none;\n",
              "        /* Needs to be in here for Safari polyfill so background images work as expected. */\n",
              "        background-size: auto;\n",
              "    }\n",
              "    .progress-bar-interrupted, .progress-bar-interrupted::-webkit-progress-bar {\n",
              "        background: #F44336;\n",
              "    }\n",
              "</style>\n"
            ],
            "text/plain": [
              "<IPython.core.display.HTML object>"
            ]
          },
          "metadata": {}
        },
        {
          "output_type": "display_data",
          "data": {
            "text/html": [
              "<table border=\"1\" class=\"dataframe\">\n",
              "  <thead>\n",
              "    <tr style=\"text-align: left;\">\n",
              "      <th>epoch</th>\n",
              "      <th>train_loss</th>\n",
              "      <th>valid_loss</th>\n",
              "      <th>accuracy_multi</th>\n",
              "      <th>time</th>\n",
              "    </tr>\n",
              "  </thead>\n",
              "  <tbody>\n",
              "    <tr>\n",
              "      <td>0</td>\n",
              "      <td>0.193425</td>\n",
              "      <td>0.107668</td>\n",
              "      <td>0.946825</td>\n",
              "      <td>05:13</td>\n",
              "    </tr>\n",
              "    <tr>\n",
              "      <td>1</td>\n",
              "      <td>0.099665</td>\n",
              "      <td>9.653444</td>\n",
              "      <td>0.879538</td>\n",
              "      <td>00:43</td>\n",
              "    </tr>\n",
              "    <tr>\n",
              "      <td>2</td>\n",
              "      <td>0.060883</td>\n",
              "      <td>0.103899</td>\n",
              "      <td>0.971061</td>\n",
              "      <td>00:43</td>\n",
              "    </tr>\n",
              "    <tr>\n",
              "      <td>3</td>\n",
              "      <td>0.032744</td>\n",
              "      <td>0.050387</td>\n",
              "      <td>0.978321</td>\n",
              "      <td>00:43</td>\n",
              "    </tr>\n",
              "    <tr>\n",
              "      <td>4</td>\n",
              "      <td>0.019730</td>\n",
              "      <td>0.048647</td>\n",
              "      <td>0.979241</td>\n",
              "      <td>00:43</td>\n",
              "    </tr>\n",
              "  </tbody>\n",
              "</table>"
            ],
            "text/plain": [
              "<IPython.core.display.HTML object>"
            ]
          },
          "metadata": {}
        }
      ],
      "source": [
        "learnFT.save('FT')\n",
        "learnFT.export(Path(path/'FullTiltMulti.pkl'))\n",
        "dlsGC = actions.dataloaders(path/\"Gate Crash\")\n",
        "learnGC = cnn_learner(dlsGC, resnet50, metrics=partial(accuracy_multi, thresh=0.2))\n",
        "learnGC.load('FT')\n",
        "learnGC.unfreeze()\n",
        "learnGC.fit_one_cycle(5, lr_max=1e-2)"
      ]
    },
    {
      "cell_type": "code",
      "execution_count": null,
      "metadata": {
        "colab": {
          "base_uri": "https://localhost:8080/",
          "height": 206
        },
        "id": "1bGRYe3Di1So",
        "outputId": "886c0805-f817-42da-ab98-d9cddf4434cb"
      },
      "outputs": [
        {
          "output_type": "display_data",
          "data": {
            "text/html": [
              "\n",
              "<style>\n",
              "    /* Turns off some styling */\n",
              "    progress {\n",
              "        /* gets rid of default border in Firefox and Opera. */\n",
              "        border: none;\n",
              "        /* Needs to be in here for Safari polyfill so background images work as expected. */\n",
              "        background-size: auto;\n",
              "    }\n",
              "    .progress-bar-interrupted, .progress-bar-interrupted::-webkit-progress-bar {\n",
              "        background: #F44336;\n",
              "    }\n",
              "</style>\n"
            ],
            "text/plain": [
              "<IPython.core.display.HTML object>"
            ]
          },
          "metadata": {}
        },
        {
          "output_type": "display_data",
          "data": {
            "text/html": [
              "<table border=\"1\" class=\"dataframe\">\n",
              "  <thead>\n",
              "    <tr style=\"text-align: left;\">\n",
              "      <th>epoch</th>\n",
              "      <th>train_loss</th>\n",
              "      <th>valid_loss</th>\n",
              "      <th>accuracy_multi</th>\n",
              "      <th>time</th>\n",
              "    </tr>\n",
              "  </thead>\n",
              "  <tbody>\n",
              "    <tr>\n",
              "      <td>0</td>\n",
              "      <td>0.121291</td>\n",
              "      <td>0.126400</td>\n",
              "      <td>0.953260</td>\n",
              "      <td>29:09</td>\n",
              "    </tr>\n",
              "    <tr>\n",
              "      <td>1</td>\n",
              "      <td>0.083285</td>\n",
              "      <td>0.125580</td>\n",
              "      <td>0.952507</td>\n",
              "      <td>01:45</td>\n",
              "    </tr>\n",
              "    <tr>\n",
              "      <td>2</td>\n",
              "      <td>0.064182</td>\n",
              "      <td>0.073570</td>\n",
              "      <td>0.968449</td>\n",
              "      <td>01:44</td>\n",
              "    </tr>\n",
              "    <tr>\n",
              "      <td>3</td>\n",
              "      <td>0.037346</td>\n",
              "      <td>0.059015</td>\n",
              "      <td>0.975060</td>\n",
              "      <td>01:45</td>\n",
              "    </tr>\n",
              "    <tr>\n",
              "      <td>4</td>\n",
              "      <td>0.022727</td>\n",
              "      <td>0.055785</td>\n",
              "      <td>0.977404</td>\n",
              "      <td>01:45</td>\n",
              "    </tr>\n",
              "  </tbody>\n",
              "</table>"
            ],
            "text/plain": [
              "<IPython.core.display.HTML object>"
            ]
          },
          "metadata": {}
        }
      ],
      "source": [
        "learnGC.save('GC')\n",
        "learnGC.export(Path(path/'GateCrashMulti.pkl'))\n",
        "dlsHP = actions.dataloaders(path/\"Hit Parade\")\n",
        "learnHP = cnn_learner(dlsHP, resnet50, metrics=partial(accuracy_multi, thresh=0.2))\n",
        "learnHP.load('GC')\n",
        "learnHP.unfreeze()\n",
        "learnHP.fit_one_cycle(5, lr_max=1e-2)"
      ]
    },
    {
      "cell_type": "code",
      "execution_count": null,
      "metadata": {
        "colab": {
          "base_uri": "https://localhost:8080/",
          "height": 206
        },
        "id": "7Oubnh0Ji1So",
        "outputId": "08781b31-00a9-48e7-db2e-e3900d556847"
      },
      "outputs": [
        {
          "output_type": "display_data",
          "data": {
            "text/html": [
              "\n",
              "<style>\n",
              "    /* Turns off some styling */\n",
              "    progress {\n",
              "        /* gets rid of default border in Firefox and Opera. */\n",
              "        border: none;\n",
              "        /* Needs to be in here for Safari polyfill so background images work as expected. */\n",
              "        background-size: auto;\n",
              "    }\n",
              "    .progress-bar-interrupted, .progress-bar-interrupted::-webkit-progress-bar {\n",
              "        background: #F44336;\n",
              "    }\n",
              "</style>\n"
            ],
            "text/plain": [
              "<IPython.core.display.HTML object>"
            ]
          },
          "metadata": {}
        },
        {
          "output_type": "display_data",
          "data": {
            "text/html": [
              "<table border=\"1\" class=\"dataframe\">\n",
              "  <thead>\n",
              "    <tr style=\"text-align: left;\">\n",
              "      <th>epoch</th>\n",
              "      <th>train_loss</th>\n",
              "      <th>valid_loss</th>\n",
              "      <th>accuracy_multi</th>\n",
              "      <th>time</th>\n",
              "    </tr>\n",
              "  </thead>\n",
              "  <tbody>\n",
              "    <tr>\n",
              "      <td>0</td>\n",
              "      <td>0.197624</td>\n",
              "      <td>0.146391</td>\n",
              "      <td>0.923513</td>\n",
              "      <td>20:58</td>\n",
              "    </tr>\n",
              "    <tr>\n",
              "      <td>1</td>\n",
              "      <td>0.121044</td>\n",
              "      <td>0.129749</td>\n",
              "      <td>0.947852</td>\n",
              "      <td>01:16</td>\n",
              "    </tr>\n",
              "    <tr>\n",
              "      <td>2</td>\n",
              "      <td>0.083022</td>\n",
              "      <td>0.111927</td>\n",
              "      <td>0.949934</td>\n",
              "      <td>01:16</td>\n",
              "    </tr>\n",
              "    <tr>\n",
              "      <td>3</td>\n",
              "      <td>0.042926</td>\n",
              "      <td>0.085363</td>\n",
              "      <td>0.970688</td>\n",
              "      <td>01:16</td>\n",
              "    </tr>\n",
              "    <tr>\n",
              "      <td>4</td>\n",
              "      <td>0.024259</td>\n",
              "      <td>0.092966</td>\n",
              "      <td>0.973117</td>\n",
              "      <td>01:16</td>\n",
              "    </tr>\n",
              "  </tbody>\n",
              "</table>"
            ],
            "text/plain": [
              "<IPython.core.display.HTML object>"
            ]
          },
          "metadata": {}
        }
      ],
      "source": [
        "learnHP.save('HP')\n",
        "learnHP.export(Path(path/'HitParadeMulti.pkl'))\n",
        "dlsKF = actions.dataloaders(path/\"Knight Fever\")\n",
        "learnKF = cnn_learner(dlsKF, resnet50, metrics=partial(accuracy_multi, thresh=0.2))\n",
        "learnKF.load('HP')\n",
        "learnKF.unfreeze()\n",
        "learnKF.fit_one_cycle(5, lr_max=1e-2)"
      ]
    },
    {
      "cell_type": "code",
      "execution_count": null,
      "metadata": {
        "colab": {
          "base_uri": "https://localhost:8080/",
          "height": 206
        },
        "id": "fe_8fG5ni1So",
        "outputId": "1ed09386-1ba7-46c0-be1b-3eaa42949e52"
      },
      "outputs": [
        {
          "output_type": "display_data",
          "data": {
            "text/html": [
              "\n",
              "<style>\n",
              "    /* Turns off some styling */\n",
              "    progress {\n",
              "        /* gets rid of default border in Firefox and Opera. */\n",
              "        border: none;\n",
              "        /* Needs to be in here for Safari polyfill so background images work as expected. */\n",
              "        background-size: auto;\n",
              "    }\n",
              "    .progress-bar-interrupted, .progress-bar-interrupted::-webkit-progress-bar {\n",
              "        background: #F44336;\n",
              "    }\n",
              "</style>\n"
            ],
            "text/plain": [
              "<IPython.core.display.HTML object>"
            ]
          },
          "metadata": {}
        },
        {
          "output_type": "display_data",
          "data": {
            "text/html": [
              "<table border=\"1\" class=\"dataframe\">\n",
              "  <thead>\n",
              "    <tr style=\"text-align: left;\">\n",
              "      <th>epoch</th>\n",
              "      <th>train_loss</th>\n",
              "      <th>valid_loss</th>\n",
              "      <th>accuracy_multi</th>\n",
              "      <th>time</th>\n",
              "    </tr>\n",
              "  </thead>\n",
              "  <tbody>\n",
              "    <tr>\n",
              "      <td>0</td>\n",
              "      <td>0.325492</td>\n",
              "      <td>0.248917</td>\n",
              "      <td>0.847253</td>\n",
              "      <td>19:58</td>\n",
              "    </tr>\n",
              "    <tr>\n",
              "      <td>1</td>\n",
              "      <td>0.212196</td>\n",
              "      <td>0.454835</td>\n",
              "      <td>0.867380</td>\n",
              "      <td>01:16</td>\n",
              "    </tr>\n",
              "    <tr>\n",
              "      <td>2</td>\n",
              "      <td>0.160505</td>\n",
              "      <td>0.254062</td>\n",
              "      <td>0.876402</td>\n",
              "      <td>01:16</td>\n",
              "    </tr>\n",
              "    <tr>\n",
              "      <td>3</td>\n",
              "      <td>0.092561</td>\n",
              "      <td>0.158774</td>\n",
              "      <td>0.929208</td>\n",
              "      <td>01:16</td>\n",
              "    </tr>\n",
              "    <tr>\n",
              "      <td>4</td>\n",
              "      <td>0.052648</td>\n",
              "      <td>0.156077</td>\n",
              "      <td>0.933545</td>\n",
              "      <td>01:16</td>\n",
              "    </tr>\n",
              "  </tbody>\n",
              "</table>"
            ],
            "text/plain": [
              "<IPython.core.display.HTML object>"
            ]
          },
          "metadata": {}
        }
      ],
      "source": [
        "learnKF.save('KF')\n",
        "learnKF.export(Path(path/'KnightFeverMulti.pkl'))\n",
        "dlsLL = actions.dataloaders(path/\"Lily Leapers\")\n",
        "learnLL = cnn_learner(dlsLL, resnet50, metrics=partial(accuracy_multi, thresh=0.2))\n",
        "learnLL.load('KF')\n",
        "learnLL.unfreeze()\n",
        "learnLL.fit_one_cycle(5, lr_max=1e-2)"
      ]
    },
    {
      "cell_type": "code",
      "execution_count": null,
      "metadata": {
        "colab": {
          "base_uri": "https://localhost:8080/",
          "height": 206
        },
        "id": "3KlqKh9Wi1So",
        "outputId": "a15426c8-62c9-443a-8ad1-14217008a513"
      },
      "outputs": [
        {
          "output_type": "display_data",
          "data": {
            "text/html": [
              "\n",
              "<style>\n",
              "    /* Turns off some styling */\n",
              "    progress {\n",
              "        /* gets rid of default border in Firefox and Opera. */\n",
              "        border: none;\n",
              "        /* Needs to be in here for Safari polyfill so background images work as expected. */\n",
              "        background-size: auto;\n",
              "    }\n",
              "    .progress-bar-interrupted, .progress-bar-interrupted::-webkit-progress-bar {\n",
              "        background: #F44336;\n",
              "    }\n",
              "</style>\n"
            ],
            "text/plain": [
              "<IPython.core.display.HTML object>"
            ]
          },
          "metadata": {}
        },
        {
          "output_type": "display_data",
          "data": {
            "text/html": [
              "<table border=\"1\" class=\"dataframe\">\n",
              "  <thead>\n",
              "    <tr style=\"text-align: left;\">\n",
              "      <th>epoch</th>\n",
              "      <th>train_loss</th>\n",
              "      <th>valid_loss</th>\n",
              "      <th>accuracy_multi</th>\n",
              "      <th>time</th>\n",
              "    </tr>\n",
              "  </thead>\n",
              "  <tbody>\n",
              "    <tr>\n",
              "      <td>0</td>\n",
              "      <td>0.216087</td>\n",
              "      <td>0.216857</td>\n",
              "      <td>0.886710</td>\n",
              "      <td>1:02:41</td>\n",
              "    </tr>\n",
              "    <tr>\n",
              "      <td>1</td>\n",
              "      <td>0.176036</td>\n",
              "      <td>0.253935</td>\n",
              "      <td>0.895691</td>\n",
              "      <td>03:49</td>\n",
              "    </tr>\n",
              "    <tr>\n",
              "      <td>2</td>\n",
              "      <td>0.138542</td>\n",
              "      <td>0.134500</td>\n",
              "      <td>0.925795</td>\n",
              "      <td>03:48</td>\n",
              "    </tr>\n",
              "    <tr>\n",
              "      <td>3</td>\n",
              "      <td>0.089983</td>\n",
              "      <td>0.107083</td>\n",
              "      <td>0.946668</td>\n",
              "      <td>03:48</td>\n",
              "    </tr>\n",
              "    <tr>\n",
              "      <td>4</td>\n",
              "      <td>0.060479</td>\n",
              "      <td>0.115609</td>\n",
              "      <td>0.948659</td>\n",
              "      <td>03:48</td>\n",
              "    </tr>\n",
              "  </tbody>\n",
              "</table>"
            ],
            "text/plain": [
              "<IPython.core.display.HTML object>"
            ]
          },
          "metadata": {}
        }
      ],
      "source": [
        "learnLL.save('LL')\n",
        "learnLL.export(Path(path/'LilyLeapersMulti.pkl'))\n",
        "dlsPP = actions.dataloaders(path/\"Party Promenade\")\n",
        "learnPP = cnn_learner(dlsPP, resnet50, metrics=partial(accuracy_multi, thresh=0.2))\n",
        "learnPP.load('LL')\n",
        "learnPP.unfreeze()\n",
        "learnPP.fit_one_cycle(5, lr_max=1e-2)"
      ]
    },
    {
      "cell_type": "code",
      "execution_count": null,
      "metadata": {
        "colab": {
          "base_uri": "https://localhost:8080/",
          "height": 206
        },
        "id": "JcA_3ASTi1Sp",
        "outputId": "acfb326b-0baa-4b68-a5c7-81f5f90a6e12"
      },
      "outputs": [
        {
          "output_type": "display_data",
          "data": {
            "text/html": [
              "\n",
              "<style>\n",
              "    /* Turns off some styling */\n",
              "    progress {\n",
              "        /* gets rid of default border in Firefox and Opera. */\n",
              "        border: none;\n",
              "        /* Needs to be in here for Safari polyfill so background images work as expected. */\n",
              "        background-size: auto;\n",
              "    }\n",
              "    .progress-bar-interrupted, .progress-bar-interrupted::-webkit-progress-bar {\n",
              "        background: #F44336;\n",
              "    }\n",
              "</style>\n"
            ],
            "text/plain": [
              "<IPython.core.display.HTML object>"
            ]
          },
          "metadata": {}
        },
        {
          "output_type": "display_data",
          "data": {
            "text/html": [
              "<table border=\"1\" class=\"dataframe\">\n",
              "  <thead>\n",
              "    <tr style=\"text-align: left;\">\n",
              "      <th>epoch</th>\n",
              "      <th>train_loss</th>\n",
              "      <th>valid_loss</th>\n",
              "      <th>accuracy_multi</th>\n",
              "      <th>time</th>\n",
              "    </tr>\n",
              "  </thead>\n",
              "  <tbody>\n",
              "    <tr>\n",
              "      <td>0</td>\n",
              "      <td>0.234087</td>\n",
              "      <td>0.209589</td>\n",
              "      <td>0.901885</td>\n",
              "      <td>25:00</td>\n",
              "    </tr>\n",
              "    <tr>\n",
              "      <td>1</td>\n",
              "      <td>0.170765</td>\n",
              "      <td>0.253732</td>\n",
              "      <td>0.882540</td>\n",
              "      <td>01:28</td>\n",
              "    </tr>\n",
              "    <tr>\n",
              "      <td>2</td>\n",
              "      <td>0.116432</td>\n",
              "      <td>0.262711</td>\n",
              "      <td>0.911061</td>\n",
              "      <td>01:29</td>\n",
              "    </tr>\n",
              "    <tr>\n",
              "      <td>3</td>\n",
              "      <td>0.074628</td>\n",
              "      <td>0.101337</td>\n",
              "      <td>0.953571</td>\n",
              "      <td>01:29</td>\n",
              "    </tr>\n",
              "    <tr>\n",
              "      <td>4</td>\n",
              "      <td>0.050780</td>\n",
              "      <td>0.094414</td>\n",
              "      <td>0.956300</td>\n",
              "      <td>01:29</td>\n",
              "    </tr>\n",
              "  </tbody>\n",
              "</table>"
            ],
            "text/plain": [
              "<IPython.core.display.HTML object>"
            ]
          },
          "metadata": {}
        }
      ],
      "source": [
        "learnPP.save('PP')\n",
        "learnPP.export(Path(path/'PartyPromenadeMulti.pkl'))\n",
        "dlsRO = actions.dataloaders(path/\"Roll On\")\n",
        "learnRO = cnn_learner(dlsRO, resnet50, metrics=partial(accuracy_multi, thresh=0.2))\n",
        "learnRO.load('PP')\n",
        "learnRO.unfreeze()\n",
        "learnRO.fit_one_cycle(5, lr_max=1e-2)"
      ]
    },
    {
      "cell_type": "code",
      "execution_count": null,
      "metadata": {
        "colab": {
          "base_uri": "https://localhost:8080/",
          "height": 206
        },
        "id": "btlSvYu3i1Sp",
        "outputId": "f2fbb4cf-19bf-43b5-c5a4-d9db49ec2adc"
      },
      "outputs": [
        {
          "output_type": "display_data",
          "data": {
            "text/html": [
              "\n",
              "<style>\n",
              "    /* Turns off some styling */\n",
              "    progress {\n",
              "        /* gets rid of default border in Firefox and Opera. */\n",
              "        border: none;\n",
              "        /* Needs to be in here for Safari polyfill so background images work as expected. */\n",
              "        background-size: auto;\n",
              "    }\n",
              "    .progress-bar-interrupted, .progress-bar-interrupted::-webkit-progress-bar {\n",
              "        background: #F44336;\n",
              "    }\n",
              "</style>\n"
            ],
            "text/plain": [
              "<IPython.core.display.HTML object>"
            ]
          },
          "metadata": {}
        },
        {
          "output_type": "display_data",
          "data": {
            "text/html": [
              "<table border=\"1\" class=\"dataframe\">\n",
              "  <thead>\n",
              "    <tr style=\"text-align: left;\">\n",
              "      <th>epoch</th>\n",
              "      <th>train_loss</th>\n",
              "      <th>valid_loss</th>\n",
              "      <th>accuracy_multi</th>\n",
              "      <th>time</th>\n",
              "    </tr>\n",
              "  </thead>\n",
              "  <tbody>\n",
              "    <tr>\n",
              "      <td>0</td>\n",
              "      <td>0.158951</td>\n",
              "      <td>0.372705</td>\n",
              "      <td>0.870167</td>\n",
              "      <td>51:28</td>\n",
              "    </tr>\n",
              "    <tr>\n",
              "      <td>1</td>\n",
              "      <td>0.123683</td>\n",
              "      <td>0.119932</td>\n",
              "      <td>0.941824</td>\n",
              "      <td>03:02</td>\n",
              "    </tr>\n",
              "    <tr>\n",
              "      <td>2</td>\n",
              "      <td>0.089845</td>\n",
              "      <td>0.320549</td>\n",
              "      <td>0.908831</td>\n",
              "      <td>03:02</td>\n",
              "    </tr>\n",
              "    <tr>\n",
              "      <td>3</td>\n",
              "      <td>0.053716</td>\n",
              "      <td>0.232721</td>\n",
              "      <td>0.932596</td>\n",
              "      <td>03:03</td>\n",
              "    </tr>\n",
              "    <tr>\n",
              "      <td>4</td>\n",
              "      <td>0.033191</td>\n",
              "      <td>0.053346</td>\n",
              "      <td>0.977436</td>\n",
              "      <td>03:03</td>\n",
              "    </tr>\n",
              "  </tbody>\n",
              "</table>"
            ],
            "text/plain": [
              "<IPython.core.display.HTML object>"
            ]
          },
          "metadata": {}
        }
      ],
      "source": [
        "learnRO.save('RO')\n",
        "learnRO.export(Path(path/'RollOnMulti.pkl'))\n",
        "dlsSS = actions.dataloaders(path/\"See Saw\")\n",
        "learnSS = cnn_learner(dlsSS, resnet50, metrics=partial(accuracy_multi, thresh=0.2))\n",
        "learnSS.load('RO')\n",
        "learnSS.unfreeze()\n",
        "learnSS.fit_one_cycle(5, lr_max=1e-2)"
      ]
    },
    {
      "cell_type": "code",
      "execution_count": null,
      "metadata": {
        "colab": {
          "base_uri": "https://localhost:8080/",
          "height": 206
        },
        "id": "s3ievjw8i1Sp",
        "outputId": "3007455f-5db8-4751-ca5c-bde83af9786f"
      },
      "outputs": [
        {
          "output_type": "display_data",
          "data": {
            "text/html": [
              "\n",
              "<style>\n",
              "    /* Turns off some styling */\n",
              "    progress {\n",
              "        /* gets rid of default border in Firefox and Opera. */\n",
              "        border: none;\n",
              "        /* Needs to be in here for Safari polyfill so background images work as expected. */\n",
              "        background-size: auto;\n",
              "    }\n",
              "    .progress-bar-interrupted, .progress-bar-interrupted::-webkit-progress-bar {\n",
              "        background: #F44336;\n",
              "    }\n",
              "</style>\n"
            ],
            "text/plain": [
              "<IPython.core.display.HTML object>"
            ]
          },
          "metadata": {}
        },
        {
          "output_type": "display_data",
          "data": {
            "text/html": [
              "<table border=\"1\" class=\"dataframe\">\n",
              "  <thead>\n",
              "    <tr style=\"text-align: left;\">\n",
              "      <th>epoch</th>\n",
              "      <th>train_loss</th>\n",
              "      <th>valid_loss</th>\n",
              "      <th>accuracy_multi</th>\n",
              "      <th>time</th>\n",
              "    </tr>\n",
              "  </thead>\n",
              "  <tbody>\n",
              "    <tr>\n",
              "      <td>0</td>\n",
              "      <td>0.320797</td>\n",
              "      <td>0.925788</td>\n",
              "      <td>0.792302</td>\n",
              "      <td>22:08</td>\n",
              "    </tr>\n",
              "    <tr>\n",
              "      <td>1</td>\n",
              "      <td>0.200075</td>\n",
              "      <td>9.556083</td>\n",
              "      <td>0.805587</td>\n",
              "      <td>01:20</td>\n",
              "    </tr>\n",
              "    <tr>\n",
              "      <td>2</td>\n",
              "      <td>0.145594</td>\n",
              "      <td>0.153331</td>\n",
              "      <td>0.917500</td>\n",
              "      <td>01:20</td>\n",
              "    </tr>\n",
              "    <tr>\n",
              "      <td>3</td>\n",
              "      <td>0.091800</td>\n",
              "      <td>0.127898</td>\n",
              "      <td>0.939150</td>\n",
              "      <td>01:20</td>\n",
              "    </tr>\n",
              "    <tr>\n",
              "      <td>4</td>\n",
              "      <td>0.058212</td>\n",
              "      <td>0.120348</td>\n",
              "      <td>0.948445</td>\n",
              "      <td>01:20</td>\n",
              "    </tr>\n",
              "  </tbody>\n",
              "</table>"
            ],
            "text/plain": [
              "<IPython.core.display.HTML object>"
            ]
          },
          "metadata": {}
        }
      ],
      "source": [
        "learnSS.save('SS')\n",
        "learnSS.export(Path(path/'SeeSawMulti.pkl'))\n",
        "dlsSSt = actions.dataloaders(path/\"Skyline Stumble\")\n",
        "learnSSt = cnn_learner(dlsSSt, resnet50, metrics=partial(accuracy_multi, thresh=0.2))\n",
        "learnSSt.load('SS')\n",
        "learnSSt.unfreeze()\n",
        "learnSSt.fit_one_cycle(5, lr_max=1e-2)"
      ]
    },
    {
      "cell_type": "code",
      "execution_count": null,
      "metadata": {
        "colab": {
          "base_uri": "https://localhost:8080/",
          "height": 206
        },
        "id": "8ps2dCaji1Sq",
        "outputId": "8d8ec1a4-2c6d-4236-e804-70c86b7e675f"
      },
      "outputs": [
        {
          "output_type": "display_data",
          "data": {
            "text/html": [
              "\n",
              "<style>\n",
              "    /* Turns off some styling */\n",
              "    progress {\n",
              "        /* gets rid of default border in Firefox and Opera. */\n",
              "        border: none;\n",
              "        /* Needs to be in here for Safari polyfill so background images work as expected. */\n",
              "        background-size: auto;\n",
              "    }\n",
              "    .progress-bar-interrupted, .progress-bar-interrupted::-webkit-progress-bar {\n",
              "        background: #F44336;\n",
              "    }\n",
              "</style>\n"
            ],
            "text/plain": [
              "<IPython.core.display.HTML object>"
            ]
          },
          "metadata": {}
        },
        {
          "output_type": "display_data",
          "data": {
            "text/html": [
              "<table border=\"1\" class=\"dataframe\">\n",
              "  <thead>\n",
              "    <tr style=\"text-align: left;\">\n",
              "      <th>epoch</th>\n",
              "      <th>train_loss</th>\n",
              "      <th>valid_loss</th>\n",
              "      <th>accuracy_multi</th>\n",
              "      <th>time</th>\n",
              "    </tr>\n",
              "  </thead>\n",
              "  <tbody>\n",
              "    <tr>\n",
              "      <td>0</td>\n",
              "      <td>0.181939</td>\n",
              "      <td>0.139388</td>\n",
              "      <td>0.934910</td>\n",
              "      <td>23:56</td>\n",
              "    </tr>\n",
              "    <tr>\n",
              "      <td>1</td>\n",
              "      <td>0.110045</td>\n",
              "      <td>0.160235</td>\n",
              "      <td>0.945020</td>\n",
              "      <td>01:27</td>\n",
              "    </tr>\n",
              "    <tr>\n",
              "      <td>2</td>\n",
              "      <td>0.077800</td>\n",
              "      <td>0.486065</td>\n",
              "      <td>0.933451</td>\n",
              "      <td>01:27</td>\n",
              "    </tr>\n",
              "    <tr>\n",
              "      <td>3</td>\n",
              "      <td>0.043370</td>\n",
              "      <td>0.069004</td>\n",
              "      <td>0.970423</td>\n",
              "      <td>01:27</td>\n",
              "    </tr>\n",
              "    <tr>\n",
              "      <td>4</td>\n",
              "      <td>0.024140</td>\n",
              "      <td>0.064849</td>\n",
              "      <td>0.973189</td>\n",
              "      <td>01:27</td>\n",
              "    </tr>\n",
              "  </tbody>\n",
              "</table>"
            ],
            "text/plain": [
              "<IPython.core.display.HTML object>"
            ]
          },
          "metadata": {}
        }
      ],
      "source": [
        "learnSSt.save('SSt')\n",
        "learnSSt.export(Path(path/'SkylineStumbleMulti.pkl'))\n",
        "dlsTW = actions.dataloaders(path/\"The Whirlygig\")\n",
        "learnTW = cnn_learner(dlsTW, resnet50, metrics=partial(accuracy_multi, thresh=0.2))\n",
        "learnTW.load('SSt')\n",
        "learnTW.unfreeze()\n",
        "learnTW.fit_one_cycle(5, lr_max=1e-2)"
      ]
    },
    {
      "cell_type": "code",
      "execution_count": null,
      "metadata": {
        "colab": {
          "base_uri": "https://localhost:8080/",
          "height": 206
        },
        "id": "af468YAVi1Sq",
        "outputId": "7bd012b9-7fe4-4acf-dfd0-4f503ee676e1"
      },
      "outputs": [
        {
          "output_type": "display_data",
          "data": {
            "text/html": [
              "\n",
              "<style>\n",
              "    /* Turns off some styling */\n",
              "    progress {\n",
              "        /* gets rid of default border in Firefox and Opera. */\n",
              "        border: none;\n",
              "        /* Needs to be in here for Safari polyfill so background images work as expected. */\n",
              "        background-size: auto;\n",
              "    }\n",
              "    .progress-bar-interrupted, .progress-bar-interrupted::-webkit-progress-bar {\n",
              "        background: #F44336;\n",
              "    }\n",
              "</style>\n"
            ],
            "text/plain": [
              "<IPython.core.display.HTML object>"
            ]
          },
          "metadata": {}
        },
        {
          "output_type": "display_data",
          "data": {
            "text/html": [
              "<table border=\"1\" class=\"dataframe\">\n",
              "  <thead>\n",
              "    <tr style=\"text-align: left;\">\n",
              "      <th>epoch</th>\n",
              "      <th>train_loss</th>\n",
              "      <th>valid_loss</th>\n",
              "      <th>accuracy_multi</th>\n",
              "      <th>time</th>\n",
              "    </tr>\n",
              "  </thead>\n",
              "  <tbody>\n",
              "    <tr>\n",
              "      <td>0</td>\n",
              "      <td>0.224802</td>\n",
              "      <td>1.051410</td>\n",
              "      <td>0.867344</td>\n",
              "      <td>25:56</td>\n",
              "    </tr>\n",
              "    <tr>\n",
              "      <td>1</td>\n",
              "      <td>0.139596</td>\n",
              "      <td>155.423874</td>\n",
              "      <td>0.805587</td>\n",
              "      <td>01:35</td>\n",
              "    </tr>\n",
              "    <tr>\n",
              "      <td>2</td>\n",
              "      <td>0.095385</td>\n",
              "      <td>0.117249</td>\n",
              "      <td>0.949915</td>\n",
              "      <td>01:35</td>\n",
              "    </tr>\n",
              "    <tr>\n",
              "      <td>3</td>\n",
              "      <td>0.050210</td>\n",
              "      <td>0.105787</td>\n",
              "      <td>0.961081</td>\n",
              "      <td>01:35</td>\n",
              "    </tr>\n",
              "    <tr>\n",
              "      <td>4</td>\n",
              "      <td>0.028719</td>\n",
              "      <td>0.081647</td>\n",
              "      <td>0.969398</td>\n",
              "      <td>01:35</td>\n",
              "    </tr>\n",
              "  </tbody>\n",
              "</table>"
            ],
            "text/plain": [
              "<IPython.core.display.HTML object>"
            ]
          },
          "metadata": {}
        }
      ],
      "source": [
        "learnTW.save('TW')\n",
        "learnTW.export(Path(path/'TheWhirlygigMulti.pkl'))\n",
        "dlsTT = actions.dataloaders(path/\"Treetop Tumble\")\n",
        "learnTT = cnn_learner(dlsTT, resnet50, metrics=partial(accuracy_multi, thresh=0.2))\n",
        "learnTT.load('TW')\n",
        "learnTT.unfreeze()\n",
        "learnTT.fit_one_cycle(5, lr_max=1e-2)"
      ]
    },
    {
      "cell_type": "code",
      "execution_count": null,
      "metadata": {
        "colab": {
          "base_uri": "https://localhost:8080/",
          "height": 206
        },
        "id": "hfsHXZtYi1Sq",
        "outputId": "98f3d145-d0a0-47a2-f640-f7be9ca10000"
      },
      "outputs": [
        {
          "output_type": "display_data",
          "data": {
            "text/html": [
              "\n",
              "<style>\n",
              "    /* Turns off some styling */\n",
              "    progress {\n",
              "        /* gets rid of default border in Firefox and Opera. */\n",
              "        border: none;\n",
              "        /* Needs to be in here for Safari polyfill so background images work as expected. */\n",
              "        background-size: auto;\n",
              "    }\n",
              "    .progress-bar-interrupted, .progress-bar-interrupted::-webkit-progress-bar {\n",
              "        background: #F44336;\n",
              "    }\n",
              "</style>\n"
            ],
            "text/plain": [
              "<IPython.core.display.HTML object>"
            ]
          },
          "metadata": {}
        },
        {
          "output_type": "display_data",
          "data": {
            "text/html": [
              "<table border=\"1\" class=\"dataframe\">\n",
              "  <thead>\n",
              "    <tr style=\"text-align: left;\">\n",
              "      <th>epoch</th>\n",
              "      <th>train_loss</th>\n",
              "      <th>valid_loss</th>\n",
              "      <th>accuracy_multi</th>\n",
              "      <th>time</th>\n",
              "    </tr>\n",
              "  </thead>\n",
              "  <tbody>\n",
              "    <tr>\n",
              "      <td>0</td>\n",
              "      <td>0.168782</td>\n",
              "      <td>537.505127</td>\n",
              "      <td>0.747117</td>\n",
              "      <td>25:15</td>\n",
              "    </tr>\n",
              "    <tr>\n",
              "      <td>1</td>\n",
              "      <td>0.115158</td>\n",
              "      <td>0.106146</td>\n",
              "      <td>0.950838</td>\n",
              "      <td>01:44</td>\n",
              "    </tr>\n",
              "    <tr>\n",
              "      <td>2</td>\n",
              "      <td>0.076517</td>\n",
              "      <td>0.112668</td>\n",
              "      <td>0.945871</td>\n",
              "      <td>01:44</td>\n",
              "    </tr>\n",
              "    <tr>\n",
              "      <td>3</td>\n",
              "      <td>0.046319</td>\n",
              "      <td>0.070451</td>\n",
              "      <td>0.971210</td>\n",
              "      <td>01:45</td>\n",
              "    </tr>\n",
              "    <tr>\n",
              "      <td>4</td>\n",
              "      <td>0.024634</td>\n",
              "      <td>0.067323</td>\n",
              "      <td>0.971462</td>\n",
              "      <td>01:44</td>\n",
              "    </tr>\n",
              "  </tbody>\n",
              "</table>"
            ],
            "text/plain": [
              "<IPython.core.display.HTML object>"
            ]
          },
          "metadata": {}
        }
      ],
      "source": [
        "learnTT.save('TT')\n",
        "learnTT.export(Path(path/'TreetopTumbleMulti.pkl'))\n",
        "dlsTR = actions.dataloaders(path/\"Tundra Run\")\n",
        "learnTR = cnn_learner(dlsTR, resnet50, metrics=partial(accuracy_multi, thresh=0.2))\n",
        "learnTR.load('TT')\n",
        "learnTR.unfreeze()\n",
        "learnTR.fit_one_cycle(5, lr_max=1e-2)"
      ]
    },
    {
      "cell_type": "code",
      "execution_count": null,
      "metadata": {
        "id": "6JW8Ecepi1Sr"
      },
      "outputs": [],
      "source": [
        "learnTR.export(Path(path/'TundraRunMulti.pkl'))"
      ]
    },
    {
      "cell_type": "markdown",
      "metadata": {
        "id": "PvPFzxrBzg45"
      },
      "source": [
        "## Model Interpretation"
      ]
    },
    {
      "cell_type": "code",
      "execution_count": null,
      "metadata": {
        "id": "Qkopc5cVzg46"
      },
      "outputs": [],
      "source": [
        "interp = ClassificationInterpretation.from_learner(learn)\n",
        "interp.plot_confusion_matrix(figsize=(12,12), dpi=60)"
      ]
    },
    {
      "cell_type": "code",
      "execution_count": null,
      "metadata": {
        "colab": {
          "base_uri": "https://localhost:8080/"
        },
        "id": "ZXAaF4Mszg46",
        "outputId": "4df4da04-d51a-4c37-fd7f-3b2691900265"
      },
      "outputs": [
        {
          "output_type": "execute_result",
          "data": {
            "text/plain": [
              "[('Down', 'Dive', 294), ('Dive', 'Down', 284)]"
            ]
          },
          "metadata": {},
          "execution_count": 28
        }
      ],
      "source": [
        "interp.most_confused(min_val=30)"
      ]
    },
    {
      "cell_type": "code",
      "source": [
        "learn = load_learner(Path(path/'BigFansMulti.pkl'))"
      ],
      "metadata": {
        "id": "cBZMeDgVv15K"
      },
      "execution_count": null,
      "outputs": []
    },
    {
      "cell_type": "code",
      "source": [
        "btn_upload = widgets.FileUpload()\n",
        "btn_upload"
      ],
      "metadata": {
        "colab": {
          "base_uri": "https://localhost:8080/",
          "height": 49,
          "referenced_widgets": [
            "4b43f85d00ed4e12938dfc35a8ac6009",
            "4650de38cae1440b836ff5f47e502a9c",
            "99621b444aac4fe393c68d79f8c61625"
          ]
        },
        "id": "nKcC8Gv96nXi",
        "outputId": "8253f031-f13f-4648-9c91-276e48935e07"
      },
      "execution_count": null,
      "outputs": [
        {
          "output_type": "display_data",
          "data": {
            "application/vnd.jupyter.widget-view+json": {
              "model_id": "4b43f85d00ed4e12938dfc35a8ac6009",
              "version_minor": 0,
              "version_major": 2
            },
            "text/plain": [
              "FileUpload(value={}, description='Upload')"
            ]
          },
          "metadata": {}
        }
      ]
    },
    {
      "cell_type": "code",
      "source": [
        "img = PILImage.create(btn_upload.data[-1])\n",
        "img"
      ],
      "metadata": {
        "colab": {
          "base_uri": "https://localhost:8080/",
          "height": 241
        },
        "id": "C4bhE5ik6kUF",
        "outputId": "b2f9c15a-95f6-4b7f-80e2-df930a5ead2e"
      },
      "execution_count": null,
      "outputs": [
        {
          "output_type": "execute_result",
          "data": {
            "image/png": "[encoded data removed]",
            "text/plain": [
              "PILImage mode=RGB size=224x224"
            ]
          },
          "metadata": {},
          "execution_count": 14
        }
      ]
    },
    {
      "cell_type": "code",
      "source": [
        "out_pl = widgets.Output()\n",
        "out_pl.clear_output()\n",
        "with out_pl: display(img.to_thumb(128,128))\n",
        "out_pl"
      ],
      "metadata": {
        "colab": {
          "base_uri": "https://localhost:8080/",
          "height": 145,
          "referenced_widgets": [
            "c15d2476f10048838331c07b0814d512",
            "9c74432323f5488b84f908b302b6f477"
          ]
        },
        "id": "YVp6dADF1euD",
        "outputId": "0bc5bd8c-2c94-48f9-e906-b496698429e3"
      },
      "execution_count": null,
      "outputs": [
        {
          "output_type": "display_data",
          "data": {
            "application/vnd.jupyter.widget-view+json": {
              "model_id": "c15d2476f10048838331c07b0814d512",
              "version_minor": 0,
              "version_major": 2
            },
            "text/plain": [
              "Output()"
            ]
          },
          "metadata": {}
        }
      ]
    },
    {
      "cell_type": "code",
      "source": [
        "pred,pred_idx,probs = learn.predict(img)"
      ],
      "metadata": {
        "colab": {
          "base_uri": "https://localhost:8080/",
          "height": 17
        },
        "id": "NDMAks461hcD",
        "outputId": "71425420-6e47-468c-b3a6-d0d716a48987"
      },
      "execution_count": null,
      "outputs": [
        {
          "output_type": "display_data",
          "data": {
            "text/html": [
              "\n",
              "<style>\n",
              "    /* Turns off some styling */\n",
              "    progress {\n",
              "        /* gets rid of default border in Firefox and Opera. */\n",
              "        border: none;\n",
              "        /* Needs to be in here for Safari polyfill so background images work as expected. */\n",
              "        background-size: auto;\n",
              "    }\n",
              "    .progress-bar-interrupted, .progress-bar-interrupted::-webkit-progress-bar {\n",
              "        background: #F44336;\n",
              "    }\n",
              "</style>\n"
            ],
            "text/plain": [
              "<IPython.core.display.HTML object>"
            ]
          },
          "metadata": {}
        },
        {
          "output_type": "display_data",
          "data": {
            "text/html": [
              ""
            ],
            "text/plain": [
              "<IPython.core.display.HTML object>"
            ]
          },
          "metadata": {}
        }
      ]
    },
    {
      "cell_type": "code",
      "source": [
        "lbl_pred = widgets.Label()\n",
        "# lbl_pred.value = f'Prediction: {pred}; Probability: {probs[pred_idx]:.04f}'\n",
        "pred, probs"
      ],
      "metadata": {
        "colab": {
          "base_uri": "https://localhost:8080/",
          "height": 54
        },
        "id": "APjP_1IW1kok",
        "outputId": "cc32bfb2-c95a-4b28-d8d4-e2fa7475eae4"
      },
      "execution_count": null,
      "outputs": [
        {
          "output_type": "execute_result",
          "data": {
            "text/plain": [
              "((#2) ['Jump','Up'],\n",
              " TensorBase([1.6823e-01, 1.2851e-06, 9.3227e-01, 1.6699e-02, 2.6355e-05, 7.0786e-02, 9.9976e-01]))"
            ]
          },
          "metadata": {},
          "execution_count": 19
        }
      ]
    }
  ],
  "metadata": {
    "accelerator": "GPU",
    "colab": {
      "collapsed_sections": [],
      "name": "Fallguys-multi.ipynb",
      "provenance": []
    },
    "jupytext": {
      "split_at_heading": true
    },
    "kernelspec": {
      "display_name": "Python 3",
      "language": "python",
      "name": "python3"
    },
    "widgets": {
      "application/vnd.jupyter.widget-state+json": {
        "6a9f98eba46b43bbaa42c560fc8ddb51": {
          "model_module": "@jupyter-widgets/controls",
          "model_name": "HBoxModel",
          "model_module_version": "1.5.0",
          "state": {
            "_view_name": "HBoxView",
            "_dom_classes": [],
            "_model_name": "HBoxModel",
            "_view_module": "@jupyter-widgets/controls",
            "_model_module_version": "1.5.0",
            "_view_count": null,
            "_view_module_version": "1.5.0",
            "box_style": "",
            "layout": "IPY_MODEL_1933ab13d7054d51ad93c21d2f430b86",
            "_model_module": "@jupyter-widgets/controls",
            "children": [
              "IPY_MODEL_a161285ae75244e9871e1f05a318a504",
              "IPY_MODEL_bf870a3db54143debadd32ad6b64c60a",
              "IPY_MODEL_d23312fb9c92465cbf1107bf205f6363"
            ]
          }
        },
        "1933ab13d7054d51ad93c21d2f430b86": {
          "model_module": "@jupyter-widgets/base",
          "model_name": "LayoutModel",
          "model_module_version": "1.2.0",
          "state": {
            "_view_name": "LayoutView",
            "grid_template_rows": null,
            "right": null,
            "justify_content": null,
            "_view_module": "@jupyter-widgets/base",
            "overflow": null,
            "_model_module_version": "1.2.0",
            "_view_count": null,
            "flex_flow": null,
            "width": null,
            "min_width": null,
            "border": null,
            "align_items": null,
            "bottom": null,
            "_model_module": "@jupyter-widgets/base",
            "top": null,
            "grid_column": null,
            "overflow_y": null,
            "overflow_x": null,
            "grid_auto_flow": null,
            "grid_area": null,
            "grid_template_columns": null,
            "flex": null,
            "_model_name": "LayoutModel",
            "justify_items": null,
            "grid_row": null,
            "max_height": null,
            "align_content": null,
            "visibility": null,
            "align_self": null,
            "height": null,
            "min_height": null,
            "padding": null,
            "grid_auto_rows": null,
            "grid_gap": null,
            "max_width": null,
            "order": null,
            "_view_module_version": "1.2.0",
            "grid_template_areas": null,
            "object_position": null,
            "object_fit": null,
            "grid_auto_columns": null,
            "margin": null,
            "display": null,
            "left": null
          }
        },
        "a161285ae75244e9871e1f05a318a504": {
          "model_module": "@jupyter-widgets/controls",
          "model_name": "HTMLModel",
          "model_module_version": "1.5.0",
          "state": {
            "_view_name": "HTMLView",
            "style": "IPY_MODEL_abc9984dca544e239d99d489f891b4ef",
            "_dom_classes": [],
            "description": "",
            "_model_name": "HTMLModel",
            "placeholder": "​",
            "_view_module": "@jupyter-widgets/controls",
            "_model_module_version": "1.5.0",
            "value": "100%",
            "_view_count": null,
            "_view_module_version": "1.5.0",
            "description_tooltip": null,
            "_model_module": "@jupyter-widgets/controls",
            "layout": "IPY_MODEL_59928ff2ccbc4f2d81b78eee7e38d528"
          }
        },
        "bf870a3db54143debadd32ad6b64c60a": {
          "model_module": "@jupyter-widgets/controls",
          "model_name": "FloatProgressModel",
          "model_module_version": "1.5.0",
          "state": {
            "_view_name": "ProgressView",
            "style": "IPY_MODEL_e973b764e3924edb9bc2cd48687103fb",
            "_dom_classes": [],
            "description": "",
            "_model_name": "FloatProgressModel",
            "bar_style": "success",
            "max": 102530333,
            "_view_module": "@jupyter-widgets/controls",
            "_model_module_version": "1.5.0",
            "value": 102530333,
            "_view_count": null,
            "_view_module_version": "1.5.0",
            "orientation": "horizontal",
            "min": 0,
            "description_tooltip": null,
            "_model_module": "@jupyter-widgets/controls",
            "layout": "IPY_MODEL_432d2f3015294b1d8e839e2f990967fc"
          }
        },
        "d23312fb9c92465cbf1107bf205f6363": {
          "model_module": "@jupyter-widgets/controls",
          "model_name": "HTMLModel",
          "model_module_version": "1.5.0",
          "state": {
            "_view_name": "HTMLView",
            "style": "IPY_MODEL_82c25fec3c7e4eac985bb41d320faea9",
            "_dom_classes": [],
            "description": "",
            "_model_name": "HTMLModel",
            "placeholder": "​",
            "_view_module": "@jupyter-widgets/controls",
            "_model_module_version": "1.5.0",
            "value": " 97.8M/97.8M [00:00&lt;00:00, 267MB/s]",
            "_view_count": null,
            "_view_module_version": "1.5.0",
            "description_tooltip": null,
            "_model_module": "@jupyter-widgets/controls",
            "layout": "IPY_MODEL_60c99725e1c04cc781d0eaabe05ca526"
          }
        },
        "abc9984dca544e239d99d489f891b4ef": {
          "model_module": "@jupyter-widgets/controls",
          "model_name": "DescriptionStyleModel",
          "model_module_version": "1.5.0",
          "state": {
            "_view_name": "StyleView",
            "_model_name": "DescriptionStyleModel",
            "description_width": "",
            "_view_module": "@jupyter-widgets/base",
            "_model_module_version": "1.5.0",
            "_view_count": null,
            "_view_module_version": "1.2.0",
            "_model_module": "@jupyter-widgets/controls"
          }
        },
        "59928ff2ccbc4f2d81b78eee7e38d528": {
          "model_module": "@jupyter-widgets/base",
          "model_name": "LayoutModel",
          "model_module_version": "1.2.0",
          "state": {
            "_view_name": "LayoutView",
            "grid_template_rows": null,
            "right": null,
            "justify_content": null,
            "_view_module": "@jupyter-widgets/base",
            "overflow": null,
            "_model_module_version": "1.2.0",
            "_view_count": null,
            "flex_flow": null,
            "width": null,
            "min_width": null,
            "border": null,
            "align_items": null,
            "bottom": null,
            "_model_module": "@jupyter-widgets/base",
            "top": null,
            "grid_column": null,
            "overflow_y": null,
            "overflow_x": null,
            "grid_auto_flow": null,
            "grid_area": null,
            "grid_template_columns": null,
            "flex": null,
            "_model_name": "LayoutModel",
            "justify_items": null,
            "grid_row": null,
            "max_height": null,
            "align_content": null,
            "visibility": null,
            "align_self": null,
            "height": null,
            "min_height": null,
            "padding": null,
            "grid_auto_rows": null,
            "grid_gap": null,
            "max_width": null,
            "order": null,
            "_view_module_version": "1.2.0",
            "grid_template_areas": null,
            "object_position": null,
            "object_fit": null,
            "grid_auto_columns": null,
            "margin": null,
            "display": null,
            "left": null
          }
        },
        "e973b764e3924edb9bc2cd48687103fb": {
          "model_module": "@jupyter-widgets/controls",
          "model_name": "ProgressStyleModel",
          "model_module_version": "1.5.0",
          "state": {
            "_view_name": "StyleView",
            "_model_name": "ProgressStyleModel",
            "description_width": "",
            "_view_module": "@jupyter-widgets/base",
            "_model_module_version": "1.5.0",
            "_view_count": null,
            "_view_module_version": "1.2.0",
            "bar_color": null,
            "_model_module": "@jupyter-widgets/controls"
          }
        },
        "432d2f3015294b1d8e839e2f990967fc": {
          "model_module": "@jupyter-widgets/base",
          "model_name": "LayoutModel",
          "model_module_version": "1.2.0",
          "state": {
            "_view_name": "LayoutView",
            "grid_template_rows": null,
            "right": null,
            "justify_content": null,
            "_view_module": "@jupyter-widgets/base",
            "overflow": null,
            "_model_module_version": "1.2.0",
            "_view_count": null,
            "flex_flow": null,
            "width": null,
            "min_width": null,
            "border": null,
            "align_items": null,
            "bottom": null,
            "_model_module": "@jupyter-widgets/base",
            "top": null,
            "grid_column": null,
            "overflow_y": null,
            "overflow_x": null,
            "grid_auto_flow": null,
            "grid_area": null,
            "grid_template_columns": null,
            "flex": null,
            "_model_name": "LayoutModel",
            "justify_items": null,
            "grid_row": null,
            "max_height": null,
            "align_content": null,
            "visibility": null,
            "align_self": null,
            "height": null,
            "min_height": null,
            "padding": null,
            "grid_auto_rows": null,
            "grid_gap": null,
            "max_width": null,
            "order": null,
            "_view_module_version": "1.2.0",
            "grid_template_areas": null,
            "object_position": null,
            "object_fit": null,
            "grid_auto_columns": null,
            "margin": null,
            "display": null,
            "left": null
          }
        },
        "82c25fec3c7e4eac985bb41d320faea9": {
          "model_module": "@jupyter-widgets/controls",
          "model_name": "DescriptionStyleModel",
          "model_module_version": "1.5.0",
          "state": {
            "_view_name": "StyleView",
            "_model_name": "DescriptionStyleModel",
            "description_width": "",
            "_view_module": "@jupyter-widgets/base",
            "_model_module_version": "1.5.0",
            "_view_count": null,
            "_view_module_version": "1.2.0",
            "_model_module": "@jupyter-widgets/controls"
          }
        },
        "60c99725e1c04cc781d0eaabe05ca526": {
          "model_module": "@jupyter-widgets/base",
          "model_name": "LayoutModel",
          "model_module_version": "1.2.0",
          "state": {
            "_view_name": "LayoutView",
            "grid_template_rows": null,
            "right": null,
            "justify_content": null,
            "_view_module": "@jupyter-widgets/base",
            "overflow": null,
            "_model_module_version": "1.2.0",
            "_view_count": null,
            "flex_flow": null,
            "width": null,
            "min_width": null,
            "border": null,
            "align_items": null,
            "bottom": null,
            "_model_module": "@jupyter-widgets/base",
            "top": null,
            "grid_column": null,
            "overflow_y": null,
            "overflow_x": null,
            "grid_auto_flow": null,
            "grid_area": null,
            "grid_template_columns": null,
            "flex": null,
            "_model_name": "LayoutModel",
            "justify_items": null,
            "grid_row": null,
            "max_height": null,
            "align_content": null,
            "visibility": null,
            "align_self": null,
            "height": null,
            "min_height": null,
            "padding": null,
            "grid_auto_rows": null,
            "grid_gap": null,
            "max_width": null,
            "order": null,
            "_view_module_version": "1.2.0",
            "grid_template_areas": null,
            "object_position": null,
            "object_fit": null,
            "grid_auto_columns": null,
            "margin": null,
            "display": null,
            "left": null
          }
        },
        "fcf70a634cb0465b9933a5c865bd819b": {
          "model_module": "@jupyter-widgets/controls",
          "model_name": "HBoxModel",
          "model_module_version": "1.5.0",
          "state": {
            "_view_name": "HBoxView",
            "_dom_classes": [],
            "_model_name": "HBoxModel",
            "_view_module": "@jupyter-widgets/controls",
            "_model_module_version": "1.5.0",
            "_view_count": null,
            "_view_module_version": "1.5.0",
            "box_style": "",
            "layout": "IPY_MODEL_154f02cd1e04476fb8f90ff85380f72f",
            "_model_module": "@jupyter-widgets/controls",
            "children": [
              "IPY_MODEL_26d193e289864f81b1cc5877bdfdcfa9",
              "IPY_MODEL_6833907df1ad4f978fb6e1eb79f8b230",
              "IPY_MODEL_ab4f632294d64d0787e6323a47b46ba3"
            ]
          }
        },
        "154f02cd1e04476fb8f90ff85380f72f": {
          "model_module": "@jupyter-widgets/base",
          "model_name": "LayoutModel",
          "model_module_version": "1.2.0",
          "state": {
            "_view_name": "LayoutView",
            "grid_template_rows": null,
            "right": null,
            "justify_content": null,
            "_view_module": "@jupyter-widgets/base",
            "overflow": null,
            "_model_module_version": "1.2.0",
            "_view_count": null,
            "flex_flow": null,
            "width": null,
            "min_width": null,
            "border": null,
            "align_items": null,
            "bottom": null,
            "_model_module": "@jupyter-widgets/base",
            "top": null,
            "grid_column": null,
            "overflow_y": null,
            "overflow_x": null,
            "grid_auto_flow": null,
            "grid_area": null,
            "grid_template_columns": null,
            "flex": null,
            "_model_name": "LayoutModel",
            "justify_items": null,
            "grid_row": null,
            "max_height": null,
            "align_content": null,
            "visibility": null,
            "align_self": null,
            "height": null,
            "min_height": null,
            "padding": null,
            "grid_auto_rows": null,
            "grid_gap": null,
            "max_width": null,
            "order": null,
            "_view_module_version": "1.2.0",
            "grid_template_areas": null,
            "object_position": null,
            "object_fit": null,
            "grid_auto_columns": null,
            "margin": null,
            "display": null,
            "left": null
          }
        },
        "26d193e289864f81b1cc5877bdfdcfa9": {
          "model_module": "@jupyter-widgets/controls",
          "model_name": "HTMLModel",
          "model_module_version": "1.5.0",
          "state": {
            "_view_name": "HTMLView",
            "style": "IPY_MODEL_c7ed31e145254f2fbd49a2845b0698d1",
            "_dom_classes": [],
            "description": "",
            "_model_name": "HTMLModel",
            "placeholder": "​",
            "_view_module": "@jupyter-widgets/controls",
            "_model_module_version": "1.5.0",
            "value": "100%",
            "_view_count": null,
            "_view_module_version": "1.5.0",
            "description_tooltip": null,
            "_model_module": "@jupyter-widgets/controls",
            "layout": "IPY_MODEL_8d05b3ad78cf4012849fad26320a97e9"
          }
        },
        "6833907df1ad4f978fb6e1eb79f8b230": {
          "model_module": "@jupyter-widgets/controls",
          "model_name": "FloatProgressModel",
          "model_module_version": "1.5.0",
          "state": {
            "_view_name": "ProgressView",
            "style": "IPY_MODEL_30700764c3ca4d88a3e118faf3264fb9",
            "_dom_classes": [],
            "description": "",
            "_model_name": "FloatProgressModel",
            "bar_style": "success",
            "max": 102530333,
            "_view_module": "@jupyter-widgets/controls",
            "_model_module_version": "1.5.0",
            "value": 102530333,
            "_view_count": null,
            "_view_module_version": "1.5.0",
            "orientation": "horizontal",
            "min": 0,
            "description_tooltip": null,
            "_model_module": "@jupyter-widgets/controls",
            "layout": "IPY_MODEL_319f10d000d843249166900fcecc5b97"
          }
        },
        "ab4f632294d64d0787e6323a47b46ba3": {
          "model_module": "@jupyter-widgets/controls",
          "model_name": "HTMLModel",
          "model_module_version": "1.5.0",
          "state": {
            "_view_name": "HTMLView",
            "style": "IPY_MODEL_c512fd6c474b4812980c8a3c1d3de8a9",
            "_dom_classes": [],
            "description": "",
            "_model_name": "HTMLModel",
            "placeholder": "​",
            "_view_module": "@jupyter-widgets/controls",
            "_model_module_version": "1.5.0",
            "value": " 97.8M/97.8M [00:01&lt;00:00, 86.1MB/s]",
            "_view_count": null,
            "_view_module_version": "1.5.0",
            "description_tooltip": null,
            "_model_module": "@jupyter-widgets/controls",
            "layout": "IPY_MODEL_7b38741141934960b9659454df74a62b"
          }
        },
        "c7ed31e145254f2fbd49a2845b0698d1": {
          "model_module": "@jupyter-widgets/controls",
          "model_name": "DescriptionStyleModel",
          "model_module_version": "1.5.0",
          "state": {
            "_view_name": "StyleView",
            "_model_name": "DescriptionStyleModel",
            "description_width": "",
            "_view_module": "@jupyter-widgets/base",
            "_model_module_version": "1.5.0",
            "_view_count": null,
            "_view_module_version": "1.2.0",
            "_model_module": "@jupyter-widgets/controls"
          }
        },
        "8d05b3ad78cf4012849fad26320a97e9": {
          "model_module": "@jupyter-widgets/base",
          "model_name": "LayoutModel",
          "model_module_version": "1.2.0",
          "state": {
            "_view_name": "LayoutView",
            "grid_template_rows": null,
            "right": null,
            "justify_content": null,
            "_view_module": "@jupyter-widgets/base",
            "overflow": null,
            "_model_module_version": "1.2.0",
            "_view_count": null,
            "flex_flow": null,
            "width": null,
            "min_width": null,
            "border": null,
            "align_items": null,
            "bottom": null,
            "_model_module": "@jupyter-widgets/base",
            "top": null,
            "grid_column": null,
            "overflow_y": null,
            "overflow_x": null,
            "grid_auto_flow": null,
            "grid_area": null,
            "grid_template_columns": null,
            "flex": null,
            "_model_name": "LayoutModel",
            "justify_items": null,
            "grid_row": null,
            "max_height": null,
            "align_content": null,
            "visibility": null,
            "align_self": null,
            "height": null,
            "min_height": null,
            "padding": null,
            "grid_auto_rows": null,
            "grid_gap": null,
            "max_width": null,
            "order": null,
            "_view_module_version": "1.2.0",
            "grid_template_areas": null,
            "object_position": null,
            "object_fit": null,
            "grid_auto_columns": null,
            "margin": null,
            "display": null,
            "left": null
          }
        },
        "30700764c3ca4d88a3e118faf3264fb9": {
          "model_module": "@jupyter-widgets/controls",
          "model_name": "ProgressStyleModel",
          "model_module_version": "1.5.0",
          "state": {
            "_view_name": "StyleView",
            "_model_name": "ProgressStyleModel",
            "description_width": "",
            "_view_module": "@jupyter-widgets/base",
            "_model_module_version": "1.5.0",
            "_view_count": null,
            "_view_module_version": "1.2.0",
            "bar_color": null,
            "_model_module": "@jupyter-widgets/controls"
          }
        },
        "319f10d000d843249166900fcecc5b97": {
          "model_module": "@jupyter-widgets/base",
          "model_name": "LayoutModel",
          "model_module_version": "1.2.0",
          "state": {
            "_view_name": "LayoutView",
            "grid_template_rows": null,
            "right": null,
            "justify_content": null,
            "_view_module": "@jupyter-widgets/base",
            "overflow": null,
            "_model_module_version": "1.2.0",
            "_view_count": null,
            "flex_flow": null,
            "width": null,
            "min_width": null,
            "border": null,
            "align_items": null,
            "bottom": null,
            "_model_module": "@jupyter-widgets/base",
            "top": null,
            "grid_column": null,
            "overflow_y": null,
            "overflow_x": null,
            "grid_auto_flow": null,
            "grid_area": null,
            "grid_template_columns": null,
            "flex": null,
            "_model_name": "LayoutModel",
            "justify_items": null,
            "grid_row": null,
            "max_height": null,
            "align_content": null,
            "visibility": null,
            "align_self": null,
            "height": null,
            "min_height": null,
            "padding": null,
            "grid_auto_rows": null,
            "grid_gap": null,
            "max_width": null,
            "order": null,
            "_view_module_version": "1.2.0",
            "grid_template_areas": null,
            "object_position": null,
            "object_fit": null,
            "grid_auto_columns": null,
            "margin": null,
            "display": null,
            "left": null
          }
        },
        "c512fd6c474b4812980c8a3c1d3de8a9": {
          "model_module": "@jupyter-widgets/controls",
          "model_name": "DescriptionStyleModel",
          "model_module_version": "1.5.0",
          "state": {
            "_view_name": "StyleView",
            "_model_name": "DescriptionStyleModel",
            "description_width": "",
            "_view_module": "@jupyter-widgets/base",
            "_model_module_version": "1.5.0",
            "_view_count": null,
            "_view_module_version": "1.2.0",
            "_model_module": "@jupyter-widgets/controls"
          }
        },
        "7b38741141934960b9659454df74a62b": {
          "model_module": "@jupyter-widgets/base",
          "model_name": "LayoutModel",
          "model_module_version": "1.2.0",
          "state": {
            "_view_name": "LayoutView",
            "grid_template_rows": null,
            "right": null,
            "justify_content": null,
            "_view_module": "@jupyter-widgets/base",
            "overflow": null,
            "_model_module_version": "1.2.0",
            "_view_count": null,
            "flex_flow": null,
            "width": null,
            "min_width": null,
            "border": null,
            "align_items": null,
            "bottom": null,
            "_model_module": "@jupyter-widgets/base",
            "top": null,
            "grid_column": null,
            "overflow_y": null,
            "overflow_x": null,
            "grid_auto_flow": null,
            "grid_area": null,
            "grid_template_columns": null,
            "flex": null,
            "_model_name": "LayoutModel",
            "justify_items": null,
            "grid_row": null,
            "max_height": null,
            "align_content": null,
            "visibility": null,
            "align_self": null,
            "height": null,
            "min_height": null,
            "padding": null,
            "grid_auto_rows": null,
            "grid_gap": null,
            "max_width": null,
            "order": null,
            "_view_module_version": "1.2.0",
            "grid_template_areas": null,
            "object_position": null,
            "object_fit": null,
            "grid_auto_columns": null,
            "margin": null,
            "display": null,
            "left": null
          }
        },
        "4b43f85d00ed4e12938dfc35a8ac6009": {
          "model_module": "@jupyter-widgets/controls",
          "model_name": "FileUploadModel",
          "model_module_version": "1.5.0",
          "state": {
            "_view_name": "FileUploadView",
            "_counter": 1,
            "style": "IPY_MODEL_4650de38cae1440b836ff5f47e502a9c",
            "_dom_classes": [],
            "description": "Upload",
            "multiple": false,
            "_model_name": "FileUploadModel",
            "data": [
              null
            ],
            "button_style": "",
            "_view_module": "@jupyter-widgets/controls",
            "_model_module_version": "1.5.0",
            "accept": "",
            "_view_count": null,
            "disabled": false,
            "_view_module_version": "1.5.0",
            "error": "",
            "description_tooltip": null,
            "metadata": [
              {
                "name": "10-1667.png",
                "type": "image/png",
                "size": 7360,
                "lastModified": 1646883389059
              }
            ],
            "_model_module": "@jupyter-widgets/controls",
            "layout": "IPY_MODEL_99621b444aac4fe393c68d79f8c61625",
            "icon": "upload"
          }
        },
        "4650de38cae1440b836ff5f47e502a9c": {
          "model_module": "@jupyter-widgets/controls",
          "model_name": "ButtonStyleModel",
          "model_module_version": "1.5.0",
          "state": {
            "_view_name": "StyleView",
            "_model_name": "ButtonStyleModel",
            "_view_module": "@jupyter-widgets/base",
            "_model_module_version": "1.5.0",
            "_view_count": null,
            "button_color": null,
            "font_weight": "",
            "_view_module_version": "1.2.0",
            "_model_module": "@jupyter-widgets/controls"
          }
        },
        "99621b444aac4fe393c68d79f8c61625": {
          "model_module": "@jupyter-widgets/base",
          "model_name": "LayoutModel",
          "model_module_version": "1.2.0",
          "state": {
            "_view_name": "LayoutView",
            "grid_template_rows": null,
            "right": null,
            "justify_content": null,
            "_view_module": "@jupyter-widgets/base",
            "overflow": null,
            "_model_module_version": "1.2.0",
            "_view_count": null,
            "flex_flow": null,
            "width": null,
            "min_width": null,
            "border": null,
            "align_items": null,
            "bottom": null,
            "_model_module": "@jupyter-widgets/base",
            "top": null,
            "grid_column": null,
            "overflow_y": null,
            "overflow_x": null,
            "grid_auto_flow": null,
            "grid_area": null,
            "grid_template_columns": null,
            "flex": null,
            "_model_name": "LayoutModel",
            "justify_items": null,
            "grid_row": null,
            "max_height": null,
            "align_content": null,
            "visibility": null,
            "align_self": null,
            "height": null,
            "min_height": null,
            "padding": null,
            "grid_auto_rows": null,
            "grid_gap": null,
            "max_width": null,
            "order": null,
            "_view_module_version": "1.2.0",
            "grid_template_areas": null,
            "object_position": null,
            "object_fit": null,
            "grid_auto_columns": null,
            "margin": null,
            "display": null,
            "left": null
          }
        },
        "c15d2476f10048838331c07b0814d512": {
          "model_module": "@jupyter-widgets/output",
          "model_name": "OutputModel",
          "model_module_version": "1.0.0",
          "state": {
            "_view_name": "OutputView",
            "msg_id": "",
            "_dom_classes": [],
            "_model_name": "OutputModel",
            "outputs": [
              {
                "output_type": "display_data",
                "data": {
                  "image/png": "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\n",
                  "text/plain": "<PIL.Image.Image image mode=RGB size=128x128 at 0x7FD096D081D0>"
                },
                "metadata": {}
              }
            ],
            "_view_module": "@jupyter-widgets/output",
            "_model_module_version": "1.0.0",
            "_view_count": null,
            "_view_module_version": "1.0.0",
            "layout": "IPY_MODEL_9c74432323f5488b84f908b302b6f477",
            "_model_module": "@jupyter-widgets/output"
          }
        },
        "9c74432323f5488b84f908b302b6f477": {
          "model_module": "@jupyter-widgets/base",
          "model_name": "LayoutModel",
          "model_module_version": "1.2.0",
          "state": {
            "_view_name": "LayoutView",
            "grid_template_rows": null,
            "right": null,
            "justify_content": null,
            "_view_module": "@jupyter-widgets/base",
            "overflow": null,
            "_model_module_version": "1.2.0",
            "_view_count": null,
            "flex_flow": null,
            "width": null,
            "min_width": null,
            "border": null,
            "align_items": null,
            "bottom": null,
            "_model_module": "@jupyter-widgets/base",
            "top": null,
            "grid_column": null,
            "overflow_y": null,
            "overflow_x": null,
            "grid_auto_flow": null,
            "grid_area": null,
            "grid_template_columns": null,
            "flex": null,
            "_model_name": "LayoutModel",
            "justify_items": null,
            "grid_row": null,
            "max_height": null,
            "align_content": null,
            "visibility": null,
            "align_self": null,
            "height": null,
            "min_height": null,
            "padding": null,
            "grid_auto_rows": null,
            "grid_gap": null,
            "max_width": null,
            "order": null,
            "_view_module_version": "1.2.0",
            "grid_template_areas": null,
            "object_position": null,
            "object_fit": null,
            "grid_auto_columns": null,
            "margin": null,
            "display": null,
            "left": null
          }
        }
      }
    }
  },
  "nbformat": 4,
  "nbformat_minor": 0
}